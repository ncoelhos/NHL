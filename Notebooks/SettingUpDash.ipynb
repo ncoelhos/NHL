{
 "cells": [
  {
   "cell_type": "markdown",
   "metadata": {},
   "source": [
    "<H1 align=\"center\"> 🏒 Project: NHL 🏒 </H1>\n",
    "\n",
    "Data for this project can be found in [this](https://www.kaggle.com/datasets/martinellis/nhl-game-data) kaggle link. According to the author:\n",
    "\n",
    "> The data represents all the official metrics measured for each game in the NHL (from 200 to 2019). I intend to update it semi-regularly depending on development progress of my database server.\n",
    "\n",
    "We loaded the data into a SQLite databse using the simple [DB Browser for SQLite](https://sqlitebrowser.org/).\n",
    "\n",
    "## Data preparation for Dash App\n",
    "\n",
    "We'll set up some functions, datastructures and data for our interactive Dash App."
   ]
  },
  {
   "cell_type": "code",
   "execution_count": 2,
   "metadata": {},
   "outputs": [],
   "source": [
    "import sqlite3 as sql\n",
    "import pandas as pd\n",
    "import plotly.express as px\n",
    "import plotly.graph_objects as go\n",
    "import base64\n",
    "import pickle"
   ]
  },
  {
   "cell_type": "code",
   "execution_count": 3,
   "metadata": {},
   "outputs": [],
   "source": [
    "import plotly.io as pio\n",
    "pio.templates.default = \"simple_white\""
   ]
  },
  {
   "cell_type": "markdown",
   "metadata": {},
   "source": [
    "# Connecting to Database"
   ]
  },
  {
   "cell_type": "code",
   "execution_count": 4,
   "metadata": {},
   "outputs": [],
   "source": [
    "con = sql.connect(\"nhl-data.db\")\n",
    "cur = con.cursor()"
   ]
  },
  {
   "cell_type": "markdown",
   "metadata": {},
   "source": [
    "# Setting up lookup dictionaries"
   ]
  },
  {
   "cell_type": "code",
   "execution_count": 5,
   "metadata": {},
   "outputs": [],
   "source": [
    "# team id to team name\n",
    "query = \"\"\"\n",
    "SELECT\n",
    "\tteam_id, shortName || ' ' || teamName AS name\n",
    "FROM\n",
    "\tteam_info\n",
    "ORDER BY\n",
    "\tteam_id ASC;\n",
    "\"\"\"\n",
    "df_teams = pd.read_sql(query, con)"
   ]
  },
  {
   "cell_type": "code",
   "execution_count": 6,
   "metadata": {},
   "outputs": [
    {
     "data": {
      "text/html": [
       "<div>\n",
       "<style scoped>\n",
       "    .dataframe tbody tr th:only-of-type {\n",
       "        vertical-align: middle;\n",
       "    }\n",
       "\n",
       "    .dataframe tbody tr th {\n",
       "        vertical-align: top;\n",
       "    }\n",
       "\n",
       "    .dataframe thead th {\n",
       "        text-align: right;\n",
       "    }\n",
       "</style>\n",
       "<table border=\"1\" class=\"dataframe\">\n",
       "  <thead>\n",
       "    <tr style=\"text-align: right;\">\n",
       "      <th></th>\n",
       "      <th>team_id</th>\n",
       "      <th>name</th>\n",
       "    </tr>\n",
       "  </thead>\n",
       "  <tbody>\n",
       "    <tr>\n",
       "      <th>0</th>\n",
       "      <td>1</td>\n",
       "      <td>New Jersey Devils</td>\n",
       "    </tr>\n",
       "    <tr>\n",
       "      <th>1</th>\n",
       "      <td>2</td>\n",
       "      <td>NY Islanders Islanders</td>\n",
       "    </tr>\n",
       "    <tr>\n",
       "      <th>2</th>\n",
       "      <td>3</td>\n",
       "      <td>NY Rangers Rangers</td>\n",
       "    </tr>\n",
       "    <tr>\n",
       "      <th>3</th>\n",
       "      <td>4</td>\n",
       "      <td>Philadelphia Flyers</td>\n",
       "    </tr>\n",
       "    <tr>\n",
       "      <th>4</th>\n",
       "      <td>5</td>\n",
       "      <td>Pittsburgh Penguins</td>\n",
       "    </tr>\n",
       "    <tr>\n",
       "      <th>5</th>\n",
       "      <td>6</td>\n",
       "      <td>Boston Bruins</td>\n",
       "    </tr>\n",
       "    <tr>\n",
       "      <th>6</th>\n",
       "      <td>7</td>\n",
       "      <td>Buffalo Sabres</td>\n",
       "    </tr>\n",
       "    <tr>\n",
       "      <th>7</th>\n",
       "      <td>8</td>\n",
       "      <td>Montreal Canadiens</td>\n",
       "    </tr>\n",
       "    <tr>\n",
       "      <th>8</th>\n",
       "      <td>9</td>\n",
       "      <td>Ottawa Senators</td>\n",
       "    </tr>\n",
       "    <tr>\n",
       "      <th>9</th>\n",
       "      <td>10</td>\n",
       "      <td>Toronto Maple Leafs</td>\n",
       "    </tr>\n",
       "    <tr>\n",
       "      <th>10</th>\n",
       "      <td>11</td>\n",
       "      <td>Atlanta Thrashers</td>\n",
       "    </tr>\n",
       "    <tr>\n",
       "      <th>11</th>\n",
       "      <td>12</td>\n",
       "      <td>Carolina Hurricanes</td>\n",
       "    </tr>\n",
       "    <tr>\n",
       "      <th>12</th>\n",
       "      <td>13</td>\n",
       "      <td>Florida Panthers</td>\n",
       "    </tr>\n",
       "    <tr>\n",
       "      <th>13</th>\n",
       "      <td>14</td>\n",
       "      <td>Tampa Bay Lightning</td>\n",
       "    </tr>\n",
       "    <tr>\n",
       "      <th>14</th>\n",
       "      <td>15</td>\n",
       "      <td>Washington Capitals</td>\n",
       "    </tr>\n",
       "    <tr>\n",
       "      <th>15</th>\n",
       "      <td>16</td>\n",
       "      <td>Chicago Blackhawks</td>\n",
       "    </tr>\n",
       "    <tr>\n",
       "      <th>16</th>\n",
       "      <td>17</td>\n",
       "      <td>Detroit Red Wings</td>\n",
       "    </tr>\n",
       "    <tr>\n",
       "      <th>17</th>\n",
       "      <td>18</td>\n",
       "      <td>Nashville Predators</td>\n",
       "    </tr>\n",
       "    <tr>\n",
       "      <th>18</th>\n",
       "      <td>19</td>\n",
       "      <td>St Louis Blues</td>\n",
       "    </tr>\n",
       "    <tr>\n",
       "      <th>19</th>\n",
       "      <td>20</td>\n",
       "      <td>Calgary Flames</td>\n",
       "    </tr>\n",
       "    <tr>\n",
       "      <th>20</th>\n",
       "      <td>21</td>\n",
       "      <td>Colorado Avalanche</td>\n",
       "    </tr>\n",
       "    <tr>\n",
       "      <th>21</th>\n",
       "      <td>22</td>\n",
       "      <td>Edmonton Oilers</td>\n",
       "    </tr>\n",
       "    <tr>\n",
       "      <th>22</th>\n",
       "      <td>23</td>\n",
       "      <td>Vancouver Canucks</td>\n",
       "    </tr>\n",
       "    <tr>\n",
       "      <th>23</th>\n",
       "      <td>24</td>\n",
       "      <td>Anaheim Ducks</td>\n",
       "    </tr>\n",
       "    <tr>\n",
       "      <th>24</th>\n",
       "      <td>25</td>\n",
       "      <td>Dallas Stars</td>\n",
       "    </tr>\n",
       "    <tr>\n",
       "      <th>25</th>\n",
       "      <td>26</td>\n",
       "      <td>Los Angeles Kings</td>\n",
       "    </tr>\n",
       "    <tr>\n",
       "      <th>26</th>\n",
       "      <td>27</td>\n",
       "      <td>Phoenix Coyotes</td>\n",
       "    </tr>\n",
       "    <tr>\n",
       "      <th>27</th>\n",
       "      <td>28</td>\n",
       "      <td>San Jose Sharks</td>\n",
       "    </tr>\n",
       "    <tr>\n",
       "      <th>28</th>\n",
       "      <td>29</td>\n",
       "      <td>Columbus Blue Jackets</td>\n",
       "    </tr>\n",
       "    <tr>\n",
       "      <th>29</th>\n",
       "      <td>30</td>\n",
       "      <td>Minnesota Wild</td>\n",
       "    </tr>\n",
       "    <tr>\n",
       "      <th>30</th>\n",
       "      <td>52</td>\n",
       "      <td>Winnipeg Jets</td>\n",
       "    </tr>\n",
       "    <tr>\n",
       "      <th>31</th>\n",
       "      <td>53</td>\n",
       "      <td>Arizona Coyotes</td>\n",
       "    </tr>\n",
       "    <tr>\n",
       "      <th>32</th>\n",
       "      <td>54</td>\n",
       "      <td>Vegas Golden Knights</td>\n",
       "    </tr>\n",
       "  </tbody>\n",
       "</table>\n",
       "</div>"
      ],
      "text/plain": [
       "    team_id                    name\n",
       "0         1       New Jersey Devils\n",
       "1         2  NY Islanders Islanders\n",
       "2         3      NY Rangers Rangers\n",
       "3         4     Philadelphia Flyers\n",
       "4         5     Pittsburgh Penguins\n",
       "5         6           Boston Bruins\n",
       "6         7          Buffalo Sabres\n",
       "7         8      Montreal Canadiens\n",
       "8         9         Ottawa Senators\n",
       "9        10     Toronto Maple Leafs\n",
       "10       11       Atlanta Thrashers\n",
       "11       12     Carolina Hurricanes\n",
       "12       13        Florida Panthers\n",
       "13       14     Tampa Bay Lightning\n",
       "14       15     Washington Capitals\n",
       "15       16      Chicago Blackhawks\n",
       "16       17       Detroit Red Wings\n",
       "17       18     Nashville Predators\n",
       "18       19          St Louis Blues\n",
       "19       20          Calgary Flames\n",
       "20       21      Colorado Avalanche\n",
       "21       22         Edmonton Oilers\n",
       "22       23       Vancouver Canucks\n",
       "23       24           Anaheim Ducks\n",
       "24       25            Dallas Stars\n",
       "25       26       Los Angeles Kings\n",
       "26       27         Phoenix Coyotes\n",
       "27       28         San Jose Sharks\n",
       "28       29   Columbus Blue Jackets\n",
       "29       30          Minnesota Wild\n",
       "30       52           Winnipeg Jets\n",
       "31       53         Arizona Coyotes\n",
       "32       54    Vegas Golden Knights"
      ]
     },
     "execution_count": 6,
     "metadata": {},
     "output_type": "execute_result"
    }
   ],
   "source": [
    "df_teams"
   ]
  },
  {
   "cell_type": "code",
   "execution_count": 7,
   "metadata": {},
   "outputs": [],
   "source": [
    "team_dict = dict(df_teams.values)"
   ]
  },
  {
   "cell_type": "code",
   "execution_count": 8,
   "metadata": {},
   "outputs": [
    {
     "data": {
      "text/plain": [
       "'Calgary Flames'"
      ]
     },
     "execution_count": 8,
     "metadata": {},
     "output_type": "execute_result"
    }
   ],
   "source": [
    "team_dict[20]"
   ]
  },
  {
   "cell_type": "code",
   "execution_count": 9,
   "metadata": {},
   "outputs": [],
   "source": [
    "# SAVE THIS TO PICKLE FILE\n",
    "with open('../nhl-dash/assets/team_dict.data', 'wb') as f:\n",
    "    pickle.dump(team_dict, f)"
   ]
  },
  {
   "cell_type": "code",
   "execution_count": 10,
   "metadata": {},
   "outputs": [],
   "source": [
    "# Setting up game lookup\n",
    "query = \"\"\"\n",
    "SELECT\n",
    "\tgame_id, home_team_id, away_team_id, venue,\n",
    "\tSUBSTR(season, 1, 4) AS season,\n",
    "\tSUBSTR(date_time_GMT, 1, 10) AS date\n",
    "FROM\n",
    "\tgame;\n",
    "\"\"\"\n",
    "df_games = pd.read_sql(query, con)\n"
   ]
  },
  {
   "cell_type": "code",
   "execution_count": 11,
   "metadata": {},
   "outputs": [
    {
     "data": {
      "text/html": [
       "<div>\n",
       "<style scoped>\n",
       "    .dataframe tbody tr th:only-of-type {\n",
       "        vertical-align: middle;\n",
       "    }\n",
       "\n",
       "    .dataframe tbody tr th {\n",
       "        vertical-align: top;\n",
       "    }\n",
       "\n",
       "    .dataframe thead th {\n",
       "        text-align: right;\n",
       "    }\n",
       "</style>\n",
       "<table border=\"1\" class=\"dataframe\">\n",
       "  <thead>\n",
       "    <tr style=\"text-align: right;\">\n",
       "      <th></th>\n",
       "      <th>game_id</th>\n",
       "      <th>home_team_id</th>\n",
       "      <th>away_team_id</th>\n",
       "      <th>venue</th>\n",
       "      <th>season</th>\n",
       "      <th>date</th>\n",
       "    </tr>\n",
       "  </thead>\n",
       "  <tbody>\n",
       "    <tr>\n",
       "      <th>0</th>\n",
       "      <td>2016020045</td>\n",
       "      <td>16</td>\n",
       "      <td>4</td>\n",
       "      <td>United Center</td>\n",
       "      <td>2016</td>\n",
       "      <td>2016-10-19</td>\n",
       "    </tr>\n",
       "    <tr>\n",
       "      <th>1</th>\n",
       "      <td>2017020812</td>\n",
       "      <td>7</td>\n",
       "      <td>24</td>\n",
       "      <td>KeyBank Center</td>\n",
       "      <td>2017</td>\n",
       "      <td>2018-02-07</td>\n",
       "    </tr>\n",
       "    <tr>\n",
       "      <th>2</th>\n",
       "      <td>2015020314</td>\n",
       "      <td>52</td>\n",
       "      <td>21</td>\n",
       "      <td>MTS Centre</td>\n",
       "      <td>2015</td>\n",
       "      <td>2015-11-24</td>\n",
       "    </tr>\n",
       "    <tr>\n",
       "      <th>3</th>\n",
       "      <td>2015020849</td>\n",
       "      <td>12</td>\n",
       "      <td>52</td>\n",
       "      <td>PNC Arena</td>\n",
       "      <td>2015</td>\n",
       "      <td>2016-02-17</td>\n",
       "    </tr>\n",
       "    <tr>\n",
       "      <th>4</th>\n",
       "      <td>2017020586</td>\n",
       "      <td>24</td>\n",
       "      <td>20</td>\n",
       "      <td>Honda Center</td>\n",
       "      <td>2017</td>\n",
       "      <td>2017-12-30</td>\n",
       "    </tr>\n",
       "  </tbody>\n",
       "</table>\n",
       "</div>"
      ],
      "text/plain": [
       "      game_id  home_team_id  away_team_id           venue season        date\n",
       "0  2016020045            16             4   United Center   2016  2016-10-19\n",
       "1  2017020812             7            24  KeyBank Center   2017  2018-02-07\n",
       "2  2015020314            52            21      MTS Centre   2015  2015-11-24\n",
       "3  2015020849            12            52       PNC Arena   2015  2016-02-17\n",
       "4  2017020586            24            20    Honda Center   2017  2017-12-30"
      ]
     },
     "execution_count": 11,
     "metadata": {},
     "output_type": "execute_result"
    }
   ],
   "source": [
    "df_games.head()"
   ]
  },
  {
   "cell_type": "code",
   "execution_count": 12,
   "metadata": {},
   "outputs": [],
   "source": [
    "# SAVE THIS TO PICKLE FILE\n",
    "with open('../nhl-dash/assets/df_games.data', 'wb') as f:\n",
    "    pickle.dump(df_games, f)"
   ]
  },
  {
   "cell_type": "markdown",
   "metadata": {},
   "source": [
    "# Plotting Goals Scored and Conceded"
   ]
  },
  {
   "cell_type": "code",
   "execution_count": 13,
   "metadata": {},
   "outputs": [],
   "source": [
    "query = \"\"\"\n",
    "SELECT\n",
    "\tSUBSTR(game_plays.game_id, 1, 4) AS season,\n",
    "\tteam_info.team_id, team_info.shortName, team_info.teamName,\n",
    "\tCOUNT(game_plays.event) AS goals_conceded,\n",
    "\tgame_plays.team_id_against\n",
    "FROM\n",
    "\tgame_plays\n",
    "INNER JOIN\n",
    "\tteam_info\n",
    "\t\tON game_plays.team_id_against = team_info.team_id\n",
    "WHERE\n",
    "\tevent = 'Goal'\n",
    "GROUP BY\n",
    "\tseason, game_plays.team_id_against\n",
    "ORDER BY\n",
    "\tseason, goals_conceded DESC;\n",
    "\"\"\"\n",
    "df_teams_conceded = pd.read_sql(query, con)"
   ]
  },
  {
   "cell_type": "code",
   "execution_count": 14,
   "metadata": {},
   "outputs": [],
   "source": [
    "df_teams_conceded.to_pickle(\"../nhl-dash/assets/df_teams_conceded.data\")"
   ]
  },
  {
   "cell_type": "code",
   "execution_count": 15,
   "metadata": {},
   "outputs": [],
   "source": [
    "query = \"\"\"\n",
    "SELECT\n",
    "\tSUBSTR(game_plays.game_id, 1, 4) AS season,\n",
    "\tteam_info.team_id, team_info.shortName, team_info.teamName,\n",
    "\tCOUNT(game_plays.event) AS number_of_goals,\n",
    "\tgame_plays.team_id_for\t\n",
    "FROM\n",
    "\tgame_plays\n",
    "INNER JOIN\n",
    "\tteam_info\n",
    "\t\tON game_plays.team_id_for = team_info.team_id\n",
    "WHERE\n",
    "\tevent = 'Goal'\n",
    "GROUP BY\n",
    "\tseason, game_plays.team_id_for\n",
    "ORDER BY\n",
    "\tseason, number_of_goals DESC;\n",
    "\"\"\"\n",
    "df_teams_season = pd.read_sql(query, con)"
   ]
  },
  {
   "cell_type": "code",
   "execution_count": 16,
   "metadata": {},
   "outputs": [],
   "source": [
    "df_teams_season.to_pickle(\"../nhl-dash/assets/df_teams_season.data\")"
   ]
  },
  {
   "cell_type": "code",
   "execution_count": 17,
   "metadata": {},
   "outputs": [],
   "source": [
    "def team_goals(team, df_pro=df_teams_season, df_con=df_teams_conceded):\n",
    "    \"\"\"Create plotly figure with line plots of goals scored and conceded\n",
    "    for a given `team` across seasons\"\"\"\n",
    "\n",
    "    fig = go.Figure()\n",
    "\n",
    "    fig.add_scatter(x=df_pro[df_pro['teamName'] == team]['season'],\n",
    "                    y=df_pro[df_pro['teamName'] == team]['number_of_goals'],\n",
    "                    name='Scored',\n",
    "                    line=dict(color=\"#0f3e66\"))\n",
    "\n",
    "    fig.add_scatter(x=df_con[df_con['teamName'] == team]['season'],\n",
    "                    y=df_con[df_con['teamName'] == team]['goals_conceded'],\n",
    "                    name='Conceded',\n",
    "                    line=dict(color=\"#b53312\"))\n",
    "\n",
    "    fig.update_layout(title=\"Goals - \" + team,\n",
    "                      xaxis_title=\"Season\",\n",
    "                      yaxis_title=\"Goals\")\n",
    "    fig.update_layout(hovermode=\"x unified\")\n",
    "    fig.update_xaxes(tickangle=45)\n",
    "\n",
    "    return fig"
   ]
  },
  {
   "cell_type": "code",
   "execution_count": 18,
   "metadata": {},
   "outputs": [
    {
     "data": {
      "application/vnd.plotly.v1+json": {
       "config": {
        "plotlyServerURL": "https://plot.ly"
       },
       "data": [
        {
         "line": {
          "color": "#0f3e66"
         },
         "name": "Scored",
         "type": "scatter",
         "x": [
          "2000",
          "2001",
          "2002",
          "2003",
          "2005",
          "2006",
          "2007",
          "2008",
          "2009",
          "2010",
          "2011",
          "2012",
          "2013",
          "2014",
          "2015",
          "2016",
          "2017",
          "2018",
          "2019"
         ],
         "y": [
          197,
          198,
          183,
          200,
          217,
          261,
          225,
          250,
          211,
          256,
          204,
          130,
          212,
          266,
          209,
          233,
          223,
          303,
          246
         ]
        },
        {
         "line": {
          "color": "#b53312"
         },
         "name": "Conceded",
         "type": "scatter",
         "x": [
          "2000",
          "2001",
          "2002",
          "2003",
          "2005",
          "2006",
          "2007",
          "2008",
          "2009",
          "2010",
          "2011",
          "2012",
          "2013",
          "2014",
          "2015",
          "2016",
          "2017",
          "2018",
          "2019"
         ],
         "y": [
          236,
          215,
          217,
          176,
          202,
          231,
          223,
          245,
          220,
          242,
          232,
          162,
          244,
          250,
          238,
          232,
          255,
          247,
          245
         ]
        }
       ],
       "layout": {
        "hovermode": "x unified",
        "template": {
         "data": {
          "bar": [
           {
            "error_x": {
             "color": "rgb(36,36,36)"
            },
            "error_y": {
             "color": "rgb(36,36,36)"
            },
            "marker": {
             "line": {
              "color": "white",
              "width": 0.5
             },
             "pattern": {
              "fillmode": "overlay",
              "size": 10,
              "solidity": 0.2
             }
            },
            "type": "bar"
           }
          ],
          "barpolar": [
           {
            "marker": {
             "line": {
              "color": "white",
              "width": 0.5
             },
             "pattern": {
              "fillmode": "overlay",
              "size": 10,
              "solidity": 0.2
             }
            },
            "type": "barpolar"
           }
          ],
          "carpet": [
           {
            "aaxis": {
             "endlinecolor": "rgb(36,36,36)",
             "gridcolor": "white",
             "linecolor": "white",
             "minorgridcolor": "white",
             "startlinecolor": "rgb(36,36,36)"
            },
            "baxis": {
             "endlinecolor": "rgb(36,36,36)",
             "gridcolor": "white",
             "linecolor": "white",
             "minorgridcolor": "white",
             "startlinecolor": "rgb(36,36,36)"
            },
            "type": "carpet"
           }
          ],
          "choropleth": [
           {
            "colorbar": {
             "outlinewidth": 1,
             "tickcolor": "rgb(36,36,36)",
             "ticks": "outside"
            },
            "type": "choropleth"
           }
          ],
          "contour": [
           {
            "colorbar": {
             "outlinewidth": 1,
             "tickcolor": "rgb(36,36,36)",
             "ticks": "outside"
            },
            "colorscale": [
             [
              0,
              "#440154"
             ],
             [
              0.1111111111111111,
              "#482878"
             ],
             [
              0.2222222222222222,
              "#3e4989"
             ],
             [
              0.3333333333333333,
              "#31688e"
             ],
             [
              0.4444444444444444,
              "#26828e"
             ],
             [
              0.5555555555555556,
              "#1f9e89"
             ],
             [
              0.6666666666666666,
              "#35b779"
             ],
             [
              0.7777777777777778,
              "#6ece58"
             ],
             [
              0.8888888888888888,
              "#b5de2b"
             ],
             [
              1,
              "#fde725"
             ]
            ],
            "type": "contour"
           }
          ],
          "contourcarpet": [
           {
            "colorbar": {
             "outlinewidth": 1,
             "tickcolor": "rgb(36,36,36)",
             "ticks": "outside"
            },
            "type": "contourcarpet"
           }
          ],
          "heatmap": [
           {
            "colorbar": {
             "outlinewidth": 1,
             "tickcolor": "rgb(36,36,36)",
             "ticks": "outside"
            },
            "colorscale": [
             [
              0,
              "#440154"
             ],
             [
              0.1111111111111111,
              "#482878"
             ],
             [
              0.2222222222222222,
              "#3e4989"
             ],
             [
              0.3333333333333333,
              "#31688e"
             ],
             [
              0.4444444444444444,
              "#26828e"
             ],
             [
              0.5555555555555556,
              "#1f9e89"
             ],
             [
              0.6666666666666666,
              "#35b779"
             ],
             [
              0.7777777777777778,
              "#6ece58"
             ],
             [
              0.8888888888888888,
              "#b5de2b"
             ],
             [
              1,
              "#fde725"
             ]
            ],
            "type": "heatmap"
           }
          ],
          "heatmapgl": [
           {
            "colorbar": {
             "outlinewidth": 1,
             "tickcolor": "rgb(36,36,36)",
             "ticks": "outside"
            },
            "colorscale": [
             [
              0,
              "#440154"
             ],
             [
              0.1111111111111111,
              "#482878"
             ],
             [
              0.2222222222222222,
              "#3e4989"
             ],
             [
              0.3333333333333333,
              "#31688e"
             ],
             [
              0.4444444444444444,
              "#26828e"
             ],
             [
              0.5555555555555556,
              "#1f9e89"
             ],
             [
              0.6666666666666666,
              "#35b779"
             ],
             [
              0.7777777777777778,
              "#6ece58"
             ],
             [
              0.8888888888888888,
              "#b5de2b"
             ],
             [
              1,
              "#fde725"
             ]
            ],
            "type": "heatmapgl"
           }
          ],
          "histogram": [
           {
            "marker": {
             "line": {
              "color": "white",
              "width": 0.6
             }
            },
            "type": "histogram"
           }
          ],
          "histogram2d": [
           {
            "colorbar": {
             "outlinewidth": 1,
             "tickcolor": "rgb(36,36,36)",
             "ticks": "outside"
            },
            "colorscale": [
             [
              0,
              "#440154"
             ],
             [
              0.1111111111111111,
              "#482878"
             ],
             [
              0.2222222222222222,
              "#3e4989"
             ],
             [
              0.3333333333333333,
              "#31688e"
             ],
             [
              0.4444444444444444,
              "#26828e"
             ],
             [
              0.5555555555555556,
              "#1f9e89"
             ],
             [
              0.6666666666666666,
              "#35b779"
             ],
             [
              0.7777777777777778,
              "#6ece58"
             ],
             [
              0.8888888888888888,
              "#b5de2b"
             ],
             [
              1,
              "#fde725"
             ]
            ],
            "type": "histogram2d"
           }
          ],
          "histogram2dcontour": [
           {
            "colorbar": {
             "outlinewidth": 1,
             "tickcolor": "rgb(36,36,36)",
             "ticks": "outside"
            },
            "colorscale": [
             [
              0,
              "#440154"
             ],
             [
              0.1111111111111111,
              "#482878"
             ],
             [
              0.2222222222222222,
              "#3e4989"
             ],
             [
              0.3333333333333333,
              "#31688e"
             ],
             [
              0.4444444444444444,
              "#26828e"
             ],
             [
              0.5555555555555556,
              "#1f9e89"
             ],
             [
              0.6666666666666666,
              "#35b779"
             ],
             [
              0.7777777777777778,
              "#6ece58"
             ],
             [
              0.8888888888888888,
              "#b5de2b"
             ],
             [
              1,
              "#fde725"
             ]
            ],
            "type": "histogram2dcontour"
           }
          ],
          "mesh3d": [
           {
            "colorbar": {
             "outlinewidth": 1,
             "tickcolor": "rgb(36,36,36)",
             "ticks": "outside"
            },
            "type": "mesh3d"
           }
          ],
          "parcoords": [
           {
            "line": {
             "colorbar": {
              "outlinewidth": 1,
              "tickcolor": "rgb(36,36,36)",
              "ticks": "outside"
             }
            },
            "type": "parcoords"
           }
          ],
          "pie": [
           {
            "automargin": true,
            "type": "pie"
           }
          ],
          "scatter": [
           {
            "fillpattern": {
             "fillmode": "overlay",
             "size": 10,
             "solidity": 0.2
            },
            "type": "scatter"
           }
          ],
          "scatter3d": [
           {
            "line": {
             "colorbar": {
              "outlinewidth": 1,
              "tickcolor": "rgb(36,36,36)",
              "ticks": "outside"
             }
            },
            "marker": {
             "colorbar": {
              "outlinewidth": 1,
              "tickcolor": "rgb(36,36,36)",
              "ticks": "outside"
             }
            },
            "type": "scatter3d"
           }
          ],
          "scattercarpet": [
           {
            "marker": {
             "colorbar": {
              "outlinewidth": 1,
              "tickcolor": "rgb(36,36,36)",
              "ticks": "outside"
             }
            },
            "type": "scattercarpet"
           }
          ],
          "scattergeo": [
           {
            "marker": {
             "colorbar": {
              "outlinewidth": 1,
              "tickcolor": "rgb(36,36,36)",
              "ticks": "outside"
             }
            },
            "type": "scattergeo"
           }
          ],
          "scattergl": [
           {
            "marker": {
             "colorbar": {
              "outlinewidth": 1,
              "tickcolor": "rgb(36,36,36)",
              "ticks": "outside"
             }
            },
            "type": "scattergl"
           }
          ],
          "scattermapbox": [
           {
            "marker": {
             "colorbar": {
              "outlinewidth": 1,
              "tickcolor": "rgb(36,36,36)",
              "ticks": "outside"
             }
            },
            "type": "scattermapbox"
           }
          ],
          "scatterpolar": [
           {
            "marker": {
             "colorbar": {
              "outlinewidth": 1,
              "tickcolor": "rgb(36,36,36)",
              "ticks": "outside"
             }
            },
            "type": "scatterpolar"
           }
          ],
          "scatterpolargl": [
           {
            "marker": {
             "colorbar": {
              "outlinewidth": 1,
              "tickcolor": "rgb(36,36,36)",
              "ticks": "outside"
             }
            },
            "type": "scatterpolargl"
           }
          ],
          "scatterternary": [
           {
            "marker": {
             "colorbar": {
              "outlinewidth": 1,
              "tickcolor": "rgb(36,36,36)",
              "ticks": "outside"
             }
            },
            "type": "scatterternary"
           }
          ],
          "surface": [
           {
            "colorbar": {
             "outlinewidth": 1,
             "tickcolor": "rgb(36,36,36)",
             "ticks": "outside"
            },
            "colorscale": [
             [
              0,
              "#440154"
             ],
             [
              0.1111111111111111,
              "#482878"
             ],
             [
              0.2222222222222222,
              "#3e4989"
             ],
             [
              0.3333333333333333,
              "#31688e"
             ],
             [
              0.4444444444444444,
              "#26828e"
             ],
             [
              0.5555555555555556,
              "#1f9e89"
             ],
             [
              0.6666666666666666,
              "#35b779"
             ],
             [
              0.7777777777777778,
              "#6ece58"
             ],
             [
              0.8888888888888888,
              "#b5de2b"
             ],
             [
              1,
              "#fde725"
             ]
            ],
            "type": "surface"
           }
          ],
          "table": [
           {
            "cells": {
             "fill": {
              "color": "rgb(237,237,237)"
             },
             "line": {
              "color": "white"
             }
            },
            "header": {
             "fill": {
              "color": "rgb(217,217,217)"
             },
             "line": {
              "color": "white"
             }
            },
            "type": "table"
           }
          ]
         },
         "layout": {
          "annotationdefaults": {
           "arrowhead": 0,
           "arrowwidth": 1
          },
          "autotypenumbers": "strict",
          "coloraxis": {
           "colorbar": {
            "outlinewidth": 1,
            "tickcolor": "rgb(36,36,36)",
            "ticks": "outside"
           }
          },
          "colorscale": {
           "diverging": [
            [
             0,
             "rgb(103,0,31)"
            ],
            [
             0.1,
             "rgb(178,24,43)"
            ],
            [
             0.2,
             "rgb(214,96,77)"
            ],
            [
             0.3,
             "rgb(244,165,130)"
            ],
            [
             0.4,
             "rgb(253,219,199)"
            ],
            [
             0.5,
             "rgb(247,247,247)"
            ],
            [
             0.6,
             "rgb(209,229,240)"
            ],
            [
             0.7,
             "rgb(146,197,222)"
            ],
            [
             0.8,
             "rgb(67,147,195)"
            ],
            [
             0.9,
             "rgb(33,102,172)"
            ],
            [
             1,
             "rgb(5,48,97)"
            ]
           ],
           "sequential": [
            [
             0,
             "#440154"
            ],
            [
             0.1111111111111111,
             "#482878"
            ],
            [
             0.2222222222222222,
             "#3e4989"
            ],
            [
             0.3333333333333333,
             "#31688e"
            ],
            [
             0.4444444444444444,
             "#26828e"
            ],
            [
             0.5555555555555556,
             "#1f9e89"
            ],
            [
             0.6666666666666666,
             "#35b779"
            ],
            [
             0.7777777777777778,
             "#6ece58"
            ],
            [
             0.8888888888888888,
             "#b5de2b"
            ],
            [
             1,
             "#fde725"
            ]
           ],
           "sequentialminus": [
            [
             0,
             "#440154"
            ],
            [
             0.1111111111111111,
             "#482878"
            ],
            [
             0.2222222222222222,
             "#3e4989"
            ],
            [
             0.3333333333333333,
             "#31688e"
            ],
            [
             0.4444444444444444,
             "#26828e"
            ],
            [
             0.5555555555555556,
             "#1f9e89"
            ],
            [
             0.6666666666666666,
             "#35b779"
            ],
            [
             0.7777777777777778,
             "#6ece58"
            ],
            [
             0.8888888888888888,
             "#b5de2b"
            ],
            [
             1,
             "#fde725"
            ]
           ]
          },
          "colorway": [
           "#1F77B4",
           "#FF7F0E",
           "#2CA02C",
           "#D62728",
           "#9467BD",
           "#8C564B",
           "#E377C2",
           "#7F7F7F",
           "#BCBD22",
           "#17BECF"
          ],
          "font": {
           "color": "rgb(36,36,36)"
          },
          "geo": {
           "bgcolor": "white",
           "lakecolor": "white",
           "landcolor": "white",
           "showlakes": true,
           "showland": true,
           "subunitcolor": "white"
          },
          "hoverlabel": {
           "align": "left"
          },
          "hovermode": "closest",
          "mapbox": {
           "style": "light"
          },
          "paper_bgcolor": "white",
          "plot_bgcolor": "white",
          "polar": {
           "angularaxis": {
            "gridcolor": "rgb(232,232,232)",
            "linecolor": "rgb(36,36,36)",
            "showgrid": false,
            "showline": true,
            "ticks": "outside"
           },
           "bgcolor": "white",
           "radialaxis": {
            "gridcolor": "rgb(232,232,232)",
            "linecolor": "rgb(36,36,36)",
            "showgrid": false,
            "showline": true,
            "ticks": "outside"
           }
          },
          "scene": {
           "xaxis": {
            "backgroundcolor": "white",
            "gridcolor": "rgb(232,232,232)",
            "gridwidth": 2,
            "linecolor": "rgb(36,36,36)",
            "showbackground": true,
            "showgrid": false,
            "showline": true,
            "ticks": "outside",
            "zeroline": false,
            "zerolinecolor": "rgb(36,36,36)"
           },
           "yaxis": {
            "backgroundcolor": "white",
            "gridcolor": "rgb(232,232,232)",
            "gridwidth": 2,
            "linecolor": "rgb(36,36,36)",
            "showbackground": true,
            "showgrid": false,
            "showline": true,
            "ticks": "outside",
            "zeroline": false,
            "zerolinecolor": "rgb(36,36,36)"
           },
           "zaxis": {
            "backgroundcolor": "white",
            "gridcolor": "rgb(232,232,232)",
            "gridwidth": 2,
            "linecolor": "rgb(36,36,36)",
            "showbackground": true,
            "showgrid": false,
            "showline": true,
            "ticks": "outside",
            "zeroline": false,
            "zerolinecolor": "rgb(36,36,36)"
           }
          },
          "shapedefaults": {
           "fillcolor": "black",
           "line": {
            "width": 0
           },
           "opacity": 0.3
          },
          "ternary": {
           "aaxis": {
            "gridcolor": "rgb(232,232,232)",
            "linecolor": "rgb(36,36,36)",
            "showgrid": false,
            "showline": true,
            "ticks": "outside"
           },
           "baxis": {
            "gridcolor": "rgb(232,232,232)",
            "linecolor": "rgb(36,36,36)",
            "showgrid": false,
            "showline": true,
            "ticks": "outside"
           },
           "bgcolor": "white",
           "caxis": {
            "gridcolor": "rgb(232,232,232)",
            "linecolor": "rgb(36,36,36)",
            "showgrid": false,
            "showline": true,
            "ticks": "outside"
           }
          },
          "title": {
           "x": 0.05
          },
          "xaxis": {
           "automargin": true,
           "gridcolor": "rgb(232,232,232)",
           "linecolor": "rgb(36,36,36)",
           "showgrid": false,
           "showline": true,
           "ticks": "outside",
           "title": {
            "standoff": 15
           },
           "zeroline": false,
           "zerolinecolor": "rgb(36,36,36)"
          },
          "yaxis": {
           "automargin": true,
           "gridcolor": "rgb(232,232,232)",
           "linecolor": "rgb(36,36,36)",
           "showgrid": false,
           "showline": true,
           "ticks": "outside",
           "title": {
            "standoff": 15
           },
           "zeroline": false,
           "zerolinecolor": "rgb(36,36,36)"
          }
         }
        },
        "title": {
         "text": "Goals - Flames"
        },
        "xaxis": {
         "tickangle": 45,
         "title": {
          "text": "Season"
         }
        },
        "yaxis": {
         "title": {
          "text": "Goals"
         }
        }
       }
      }
     },
     "metadata": {},
     "output_type": "display_data"
    }
   ],
   "source": [
    "team_goals('Flames').show()"
   ]
  },
  {
   "cell_type": "markdown",
   "metadata": {},
   "source": [
    "# Shot data"
   ]
  },
  {
   "cell_type": "code",
   "execution_count": 19,
   "metadata": {},
   "outputs": [],
   "source": [
    "IMAGE_FILENAME1 = './images/NHL-rink-white.jpg'\n",
    "image1 = base64.b64encode(open(IMAGE_FILENAME1, 'rb').read())"
   ]
  },
  {
   "cell_type": "code",
   "execution_count": 20,
   "metadata": {},
   "outputs": [],
   "source": [
    "def shot_data(con, season, team_id, return_fig=True):\n",
    "\n",
    "    query = \"\"\"\n",
    "    SELECT\n",
    "        SUBSTR(game_id, 1, 4) AS season,\n",
    "        game_id, team_id_for,\n",
    "        event, secondaryType,\n",
    "        st_x, st_y\n",
    "    FROM\n",
    "        game_plays\n",
    "    WHERE\n",
    "        event IN ('Goal', 'Shot', 'Missed Shot')\n",
    "        AND\n",
    "            (x <> 'NA' AND y <> 'NA')\n",
    "        AND\n",
    "            season = '{0}'\n",
    "        AND\n",
    "            team_id_for = {1};\n",
    "    \"\"\"\n",
    "    \n",
    "    df = pd.read_sql(query.format(season, team_id), con)\n",
    "    \n",
    "    df[[\"st_x\", \"st_y\"]] = df[[\"st_x\", \"st_y\"]].apply(pd.to_numeric)\n",
    "\n",
    "    return df"
   ]
  },
  {
   "cell_type": "code",
   "execution_count": 21,
   "metadata": {},
   "outputs": [],
   "source": [
    "def plot_heatmap(con, season, team_id, event):\n",
    "    \n",
    "    df = shot_data(con, season, team_id, return_fig=False)\n",
    "\n",
    "    fig = px.density_heatmap(df.query(f\"event == '{event}'\"),\n",
    "                             x=\"st_x\",\n",
    "                             y=\"st_y\",\n",
    "                             nbinsx=50,\n",
    "                             nbinsy=50,\n",
    "                             range_x=[-100, 100],\n",
    "                             range_y=[-45, 45],\n",
    "                             color_continuous_scale=\"Reds\",\n",
    "                             title=team_dict[team_id]+' '+str(season)+' '+event+'s'\n",
    "                             )\n",
    "\n",
    "    fig.update_traces(opacity=0.6)\n",
    "\n",
    "    fig.add_layout_image(dict(source='data:image/jpg;base64,{}'.format(image1.decode()),\n",
    "                              xref=\"x\",\n",
    "                              yref=\"y\",\n",
    "                              x=-100, y=42.5,\n",
    "                              sizex=200,\n",
    "                              sizey=85, \n",
    "                              sizing=\"stretch\",\n",
    "                              opacity=1,\n",
    "                              layer=\"below\"))\n",
    "\n",
    "    fig.update_layout(template=\"simple_white\")\n",
    "    \n",
    "    #legend\n",
    "    fig.update_layout(showlegend=False)\n",
    "\n",
    "    #x axis\n",
    "    fig.update_xaxes(visible=False)\n",
    "\n",
    "    #y axis    \n",
    "    fig.update_yaxes(visible=False)\n",
    "    \n",
    "    return fig"
   ]
  },
  {
   "cell_type": "code",
   "execution_count": 22,
   "metadata": {},
   "outputs": [
    {
     "data": {
      "application/vnd.plotly.v1+json": {
       "config": {
        "plotlyServerURL": "https://plot.ly"
       },
       "data": [
        {
         "coloraxis": "coloraxis",
         "hovertemplate": "st_x=%{x}<br>st_y=%{y}<br>count=%{z}<extra></extra>",
         "name": "",
         "nbinsx": 50,
         "nbinsy": 50,
         "opacity": 0.6,
         "type": "histogram2d",
         "x": [
          72,
          67,
          38,
          80,
          62,
          82,
          60,
          56,
          78,
          60,
          44,
          55,
          82,
          66,
          55,
          67,
          40,
          82,
          81,
          65,
          60,
          75,
          40,
          71,
          79,
          79,
          67,
          66,
          72,
          71,
          81,
          82,
          71,
          61,
          64,
          86,
          82,
          60,
          73,
          76,
          54,
          77,
          81,
          81,
          74,
          -79,
          79,
          65,
          80,
          59,
          82,
          58,
          85,
          64,
          67,
          85,
          76,
          79,
          81,
          80,
          77,
          78,
          81,
          67,
          81,
          39,
          67,
          60,
          75,
          82,
          82,
          79,
          66,
          81,
          62,
          80,
          76,
          63,
          50,
          82,
          82,
          38,
          33,
          83,
          64,
          80,
          77,
          82,
          84,
          81,
          81,
          50,
          84,
          87,
          83,
          74,
          68,
          48,
          81,
          70,
          72,
          75,
          63,
          75,
          85,
          75,
          65,
          78,
          67,
          37,
          81,
          26,
          83,
          83,
          84,
          85,
          83,
          83,
          57,
          47,
          57,
          82,
          73,
          36,
          79,
          61,
          81,
          86,
          67,
          77,
          80,
          49,
          72,
          59,
          67,
          88,
          79,
          79,
          74,
          73,
          72,
          73,
          82,
          63,
          67,
          74,
          80,
          71,
          65,
          74,
          62,
          75,
          72,
          64,
          68,
          66,
          76,
          88,
          76,
          63,
          42,
          34,
          80,
          81,
          64,
          93,
          71,
          81,
          51,
          51,
          44,
          58,
          76,
          56,
          14,
          72,
          73,
          78,
          64,
          72,
          69,
          73,
          70,
          78,
          60,
          64,
          39,
          85,
          60,
          79,
          81,
          67,
          40,
          80,
          71,
          63,
          56,
          82,
          79,
          53,
          84,
          59,
          64,
          57,
          83,
          62,
          -9,
          33,
          52,
          67,
          67,
          82,
          85,
          83,
          39,
          79,
          58,
          54,
          71,
          78,
          70,
          68,
          49,
          14,
          65,
          73,
          32,
          69,
          82,
          73,
          79,
          39,
          82,
          83,
          2,
          81,
          82,
          66,
          87,
          61,
          34,
          31,
          68,
          37,
          86,
          71,
          78,
          49,
          76,
          60,
          73,
          80,
          74,
          86,
          72,
          69,
          75,
          75,
          64,
          85,
          75,
          43,
          84,
          58,
          60,
          63
         ],
         "xaxis": "x",
         "xbingroup": "x",
         "y": [
          0,
          2,
          10,
          2,
          -1,
          6,
          -19,
          -14,
          1,
          -13,
          -14,
          3,
          4,
          10,
          -27,
          3,
          -2,
          -2,
          0,
          1,
          4,
          8,
          -14,
          -11,
          -3,
          -6,
          3,
          -23,
          6,
          -3,
          -3,
          5,
          4,
          -4,
          -1,
          -5,
          -4,
          -5,
          -4,
          -2,
          0,
          -2,
          9,
          7,
          3,
          -1,
          1,
          5,
          6,
          9,
          22,
          -2,
          -5,
          -15,
          -3,
          -3,
          2,
          -14,
          7,
          -1,
          5,
          -1,
          -10,
          0,
          4,
          -1,
          2,
          -15,
          -1,
          -6,
          8,
          -15,
          8,
          1,
          -11,
          3,
          1,
          26,
          -26,
          8,
          -4,
          -3,
          22,
          -9,
          1,
          -2,
          -2,
          -6,
          9,
          6,
          12,
          -1,
          1,
          -10,
          4,
          -4,
          -2,
          14,
          0,
          -13,
          -17,
          -3,
          -4,
          -1,
          -4,
          12,
          32,
          4,
          9,
          13,
          3,
          -33,
          4,
          -8,
          -3,
          -30,
          6,
          -4,
          -1,
          -22,
          -19,
          0,
          -3,
          15,
          2,
          1,
          1,
          5,
          -1,
          23,
          10,
          16,
          -14,
          24,
          7,
          -7,
          -5,
          0,
          5,
          2,
          1,
          -9,
          -4,
          -2,
          -17,
          14,
          -11,
          -1,
          -1,
          5,
          10,
          5,
          0,
          18,
          -27,
          1,
          -1,
          -8,
          -2,
          -8,
          -19,
          -27,
          3,
          -1,
          -16,
          -17,
          -17,
          1,
          14,
          -3,
          -35,
          -18,
          0,
          -6,
          -17,
          7,
          2,
          8,
          -3,
          -3,
          -1,
          1,
          -1,
          1,
          9,
          12,
          16,
          -3,
          -4,
          -3,
          -4,
          -3,
          -23,
          -6,
          -1,
          5,
          -8,
          -3,
          -18,
          23,
          -35,
          -11,
          -2,
          -3,
          -1,
          2,
          7,
          -33,
          7,
          7,
          9,
          0,
          -14,
          -23,
          7,
          6,
          -9,
          -13,
          2,
          4,
          1,
          1,
          3,
          34,
          3,
          3,
          21,
          -5,
          -5,
          2,
          0,
          -22,
          1,
          15,
          31,
          -10,
          -22,
          4,
          6,
          -1,
          14,
          -21,
          -7,
          -18,
          1,
          1,
          -16,
          24,
          -19,
          -15,
          7,
          -5,
          0,
          -2,
          6,
          -5,
          21,
          3,
          -1,
          5,
          -28,
          -8,
          5,
          25,
          16,
          -2
         ],
         "yaxis": "y",
         "ybingroup": "y"
        }
       ],
       "layout": {
        "coloraxis": {
         "colorbar": {
          "title": {
           "text": "count"
          }
         },
         "colorscale": [
          [
           0,
           "rgb(255,245,240)"
          ],
          [
           0.125,
           "rgb(254,224,210)"
          ],
          [
           0.25,
           "rgb(252,187,161)"
          ],
          [
           0.375,
           "rgb(252,146,114)"
          ],
          [
           0.5,
           "rgb(251,106,74)"
          ],
          [
           0.625,
           "rgb(239,59,44)"
          ],
          [
           0.75,
           "rgb(203,24,29)"
          ],
          [
           0.875,
           "rgb(165,15,21)"
          ],
          [
           1,
           "rgb(103,0,13)"
          ]
         ]
        },
        "images": [
         {
          "layer": "below",
          "opacity": 1,
          "sizex": 200,
          "sizey": 85,
          "sizing": "stretch",
          "source": "data:image/jpg;base64,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",
          "x": -100,
          "xref": "x",
          "y": 42.5,
          "yref": "y"
         }
        ],
        "legend": {
         "tracegroupgap": 0
        },
        "showlegend": false,
        "template": {
         "data": {
          "bar": [
           {
            "error_x": {
             "color": "rgb(36,36,36)"
            },
            "error_y": {
             "color": "rgb(36,36,36)"
            },
            "marker": {
             "line": {
              "color": "white",
              "width": 0.5
             },
             "pattern": {
              "fillmode": "overlay",
              "size": 10,
              "solidity": 0.2
             }
            },
            "type": "bar"
           }
          ],
          "barpolar": [
           {
            "marker": {
             "line": {
              "color": "white",
              "width": 0.5
             },
             "pattern": {
              "fillmode": "overlay",
              "size": 10,
              "solidity": 0.2
             }
            },
            "type": "barpolar"
           }
          ],
          "carpet": [
           {
            "aaxis": {
             "endlinecolor": "rgb(36,36,36)",
             "gridcolor": "white",
             "linecolor": "white",
             "minorgridcolor": "white",
             "startlinecolor": "rgb(36,36,36)"
            },
            "baxis": {
             "endlinecolor": "rgb(36,36,36)",
             "gridcolor": "white",
             "linecolor": "white",
             "minorgridcolor": "white",
             "startlinecolor": "rgb(36,36,36)"
            },
            "type": "carpet"
           }
          ],
          "choropleth": [
           {
            "colorbar": {
             "outlinewidth": 1,
             "tickcolor": "rgb(36,36,36)",
             "ticks": "outside"
            },
            "type": "choropleth"
           }
          ],
          "contour": [
           {
            "colorbar": {
             "outlinewidth": 1,
             "tickcolor": "rgb(36,36,36)",
             "ticks": "outside"
            },
            "colorscale": [
             [
              0,
              "#440154"
             ],
             [
              0.1111111111111111,
              "#482878"
             ],
             [
              0.2222222222222222,
              "#3e4989"
             ],
             [
              0.3333333333333333,
              "#31688e"
             ],
             [
              0.4444444444444444,
              "#26828e"
             ],
             [
              0.5555555555555556,
              "#1f9e89"
             ],
             [
              0.6666666666666666,
              "#35b779"
             ],
             [
              0.7777777777777778,
              "#6ece58"
             ],
             [
              0.8888888888888888,
              "#b5de2b"
             ],
             [
              1,
              "#fde725"
             ]
            ],
            "type": "contour"
           }
          ],
          "contourcarpet": [
           {
            "colorbar": {
             "outlinewidth": 1,
             "tickcolor": "rgb(36,36,36)",
             "ticks": "outside"
            },
            "type": "contourcarpet"
           }
          ],
          "heatmap": [
           {
            "colorbar": {
             "outlinewidth": 1,
             "tickcolor": "rgb(36,36,36)",
             "ticks": "outside"
            },
            "colorscale": [
             [
              0,
              "#440154"
             ],
             [
              0.1111111111111111,
              "#482878"
             ],
             [
              0.2222222222222222,
              "#3e4989"
             ],
             [
              0.3333333333333333,
              "#31688e"
             ],
             [
              0.4444444444444444,
              "#26828e"
             ],
             [
              0.5555555555555556,
              "#1f9e89"
             ],
             [
              0.6666666666666666,
              "#35b779"
             ],
             [
              0.7777777777777778,
              "#6ece58"
             ],
             [
              0.8888888888888888,
              "#b5de2b"
             ],
             [
              1,
              "#fde725"
             ]
            ],
            "type": "heatmap"
           }
          ],
          "heatmapgl": [
           {
            "colorbar": {
             "outlinewidth": 1,
             "tickcolor": "rgb(36,36,36)",
             "ticks": "outside"
            },
            "colorscale": [
             [
              0,
              "#440154"
             ],
             [
              0.1111111111111111,
              "#482878"
             ],
             [
              0.2222222222222222,
              "#3e4989"
             ],
             [
              0.3333333333333333,
              "#31688e"
             ],
             [
              0.4444444444444444,
              "#26828e"
             ],
             [
              0.5555555555555556,
              "#1f9e89"
             ],
             [
              0.6666666666666666,
              "#35b779"
             ],
             [
              0.7777777777777778,
              "#6ece58"
             ],
             [
              0.8888888888888888,
              "#b5de2b"
             ],
             [
              1,
              "#fde725"
             ]
            ],
            "type": "heatmapgl"
           }
          ],
          "histogram": [
           {
            "marker": {
             "line": {
              "color": "white",
              "width": 0.6
             }
            },
            "type": "histogram"
           }
          ],
          "histogram2d": [
           {
            "colorbar": {
             "outlinewidth": 1,
             "tickcolor": "rgb(36,36,36)",
             "ticks": "outside"
            },
            "colorscale": [
             [
              0,
              "#440154"
             ],
             [
              0.1111111111111111,
              "#482878"
             ],
             [
              0.2222222222222222,
              "#3e4989"
             ],
             [
              0.3333333333333333,
              "#31688e"
             ],
             [
              0.4444444444444444,
              "#26828e"
             ],
             [
              0.5555555555555556,
              "#1f9e89"
             ],
             [
              0.6666666666666666,
              "#35b779"
             ],
             [
              0.7777777777777778,
              "#6ece58"
             ],
             [
              0.8888888888888888,
              "#b5de2b"
             ],
             [
              1,
              "#fde725"
             ]
            ],
            "type": "histogram2d"
           }
          ],
          "histogram2dcontour": [
           {
            "colorbar": {
             "outlinewidth": 1,
             "tickcolor": "rgb(36,36,36)",
             "ticks": "outside"
            },
            "colorscale": [
             [
              0,
              "#440154"
             ],
             [
              0.1111111111111111,
              "#482878"
             ],
             [
              0.2222222222222222,
              "#3e4989"
             ],
             [
              0.3333333333333333,
              "#31688e"
             ],
             [
              0.4444444444444444,
              "#26828e"
             ],
             [
              0.5555555555555556,
              "#1f9e89"
             ],
             [
              0.6666666666666666,
              "#35b779"
             ],
             [
              0.7777777777777778,
              "#6ece58"
             ],
             [
              0.8888888888888888,
              "#b5de2b"
             ],
             [
              1,
              "#fde725"
             ]
            ],
            "type": "histogram2dcontour"
           }
          ],
          "mesh3d": [
           {
            "colorbar": {
             "outlinewidth": 1,
             "tickcolor": "rgb(36,36,36)",
             "ticks": "outside"
            },
            "type": "mesh3d"
           }
          ],
          "parcoords": [
           {
            "line": {
             "colorbar": {
              "outlinewidth": 1,
              "tickcolor": "rgb(36,36,36)",
              "ticks": "outside"
             }
            },
            "type": "parcoords"
           }
          ],
          "pie": [
           {
            "automargin": true,
            "type": "pie"
           }
          ],
          "scatter": [
           {
            "fillpattern": {
             "fillmode": "overlay",
             "size": 10,
             "solidity": 0.2
            },
            "type": "scatter"
           }
          ],
          "scatter3d": [
           {
            "line": {
             "colorbar": {
              "outlinewidth": 1,
              "tickcolor": "rgb(36,36,36)",
              "ticks": "outside"
             }
            },
            "marker": {
             "colorbar": {
              "outlinewidth": 1,
              "tickcolor": "rgb(36,36,36)",
              "ticks": "outside"
             }
            },
            "type": "scatter3d"
           }
          ],
          "scattercarpet": [
           {
            "marker": {
             "colorbar": {
              "outlinewidth": 1,
              "tickcolor": "rgb(36,36,36)",
              "ticks": "outside"
             }
            },
            "type": "scattercarpet"
           }
          ],
          "scattergeo": [
           {
            "marker": {
             "colorbar": {
              "outlinewidth": 1,
              "tickcolor": "rgb(36,36,36)",
              "ticks": "outside"
             }
            },
            "type": "scattergeo"
           }
          ],
          "scattergl": [
           {
            "marker": {
             "colorbar": {
              "outlinewidth": 1,
              "tickcolor": "rgb(36,36,36)",
              "ticks": "outside"
             }
            },
            "type": "scattergl"
           }
          ],
          "scattermapbox": [
           {
            "marker": {
             "colorbar": {
              "outlinewidth": 1,
              "tickcolor": "rgb(36,36,36)",
              "ticks": "outside"
             }
            },
            "type": "scattermapbox"
           }
          ],
          "scatterpolar": [
           {
            "marker": {
             "colorbar": {
              "outlinewidth": 1,
              "tickcolor": "rgb(36,36,36)",
              "ticks": "outside"
             }
            },
            "type": "scatterpolar"
           }
          ],
          "scatterpolargl": [
           {
            "marker": {
             "colorbar": {
              "outlinewidth": 1,
              "tickcolor": "rgb(36,36,36)",
              "ticks": "outside"
             }
            },
            "type": "scatterpolargl"
           }
          ],
          "scatterternary": [
           {
            "marker": {
             "colorbar": {
              "outlinewidth": 1,
              "tickcolor": "rgb(36,36,36)",
              "ticks": "outside"
             }
            },
            "type": "scatterternary"
           }
          ],
          "surface": [
           {
            "colorbar": {
             "outlinewidth": 1,
             "tickcolor": "rgb(36,36,36)",
             "ticks": "outside"
            },
            "colorscale": [
             [
              0,
              "#440154"
             ],
             [
              0.1111111111111111,
              "#482878"
             ],
             [
              0.2222222222222222,
              "#3e4989"
             ],
             [
              0.3333333333333333,
              "#31688e"
             ],
             [
              0.4444444444444444,
              "#26828e"
             ],
             [
              0.5555555555555556,
              "#1f9e89"
             ],
             [
              0.6666666666666666,
              "#35b779"
             ],
             [
              0.7777777777777778,
              "#6ece58"
             ],
             [
              0.8888888888888888,
              "#b5de2b"
             ],
             [
              1,
              "#fde725"
             ]
            ],
            "type": "surface"
           }
          ],
          "table": [
           {
            "cells": {
             "fill": {
              "color": "rgb(237,237,237)"
             },
             "line": {
              "color": "white"
             }
            },
            "header": {
             "fill": {
              "color": "rgb(217,217,217)"
             },
             "line": {
              "color": "white"
             }
            },
            "type": "table"
           }
          ]
         },
         "layout": {
          "annotationdefaults": {
           "arrowhead": 0,
           "arrowwidth": 1
          },
          "autotypenumbers": "strict",
          "coloraxis": {
           "colorbar": {
            "outlinewidth": 1,
            "tickcolor": "rgb(36,36,36)",
            "ticks": "outside"
           }
          },
          "colorscale": {
           "diverging": [
            [
             0,
             "rgb(103,0,31)"
            ],
            [
             0.1,
             "rgb(178,24,43)"
            ],
            [
             0.2,
             "rgb(214,96,77)"
            ],
            [
             0.3,
             "rgb(244,165,130)"
            ],
            [
             0.4,
             "rgb(253,219,199)"
            ],
            [
             0.5,
             "rgb(247,247,247)"
            ],
            [
             0.6,
             "rgb(209,229,240)"
            ],
            [
             0.7,
             "rgb(146,197,222)"
            ],
            [
             0.8,
             "rgb(67,147,195)"
            ],
            [
             0.9,
             "rgb(33,102,172)"
            ],
            [
             1,
             "rgb(5,48,97)"
            ]
           ],
           "sequential": [
            [
             0,
             "#440154"
            ],
            [
             0.1111111111111111,
             "#482878"
            ],
            [
             0.2222222222222222,
             "#3e4989"
            ],
            [
             0.3333333333333333,
             "#31688e"
            ],
            [
             0.4444444444444444,
             "#26828e"
            ],
            [
             0.5555555555555556,
             "#1f9e89"
            ],
            [
             0.6666666666666666,
             "#35b779"
            ],
            [
             0.7777777777777778,
             "#6ece58"
            ],
            [
             0.8888888888888888,
             "#b5de2b"
            ],
            [
             1,
             "#fde725"
            ]
           ],
           "sequentialminus": [
            [
             0,
             "#440154"
            ],
            [
             0.1111111111111111,
             "#482878"
            ],
            [
             0.2222222222222222,
             "#3e4989"
            ],
            [
             0.3333333333333333,
             "#31688e"
            ],
            [
             0.4444444444444444,
             "#26828e"
            ],
            [
             0.5555555555555556,
             "#1f9e89"
            ],
            [
             0.6666666666666666,
             "#35b779"
            ],
            [
             0.7777777777777778,
             "#6ece58"
            ],
            [
             0.8888888888888888,
             "#b5de2b"
            ],
            [
             1,
             "#fde725"
            ]
           ]
          },
          "colorway": [
           "#1F77B4",
           "#FF7F0E",
           "#2CA02C",
           "#D62728",
           "#9467BD",
           "#8C564B",
           "#E377C2",
           "#7F7F7F",
           "#BCBD22",
           "#17BECF"
          ],
          "font": {
           "color": "rgb(36,36,36)"
          },
          "geo": {
           "bgcolor": "white",
           "lakecolor": "white",
           "landcolor": "white",
           "showlakes": true,
           "showland": true,
           "subunitcolor": "white"
          },
          "hoverlabel": {
           "align": "left"
          },
          "hovermode": "closest",
          "mapbox": {
           "style": "light"
          },
          "paper_bgcolor": "white",
          "plot_bgcolor": "white",
          "polar": {
           "angularaxis": {
            "gridcolor": "rgb(232,232,232)",
            "linecolor": "rgb(36,36,36)",
            "showgrid": false,
            "showline": true,
            "ticks": "outside"
           },
           "bgcolor": "white",
           "radialaxis": {
            "gridcolor": "rgb(232,232,232)",
            "linecolor": "rgb(36,36,36)",
            "showgrid": false,
            "showline": true,
            "ticks": "outside"
           }
          },
          "scene": {
           "xaxis": {
            "backgroundcolor": "white",
            "gridcolor": "rgb(232,232,232)",
            "gridwidth": 2,
            "linecolor": "rgb(36,36,36)",
            "showbackground": true,
            "showgrid": false,
            "showline": true,
            "ticks": "outside",
            "zeroline": false,
            "zerolinecolor": "rgb(36,36,36)"
           },
           "yaxis": {
            "backgroundcolor": "white",
            "gridcolor": "rgb(232,232,232)",
            "gridwidth": 2,
            "linecolor": "rgb(36,36,36)",
            "showbackground": true,
            "showgrid": false,
            "showline": true,
            "ticks": "outside",
            "zeroline": false,
            "zerolinecolor": "rgb(36,36,36)"
           },
           "zaxis": {
            "backgroundcolor": "white",
            "gridcolor": "rgb(232,232,232)",
            "gridwidth": 2,
            "linecolor": "rgb(36,36,36)",
            "showbackground": true,
            "showgrid": false,
            "showline": true,
            "ticks": "outside",
            "zeroline": false,
            "zerolinecolor": "rgb(36,36,36)"
           }
          },
          "shapedefaults": {
           "fillcolor": "black",
           "line": {
            "width": 0
           },
           "opacity": 0.3
          },
          "ternary": {
           "aaxis": {
            "gridcolor": "rgb(232,232,232)",
            "linecolor": "rgb(36,36,36)",
            "showgrid": false,
            "showline": true,
            "ticks": "outside"
           },
           "baxis": {
            "gridcolor": "rgb(232,232,232)",
            "linecolor": "rgb(36,36,36)",
            "showgrid": false,
            "showline": true,
            "ticks": "outside"
           },
           "bgcolor": "white",
           "caxis": {
            "gridcolor": "rgb(232,232,232)",
            "linecolor": "rgb(36,36,36)",
            "showgrid": false,
            "showline": true,
            "ticks": "outside"
           }
          },
          "title": {
           "x": 0.05
          },
          "xaxis": {
           "automargin": true,
           "gridcolor": "rgb(232,232,232)",
           "linecolor": "rgb(36,36,36)",
           "showgrid": false,
           "showline": true,
           "ticks": "outside",
           "title": {
            "standoff": 15
           },
           "zeroline": false,
           "zerolinecolor": "rgb(36,36,36)"
          },
          "yaxis": {
           "automargin": true,
           "gridcolor": "rgb(232,232,232)",
           "linecolor": "rgb(36,36,36)",
           "showgrid": false,
           "showline": true,
           "ticks": "outside",
           "title": {
            "standoff": 15
           },
           "zeroline": false,
           "zerolinecolor": "rgb(36,36,36)"
          }
         }
        },
        "title": {
         "text": "Calgary Flames 2014 Goals"
        },
        "xaxis": {
         "anchor": "y",
         "domain": [
          0,
          1
         ],
         "range": [
          -100,
          100
         ],
         "title": {
          "text": "st_x"
         },
         "visible": false
        },
        "yaxis": {
         "anchor": "x",
         "domain": [
          0,
          1
         ],
         "range": [
          -45,
          45
         ],
         "title": {
          "text": "st_y"
         },
         "visible": false
        }
       }
      }
     },
     "metadata": {},
     "output_type": "display_data"
    }
   ],
   "source": [
    "fig = plot_heatmap(con, 2014, 20, 'Goal')\n",
    "fig.show()"
   ]
  },
  {
   "cell_type": "code",
   "execution_count": 23,
   "metadata": {},
   "outputs": [
    {
     "data": {
      "application/vnd.plotly.v1+json": {
       "config": {
        "plotlyServerURL": "https://plot.ly"
       },
       "data": [
        {
         "coloraxis": "coloraxis",
         "hovertemplate": "st_x=%{x}<br>st_y=%{y}<br>count=%{z}<extra></extra>",
         "name": "",
         "nbinsx": 50,
         "nbinsy": 50,
         "opacity": 0.6,
         "type": "histogram2d",
         "x": [
          48,
          39,
          82,
          41,
          53,
          87,
          70,
          79,
          10,
          44,
          56,
          38,
          62,
          56,
          59,
          58,
          39,
          79,
          33,
          73,
          80,
          11,
          44,
          73,
          45,
          75,
          35,
          58,
          74,
          39,
          39,
          79,
          52,
          53,
          31,
          35,
          72,
          78,
          74,
          53,
          87,
          68,
          36,
          36,
          29,
          70,
          70,
          75,
          75,
          50,
          39,
          60,
          -50,
          65,
          66,
          64,
          67,
          63,
          59,
          74,
          57,
          61,
          -16,
          59,
          69,
          47,
          50,
          43,
          73,
          70,
          73,
          49,
          36,
          76,
          38,
          75,
          38,
          59,
          68,
          59,
          34,
          39,
          58,
          73,
          63,
          52,
          55,
          84,
          73,
          42,
          37,
          -51,
          31,
          78,
          54,
          59,
          84,
          77,
          59,
          69,
          35,
          71,
          60,
          74,
          65,
          49,
          63,
          60,
          76,
          40,
          38,
          74,
          41,
          78,
          39,
          34,
          76,
          62,
          69,
          37,
          48,
          40,
          37,
          56,
          68,
          29,
          35,
          59,
          84,
          49,
          49,
          45,
          43,
          65,
          84,
          32,
          30,
          39,
          71,
          41,
          76,
          82,
          48,
          80,
          64,
          61,
          46,
          41,
          65,
          42,
          61,
          50,
          45,
          75,
          35,
          78,
          82,
          -6,
          89,
          46,
          80,
          80,
          44,
          60,
          77,
          40,
          81,
          32,
          47,
          52,
          65,
          80,
          63,
          60,
          46,
          78,
          40,
          31,
          66,
          80,
          70,
          62,
          61,
          67,
          39,
          70,
          34,
          35,
          42,
          84,
          56,
          32,
          49,
          38,
          75,
          81,
          70,
          46,
          53,
          39,
          37,
          33,
          39,
          63,
          34,
          66,
          54,
          54,
          53,
          64,
          62,
          46,
          75,
          59,
          61,
          45,
          73,
          72,
          77,
          75,
          77,
          42,
          63,
          71,
          69,
          76,
          57,
          54,
          62,
          39,
          74,
          49,
          59,
          36,
          72,
          56,
          80,
          61,
          46,
          72,
          62,
          70,
          39,
          18,
          63,
          65,
          62,
          40,
          74,
          63,
          39,
          47,
          51,
          77,
          33,
          58,
          73,
          67,
          82,
          76,
          63,
          37,
          74,
          57,
          66,
          59,
          52,
          68,
          63,
          74,
          72,
          48,
          43,
          56,
          40,
          71,
          77,
          48,
          47,
          34,
          81,
          49,
          65,
          35,
          36,
          75,
          25,
          43,
          43,
          42,
          45,
          73,
          67,
          64,
          48,
          34,
          32,
          38,
          60,
          43,
          48,
          69,
          46,
          79,
          66,
          82,
          53,
          69,
          36,
          32,
          61,
          61,
          50,
          57,
          40,
          37,
          73,
          61,
          43,
          70,
          79,
          85,
          9,
          51,
          87,
          67,
          60,
          49,
          75,
          66,
          83,
          35,
          69,
          60,
          68,
          57,
          83,
          33,
          76,
          66,
          54,
          54,
          81,
          36,
          66,
          54,
          76,
          65,
          71,
          50,
          48,
          49,
          51,
          51,
          55,
          58,
          80,
          70,
          51,
          35,
          66,
          54,
          46,
          44,
          56,
          42,
          64,
          70,
          47,
          38,
          85,
          73,
          85,
          72,
          46,
          57,
          75,
          59,
          47,
          39,
          87,
          88,
          77,
          60,
          76,
          41,
          39,
          53,
          60,
          75,
          -11,
          40,
          72,
          68,
          50,
          55,
          49,
          66,
          51,
          55,
          53,
          52,
          35,
          66,
          49,
          79,
          66,
          59,
          54,
          53,
          81,
          81,
          75,
          51,
          76,
          54,
          63,
          43,
          53,
          81,
          79,
          58,
          49,
          38,
          51,
          39,
          46,
          55,
          40,
          61,
          37,
          66,
          49,
          31,
          42,
          18,
          77,
          60,
          63,
          69,
          71,
          62,
          65,
          49,
          58,
          64,
          54,
          34,
          70,
          33,
          47,
          71,
          40,
          79,
          40,
          39,
          39,
          72,
          43,
          56,
          88,
          67,
          73,
          69,
          81,
          63,
          75,
          69,
          34,
          36,
          77,
          71,
          68,
          68,
          64,
          55,
          38,
          61,
          70,
          64,
          81,
          53,
          57,
          43,
          82,
          44,
          80,
          61,
          43,
          61,
          73,
          33,
          73,
          72,
          46,
          67,
          52,
          64,
          55,
          79,
          32,
          64,
          60,
          83,
          77,
          84,
          64,
          64,
          69,
          31,
          51,
          33,
          79,
          50,
          71,
          36,
          87,
          60,
          39,
          36,
          43,
          40,
          75,
          75,
          46,
          34,
          46,
          63,
          83,
          66,
          40,
          69,
          48,
          77,
          86,
          80,
          31,
          75,
          88,
          54,
          76,
          42,
          87,
          76,
          75,
          82,
          54,
          81,
          32,
          40,
          82,
          85,
          30,
          65,
          53,
          71,
          63,
          51,
          70,
          66,
          54,
          50,
          36,
          45,
          32,
          52,
          62,
          55,
          57,
          73,
          83,
          86,
          42,
          53,
          68,
          52,
          35,
          38,
          60,
          46,
          32,
          48,
          54,
          37,
          32,
          42,
          62,
          70,
          34,
          74,
          69,
          59,
          61,
          76,
          56,
          59,
          36,
          64,
          68,
          83,
          67,
          72,
          34,
          67,
          46,
          44,
          52,
          70,
          48,
          46,
          53,
          36,
          65,
          45,
          54,
          69,
          37,
          39,
          69,
          34,
          61,
          66,
          44,
          40,
          50,
          52,
          58,
          76,
          69,
          54,
          84,
          59,
          52,
          33,
          81,
          76,
          80,
          57,
          78,
          41,
          62,
          33,
          69,
          47,
          29,
          67,
          55,
          54,
          29,
          75,
          58,
          43,
          63,
          43,
          37,
          82,
          45,
          65,
          72,
          72,
          83,
          47,
          85,
          68,
          66,
          38,
          58,
          49,
          75,
          71,
          66,
          75,
          87,
          33,
          32,
          34,
          52,
          64,
          42,
          79,
          57,
          51,
          57,
          73,
          58,
          81,
          60,
          78,
          33,
          57,
          35,
          34,
          57,
          50,
          78,
          37,
          76,
          57,
          43,
          40,
          77,
          44,
          31,
          36,
          63,
          69,
          83,
          76,
          67,
          56,
          64,
          80,
          69,
          33,
          70,
          52,
          75,
          71,
          60,
          36,
          54,
          73,
          37,
          71,
          72,
          36,
          58,
          40,
          36,
          34,
          50,
          61,
          73,
          64,
          60,
          59,
          80,
          53,
          77,
          51,
          35,
          31,
          42,
          72,
          39,
          72,
          84,
          72,
          76,
          71,
          62,
          67,
          71,
          79,
          74,
          77,
          82,
          34,
          38,
          49,
          83,
          86,
          76,
          34,
          54,
          60,
          29,
          52,
          58,
          65,
          64,
          68,
          59,
          67,
          78,
          54,
          53,
          74,
          58,
          45,
          45,
          63,
          34,
          62,
          68,
          39,
          63,
          75,
          36,
          66,
          85,
          57,
          67,
          62,
          83,
          54,
          43,
          41,
          82,
          47,
          69,
          65,
          66,
          51,
          77,
          81,
          46,
          43,
          63,
          82,
          59,
          59,
          58,
          52,
          60,
          48,
          39,
          54,
          87,
          37,
          62,
          50,
          74,
          34,
          20,
          82,
          32,
          69,
          57,
          61,
          35,
          75,
          75,
          67,
          32,
          50,
          33,
          39,
          77,
          67,
          71,
          35,
          75,
          57,
          71,
          91,
          84,
          63,
          80,
          81,
          77,
          77,
          48,
          61,
          59,
          74,
          50,
          60,
          39,
          85,
          47,
          36,
          76,
          77,
          63,
          59,
          35,
          45,
          88,
          72,
          42,
          35,
          32,
          76,
          57,
          86,
          51,
          43,
          60,
          84,
          40,
          62,
          75,
          -51,
          39,
          72,
          36,
          49,
          35,
          88,
          69,
          66,
          34,
          71,
          37,
          32,
          45,
          33,
          70,
          55,
          84,
          38,
          -1,
          74,
          39,
          55,
          47,
          41,
          21,
          45,
          35,
          71,
          36,
          58,
          33,
          74,
          70,
          69,
          48,
          50,
          54,
          33,
          57,
          75,
          32,
          61,
          69,
          60,
          71,
          65,
          43,
          83,
          46,
          55,
          57,
          36,
          40,
          36,
          40,
          88,
          68,
          84,
          39,
          66,
          44,
          52,
          90,
          76,
          40,
          72,
          44,
          41,
          38,
          -5,
          82,
          48,
          36,
          58,
          69,
          82,
          78,
          57,
          42,
          87,
          34,
          75,
          72,
          73,
          35,
          38,
          46,
          17,
          81,
          79,
          63,
          57,
          74,
          35,
          49,
          49,
          76,
          43,
          66,
          47,
          35,
          85,
          67,
          32,
          52,
          54,
          29,
          45,
          64,
          46,
          66,
          66,
          47,
          76,
          49,
          70,
          50,
          48,
          44,
          48
         ],
         "xaxis": "x",
         "xbingroup": "x",
         "y": [
          -9,
          12,
          24,
          -18,
          -4,
          -7,
          2,
          1,
          -22,
          9,
          1,
          -30,
          7,
          9,
          25,
          6,
          25,
          5,
          8,
          0,
          -9,
          25,
          34,
          1,
          -34,
          0,
          -5,
          20,
          21,
          16,
          2,
          4,
          -2,
          -29,
          -6,
          -19,
          -10,
          -5,
          -16,
          -24,
          5,
          9,
          18,
          -23,
          2,
          -2,
          20,
          1,
          -4,
          33,
          29,
          1,
          20,
          -2,
          -1,
          -17,
          -5,
          -13,
          -19,
          37,
          11,
          33,
          20,
          -4,
          -12,
          -20,
          25,
          24,
          -2,
          -35,
          -1,
          -21,
          7,
          1,
          -26,
          7,
          0,
          22,
          -28,
          31,
          25,
          13,
          -10,
          1,
          0,
          -14,
          -29,
          12,
          -2,
          4,
          -9,
          -39,
          -25,
          -21,
          -7,
          4,
          25,
          -15,
          9,
          11,
          -19,
          33,
          -12,
          -8,
          -5,
          6,
          -3,
          18,
          17,
          29,
          -7,
          -3,
          14,
          -6,
          -28,
          -29,
          -2,
          -13,
          -7,
          -20,
          -29,
          -28,
          23,
          2,
          -12,
          -34,
          16,
          3,
          -7,
          -11,
          16,
          -21,
          -23,
          -24,
          -22,
          -20,
          23,
          4,
          21,
          -31,
          -17,
          -17,
          17,
          -7,
          23,
          3,
          18,
          -24,
          22,
          25,
          -22,
          -21,
          15,
          -3,
          -14,
          -4,
          -22,
          -29,
          -26,
          -3,
          -5,
          30,
          17,
          0,
          3,
          -32,
          26,
          -17,
          -16,
          34,
          -20,
          1,
          12,
          -39,
          17,
          -2,
          29,
          24,
          4,
          -28,
          -23,
          -25,
          12,
          25,
          -16,
          -20,
          24,
          15,
          21,
          8,
          -26,
          24,
          -21,
          -30,
          6,
          -1,
          6,
          14,
          20,
          28,
          30,
          40,
          27,
          -3,
          -9,
          5,
          -34,
          35,
          1,
          12,
          -20,
          -25,
          -17,
          -3,
          19,
          7,
          4,
          -28,
          3,
          3,
          3,
          14,
          -37,
          -5,
          1,
          -4,
          -12,
          -30,
          0,
          -20,
          -5,
          30,
          12,
          -14,
          7,
          -11,
          1,
          27,
          -10,
          1,
          3,
          14,
          -4,
          -5,
          -1,
          17,
          4,
          1,
          8,
          10,
          0,
          18,
          -20,
          7,
          -30,
          -1,
          2,
          10,
          -7,
          -9,
          5,
          -21,
          -11,
          10,
          1,
          21,
          14,
          0,
          1,
          -10,
          1,
          23,
          -1,
          -2,
          -1,
          -9,
          -16,
          -22,
          -12,
          -18,
          5,
          23,
          -2,
          13,
          31,
          34,
          -12,
          2,
          -36,
          4,
          10,
          21,
          -15,
          30,
          13,
          5,
          27,
          21,
          -6,
          17,
          -15,
          5,
          16,
          -1,
          -28,
          -25,
          -2,
          2,
          -29,
          9,
          -20,
          -20,
          -22,
          37,
          -27,
          -13,
          -6,
          11,
          -6,
          35,
          -10,
          10,
          -34,
          -3,
          7,
          -14,
          -4,
          29,
          10,
          -2,
          -3,
          -10,
          32,
          33,
          20,
          23,
          -5,
          21,
          11,
          27,
          -26,
          1,
          -32,
          5,
          31,
          -4,
          3,
          -8,
          3,
          37,
          29,
          31,
          12,
          4,
          -23,
          -12,
          7,
          4,
          7,
          29,
          39,
          -15,
          14,
          25,
          -6,
          2,
          1,
          33,
          33,
          31,
          -4,
          -2,
          29,
          -29,
          12,
          1,
          3,
          -18,
          -32,
          16,
          -15,
          -10,
          8,
          28,
          0,
          26,
          34,
          -1,
          -20,
          -3,
          18,
          27,
          7,
          12,
          -3,
          -19,
          12,
          12,
          13,
          -15,
          -5,
          -11,
          20,
          1,
          -18,
          26,
          7,
          0,
          9,
          -25,
          3,
          -14,
          19,
          -6,
          16,
          -17,
          -1,
          16,
          7,
          9,
          -21,
          -26,
          18,
          -21,
          19,
          25,
          -16,
          13,
          21,
          -6,
          6,
          0,
          -18,
          3,
          11,
          -29,
          -24,
          15,
          20,
          5,
          26,
          20,
          0,
          22,
          0,
          -3,
          28,
          -3,
          14,
          29,
          36,
          8,
          -38,
          14,
          -8,
          -5,
          -32,
          35,
          -8,
          -7,
          -17,
          -18,
          9,
          8,
          -14,
          -31,
          23,
          1,
          -2,
          -20,
          2,
          1,
          2,
          -10,
          -37,
          8,
          35,
          4,
          -3,
          -33,
          -7,
          -14,
          29,
          21,
          -12,
          31,
          -9,
          -12,
          14,
          7,
          -18,
          0,
          -3,
          1,
          6,
          0,
          25,
          -4,
          -15,
          1,
          -25,
          10,
          34,
          -18,
          -2,
          -18,
          -1,
          -33,
          -2,
          10,
          5,
          5,
          14,
          -3,
          25,
          3,
          28,
          -5,
          -8,
          -17,
          21,
          8,
          11,
          -14,
          28,
          -25,
          10,
          -13,
          10,
          34,
          21,
          3,
          -21,
          2,
          12,
          -27,
          -1,
          -4,
          -6,
          34,
          0,
          -1,
          6,
          38,
          30,
          -5,
          -21,
          2,
          -26,
          15,
          9,
          -12,
          -31,
          20,
          -5,
          1,
          33,
          -1,
          -4,
          -1,
          6,
          -36,
          19,
          -33,
          -21,
          -8,
          2,
          13,
          -18,
          -1,
          21,
          5,
          -32,
          -35,
          -7,
          -12,
          19,
          30,
          -2,
          -30,
          3,
          16,
          12,
          -3,
          5,
          12,
          4,
          -1,
          35,
          7,
          -7,
          6,
          19,
          -4,
          -17,
          7,
          -2,
          -17,
          -7,
          -28,
          -17,
          24,
          -8,
          1,
          25,
          -4,
          31,
          -8,
          -29,
          -9,
          32,
          21,
          -32,
          24,
          -15,
          3,
          10,
          -22,
          13,
          -13,
          -13,
          -8,
          -18,
          -6,
          -21,
          -20,
          18,
          0,
          -3,
          -25,
          10,
          -14,
          -28,
          15,
          -4,
          7,
          5,
          17,
          -39,
          -10,
          -10,
          -7,
          -10,
          16,
          -9,
          -36,
          36,
          7,
          -26,
          -3,
          -2,
          21,
          6,
          20,
          -31,
          7,
          -22,
          15,
          12,
          11,
          5,
          1,
          9,
          -8,
          6,
          18,
          7,
          -25,
          1,
          -2,
          -1,
          18,
          -9,
          -26,
          -5,
          33,
          22,
          21,
          -6,
          -1,
          8,
          -7,
          3,
          4,
          25,
          18,
          -27,
          -18,
          -25,
          -19,
          14,
          12,
          35,
          27,
          34,
          0,
          -1,
          14,
          20,
          -18,
          -19,
          30,
          -32,
          28,
          33,
          9,
          7,
          5,
          -15,
          0,
          -8,
          -16,
          21,
          10,
          -14,
          -7,
          -28,
          23,
          -11,
          30,
          5,
          9,
          27,
          12,
          7,
          31,
          25,
          31,
          -28,
          19,
          -20,
          -1,
          -10,
          34,
          -4,
          12,
          -3,
          6,
          -3,
          -35,
          -8,
          -3,
          -14,
          -8,
          -26,
          4,
          18,
          -3,
          10,
          -26,
          7,
          -10,
          -31,
          17,
          3,
          -2,
          -3,
          -11,
          -4,
          -25,
          -17,
          7,
          -9,
          26,
          -27,
          -28,
          3,
          -23,
          3,
          -18,
          -4,
          -24,
          34,
          -38,
          9,
          7,
          21,
          7,
          -10,
          36,
          30,
          21,
          9,
          0,
          6,
          -9,
          -21,
          13,
          -13,
          -33,
          15,
          30,
          3,
          -13,
          18,
          28,
          -21,
          -29,
          35,
          2,
          28,
          2,
          7,
          2,
          -6,
          38,
          -11,
          4,
          -18,
          -18,
          -21,
          -18,
          37,
          -22,
          36,
          -4,
          -2,
          -30,
          26,
          20,
          -8,
          21,
          -31,
          -31,
          -12,
          -9,
          32,
          0,
          -39,
          10,
          -27,
          -15,
          6,
          2,
          24,
          21,
          -12,
          -20,
          20,
          3,
          -20,
          -34,
          -2,
          -1,
          -7,
          -14,
          10,
          2,
          -3,
          -1,
          1,
          31,
          3,
          -25,
          37,
          4,
          -3,
          23,
          21,
          -7,
          26,
          -30,
          2,
          -7,
          13,
          20,
          -17,
          20,
          16,
          38,
          -5,
          -16,
          -24,
          0,
          32,
          -11,
          28,
          25,
          -1,
          10,
          32,
          -24,
          -11,
          -25,
          32,
          -5,
          16,
          7,
          -29,
          29,
          10,
          -2,
          -14,
          -37,
          -28,
          -16,
          -15,
          -17,
          -12,
          -28,
          23,
          20,
          2,
          -5,
          -1,
          -19,
          38,
          -6,
          7,
          -19,
          -8,
          7,
          18,
          -18,
          -5,
          4,
          -9,
          16,
          -7,
          -19,
          -10,
          -23,
          15,
          -5,
          -10,
          5,
          13,
          -13,
          -1,
          -2,
          19,
          8,
          16,
          13,
          -18,
          3,
          -2,
          -17,
          29,
          18,
          13,
          8,
          23,
          3,
          32,
          24,
          -7,
          11,
          -25,
          -5,
          -26,
          -19,
          -16,
          -16,
          36,
          -23,
          -6,
          31,
          -26,
          24,
          -4,
          14,
          -5,
          -12,
          24,
          3,
          -4,
          34,
          -18,
          -28,
          -29,
          20,
          23,
          -10,
          -9,
          -20,
          -14,
          6,
          4,
          5,
          17,
          14,
          -6,
          -17,
          -30,
          25,
          8,
          27,
          17,
          -2,
          28,
          5,
          -25,
          -32,
          7,
          -8,
          -21,
          -11,
          24,
          33,
          -4,
          21,
          -25,
          -13
         ],
         "yaxis": "y",
         "ybingroup": "y"
        }
       ],
       "layout": {
        "coloraxis": {
         "colorbar": {
          "title": {
           "text": "count"
          }
         },
         "colorscale": [
          [
           0,
           "rgb(255,245,240)"
          ],
          [
           0.125,
           "rgb(254,224,210)"
          ],
          [
           0.25,
           "rgb(252,187,161)"
          ],
          [
           0.375,
           "rgb(252,146,114)"
          ],
          [
           0.5,
           "rgb(251,106,74)"
          ],
          [
           0.625,
           "rgb(239,59,44)"
          ],
          [
           0.75,
           "rgb(203,24,29)"
          ],
          [
           0.875,
           "rgb(165,15,21)"
          ],
          [
           1,
           "rgb(103,0,13)"
          ]
         ]
        },
        "images": [
         {
          "layer": "below",
          "opacity": 1,
          "sizex": 200,
          "sizey": 85,
          "sizing": "stretch",
          "source": "data:image/jpg;base64,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",
          "x": -100,
          "xref": "x",
          "y": 42.5,
          "yref": "y"
         }
        ],
        "legend": {
         "tracegroupgap": 0
        },
        "showlegend": false,
        "template": {
         "data": {
          "bar": [
           {
            "error_x": {
             "color": "rgb(36,36,36)"
            },
            "error_y": {
             "color": "rgb(36,36,36)"
            },
            "marker": {
             "line": {
              "color": "white",
              "width": 0.5
             },
             "pattern": {
              "fillmode": "overlay",
              "size": 10,
              "solidity": 0.2
             }
            },
            "type": "bar"
           }
          ],
          "barpolar": [
           {
            "marker": {
             "line": {
              "color": "white",
              "width": 0.5
             },
             "pattern": {
              "fillmode": "overlay",
              "size": 10,
              "solidity": 0.2
             }
            },
            "type": "barpolar"
           }
          ],
          "carpet": [
           {
            "aaxis": {
             "endlinecolor": "rgb(36,36,36)",
             "gridcolor": "white",
             "linecolor": "white",
             "minorgridcolor": "white",
             "startlinecolor": "rgb(36,36,36)"
            },
            "baxis": {
             "endlinecolor": "rgb(36,36,36)",
             "gridcolor": "white",
             "linecolor": "white",
             "minorgridcolor": "white",
             "startlinecolor": "rgb(36,36,36)"
            },
            "type": "carpet"
           }
          ],
          "choropleth": [
           {
            "colorbar": {
             "outlinewidth": 1,
             "tickcolor": "rgb(36,36,36)",
             "ticks": "outside"
            },
            "type": "choropleth"
           }
          ],
          "contour": [
           {
            "colorbar": {
             "outlinewidth": 1,
             "tickcolor": "rgb(36,36,36)",
             "ticks": "outside"
            },
            "colorscale": [
             [
              0,
              "#440154"
             ],
             [
              0.1111111111111111,
              "#482878"
             ],
             [
              0.2222222222222222,
              "#3e4989"
             ],
             [
              0.3333333333333333,
              "#31688e"
             ],
             [
              0.4444444444444444,
              "#26828e"
             ],
             [
              0.5555555555555556,
              "#1f9e89"
             ],
             [
              0.6666666666666666,
              "#35b779"
             ],
             [
              0.7777777777777778,
              "#6ece58"
             ],
             [
              0.8888888888888888,
              "#b5de2b"
             ],
             [
              1,
              "#fde725"
             ]
            ],
            "type": "contour"
           }
          ],
          "contourcarpet": [
           {
            "colorbar": {
             "outlinewidth": 1,
             "tickcolor": "rgb(36,36,36)",
             "ticks": "outside"
            },
            "type": "contourcarpet"
           }
          ],
          "heatmap": [
           {
            "colorbar": {
             "outlinewidth": 1,
             "tickcolor": "rgb(36,36,36)",
             "ticks": "outside"
            },
            "colorscale": [
             [
              0,
              "#440154"
             ],
             [
              0.1111111111111111,
              "#482878"
             ],
             [
              0.2222222222222222,
              "#3e4989"
             ],
             [
              0.3333333333333333,
              "#31688e"
             ],
             [
              0.4444444444444444,
              "#26828e"
             ],
             [
              0.5555555555555556,
              "#1f9e89"
             ],
             [
              0.6666666666666666,
              "#35b779"
             ],
             [
              0.7777777777777778,
              "#6ece58"
             ],
             [
              0.8888888888888888,
              "#b5de2b"
             ],
             [
              1,
              "#fde725"
             ]
            ],
            "type": "heatmap"
           }
          ],
          "heatmapgl": [
           {
            "colorbar": {
             "outlinewidth": 1,
             "tickcolor": "rgb(36,36,36)",
             "ticks": "outside"
            },
            "colorscale": [
             [
              0,
              "#440154"
             ],
             [
              0.1111111111111111,
              "#482878"
             ],
             [
              0.2222222222222222,
              "#3e4989"
             ],
             [
              0.3333333333333333,
              "#31688e"
             ],
             [
              0.4444444444444444,
              "#26828e"
             ],
             [
              0.5555555555555556,
              "#1f9e89"
             ],
             [
              0.6666666666666666,
              "#35b779"
             ],
             [
              0.7777777777777778,
              "#6ece58"
             ],
             [
              0.8888888888888888,
              "#b5de2b"
             ],
             [
              1,
              "#fde725"
             ]
            ],
            "type": "heatmapgl"
           }
          ],
          "histogram": [
           {
            "marker": {
             "line": {
              "color": "white",
              "width": 0.6
             }
            },
            "type": "histogram"
           }
          ],
          "histogram2d": [
           {
            "colorbar": {
             "outlinewidth": 1,
             "tickcolor": "rgb(36,36,36)",
             "ticks": "outside"
            },
            "colorscale": [
             [
              0,
              "#440154"
             ],
             [
              0.1111111111111111,
              "#482878"
             ],
             [
              0.2222222222222222,
              "#3e4989"
             ],
             [
              0.3333333333333333,
              "#31688e"
             ],
             [
              0.4444444444444444,
              "#26828e"
             ],
             [
              0.5555555555555556,
              "#1f9e89"
             ],
             [
              0.6666666666666666,
              "#35b779"
             ],
             [
              0.7777777777777778,
              "#6ece58"
             ],
             [
              0.8888888888888888,
              "#b5de2b"
             ],
             [
              1,
              "#fde725"
             ]
            ],
            "type": "histogram2d"
           }
          ],
          "histogram2dcontour": [
           {
            "colorbar": {
             "outlinewidth": 1,
             "tickcolor": "rgb(36,36,36)",
             "ticks": "outside"
            },
            "colorscale": [
             [
              0,
              "#440154"
             ],
             [
              0.1111111111111111,
              "#482878"
             ],
             [
              0.2222222222222222,
              "#3e4989"
             ],
             [
              0.3333333333333333,
              "#31688e"
             ],
             [
              0.4444444444444444,
              "#26828e"
             ],
             [
              0.5555555555555556,
              "#1f9e89"
             ],
             [
              0.6666666666666666,
              "#35b779"
             ],
             [
              0.7777777777777778,
              "#6ece58"
             ],
             [
              0.8888888888888888,
              "#b5de2b"
             ],
             [
              1,
              "#fde725"
             ]
            ],
            "type": "histogram2dcontour"
           }
          ],
          "mesh3d": [
           {
            "colorbar": {
             "outlinewidth": 1,
             "tickcolor": "rgb(36,36,36)",
             "ticks": "outside"
            },
            "type": "mesh3d"
           }
          ],
          "parcoords": [
           {
            "line": {
             "colorbar": {
              "outlinewidth": 1,
              "tickcolor": "rgb(36,36,36)",
              "ticks": "outside"
             }
            },
            "type": "parcoords"
           }
          ],
          "pie": [
           {
            "automargin": true,
            "type": "pie"
           }
          ],
          "scatter": [
           {
            "fillpattern": {
             "fillmode": "overlay",
             "size": 10,
             "solidity": 0.2
            },
            "type": "scatter"
           }
          ],
          "scatter3d": [
           {
            "line": {
             "colorbar": {
              "outlinewidth": 1,
              "tickcolor": "rgb(36,36,36)",
              "ticks": "outside"
             }
            },
            "marker": {
             "colorbar": {
              "outlinewidth": 1,
              "tickcolor": "rgb(36,36,36)",
              "ticks": "outside"
             }
            },
            "type": "scatter3d"
           }
          ],
          "scattercarpet": [
           {
            "marker": {
             "colorbar": {
              "outlinewidth": 1,
              "tickcolor": "rgb(36,36,36)",
              "ticks": "outside"
             }
            },
            "type": "scattercarpet"
           }
          ],
          "scattergeo": [
           {
            "marker": {
             "colorbar": {
              "outlinewidth": 1,
              "tickcolor": "rgb(36,36,36)",
              "ticks": "outside"
             }
            },
            "type": "scattergeo"
           }
          ],
          "scattergl": [
           {
            "marker": {
             "colorbar": {
              "outlinewidth": 1,
              "tickcolor": "rgb(36,36,36)",
              "ticks": "outside"
             }
            },
            "type": "scattergl"
           }
          ],
          "scattermapbox": [
           {
            "marker": {
             "colorbar": {
              "outlinewidth": 1,
              "tickcolor": "rgb(36,36,36)",
              "ticks": "outside"
             }
            },
            "type": "scattermapbox"
           }
          ],
          "scatterpolar": [
           {
            "marker": {
             "colorbar": {
              "outlinewidth": 1,
              "tickcolor": "rgb(36,36,36)",
              "ticks": "outside"
             }
            },
            "type": "scatterpolar"
           }
          ],
          "scatterpolargl": [
           {
            "marker": {
             "colorbar": {
              "outlinewidth": 1,
              "tickcolor": "rgb(36,36,36)",
              "ticks": "outside"
             }
            },
            "type": "scatterpolargl"
           }
          ],
          "scatterternary": [
           {
            "marker": {
             "colorbar": {
              "outlinewidth": 1,
              "tickcolor": "rgb(36,36,36)",
              "ticks": "outside"
             }
            },
            "type": "scatterternary"
           }
          ],
          "surface": [
           {
            "colorbar": {
             "outlinewidth": 1,
             "tickcolor": "rgb(36,36,36)",
             "ticks": "outside"
            },
            "colorscale": [
             [
              0,
              "#440154"
             ],
             [
              0.1111111111111111,
              "#482878"
             ],
             [
              0.2222222222222222,
              "#3e4989"
             ],
             [
              0.3333333333333333,
              "#31688e"
             ],
             [
              0.4444444444444444,
              "#26828e"
             ],
             [
              0.5555555555555556,
              "#1f9e89"
             ],
             [
              0.6666666666666666,
              "#35b779"
             ],
             [
              0.7777777777777778,
              "#6ece58"
             ],
             [
              0.8888888888888888,
              "#b5de2b"
             ],
             [
              1,
              "#fde725"
             ]
            ],
            "type": "surface"
           }
          ],
          "table": [
           {
            "cells": {
             "fill": {
              "color": "rgb(237,237,237)"
             },
             "line": {
              "color": "white"
             }
            },
            "header": {
             "fill": {
              "color": "rgb(217,217,217)"
             },
             "line": {
              "color": "white"
             }
            },
            "type": "table"
           }
          ]
         },
         "layout": {
          "annotationdefaults": {
           "arrowhead": 0,
           "arrowwidth": 1
          },
          "autotypenumbers": "strict",
          "coloraxis": {
           "colorbar": {
            "outlinewidth": 1,
            "tickcolor": "rgb(36,36,36)",
            "ticks": "outside"
           }
          },
          "colorscale": {
           "diverging": [
            [
             0,
             "rgb(103,0,31)"
            ],
            [
             0.1,
             "rgb(178,24,43)"
            ],
            [
             0.2,
             "rgb(214,96,77)"
            ],
            [
             0.3,
             "rgb(244,165,130)"
            ],
            [
             0.4,
             "rgb(253,219,199)"
            ],
            [
             0.5,
             "rgb(247,247,247)"
            ],
            [
             0.6,
             "rgb(209,229,240)"
            ],
            [
             0.7,
             "rgb(146,197,222)"
            ],
            [
             0.8,
             "rgb(67,147,195)"
            ],
            [
             0.9,
             "rgb(33,102,172)"
            ],
            [
             1,
             "rgb(5,48,97)"
            ]
           ],
           "sequential": [
            [
             0,
             "#440154"
            ],
            [
             0.1111111111111111,
             "#482878"
            ],
            [
             0.2222222222222222,
             "#3e4989"
            ],
            [
             0.3333333333333333,
             "#31688e"
            ],
            [
             0.4444444444444444,
             "#26828e"
            ],
            [
             0.5555555555555556,
             "#1f9e89"
            ],
            [
             0.6666666666666666,
             "#35b779"
            ],
            [
             0.7777777777777778,
             "#6ece58"
            ],
            [
             0.8888888888888888,
             "#b5de2b"
            ],
            [
             1,
             "#fde725"
            ]
           ],
           "sequentialminus": [
            [
             0,
             "#440154"
            ],
            [
             0.1111111111111111,
             "#482878"
            ],
            [
             0.2222222222222222,
             "#3e4989"
            ],
            [
             0.3333333333333333,
             "#31688e"
            ],
            [
             0.4444444444444444,
             "#26828e"
            ],
            [
             0.5555555555555556,
             "#1f9e89"
            ],
            [
             0.6666666666666666,
             "#35b779"
            ],
            [
             0.7777777777777778,
             "#6ece58"
            ],
            [
             0.8888888888888888,
             "#b5de2b"
            ],
            [
             1,
             "#fde725"
            ]
           ]
          },
          "colorway": [
           "#1F77B4",
           "#FF7F0E",
           "#2CA02C",
           "#D62728",
           "#9467BD",
           "#8C564B",
           "#E377C2",
           "#7F7F7F",
           "#BCBD22",
           "#17BECF"
          ],
          "font": {
           "color": "rgb(36,36,36)"
          },
          "geo": {
           "bgcolor": "white",
           "lakecolor": "white",
           "landcolor": "white",
           "showlakes": true,
           "showland": true,
           "subunitcolor": "white"
          },
          "hoverlabel": {
           "align": "left"
          },
          "hovermode": "closest",
          "mapbox": {
           "style": "light"
          },
          "paper_bgcolor": "white",
          "plot_bgcolor": "white",
          "polar": {
           "angularaxis": {
            "gridcolor": "rgb(232,232,232)",
            "linecolor": "rgb(36,36,36)",
            "showgrid": false,
            "showline": true,
            "ticks": "outside"
           },
           "bgcolor": "white",
           "radialaxis": {
            "gridcolor": "rgb(232,232,232)",
            "linecolor": "rgb(36,36,36)",
            "showgrid": false,
            "showline": true,
            "ticks": "outside"
           }
          },
          "scene": {
           "xaxis": {
            "backgroundcolor": "white",
            "gridcolor": "rgb(232,232,232)",
            "gridwidth": 2,
            "linecolor": "rgb(36,36,36)",
            "showbackground": true,
            "showgrid": false,
            "showline": true,
            "ticks": "outside",
            "zeroline": false,
            "zerolinecolor": "rgb(36,36,36)"
           },
           "yaxis": {
            "backgroundcolor": "white",
            "gridcolor": "rgb(232,232,232)",
            "gridwidth": 2,
            "linecolor": "rgb(36,36,36)",
            "showbackground": true,
            "showgrid": false,
            "showline": true,
            "ticks": "outside",
            "zeroline": false,
            "zerolinecolor": "rgb(36,36,36)"
           },
           "zaxis": {
            "backgroundcolor": "white",
            "gridcolor": "rgb(232,232,232)",
            "gridwidth": 2,
            "linecolor": "rgb(36,36,36)",
            "showbackground": true,
            "showgrid": false,
            "showline": true,
            "ticks": "outside",
            "zeroline": false,
            "zerolinecolor": "rgb(36,36,36)"
           }
          },
          "shapedefaults": {
           "fillcolor": "black",
           "line": {
            "width": 0
           },
           "opacity": 0.3
          },
          "ternary": {
           "aaxis": {
            "gridcolor": "rgb(232,232,232)",
            "linecolor": "rgb(36,36,36)",
            "showgrid": false,
            "showline": true,
            "ticks": "outside"
           },
           "baxis": {
            "gridcolor": "rgb(232,232,232)",
            "linecolor": "rgb(36,36,36)",
            "showgrid": false,
            "showline": true,
            "ticks": "outside"
           },
           "bgcolor": "white",
           "caxis": {
            "gridcolor": "rgb(232,232,232)",
            "linecolor": "rgb(36,36,36)",
            "showgrid": false,
            "showline": true,
            "ticks": "outside"
           }
          },
          "title": {
           "x": 0.05
          },
          "xaxis": {
           "automargin": true,
           "gridcolor": "rgb(232,232,232)",
           "linecolor": "rgb(36,36,36)",
           "showgrid": false,
           "showline": true,
           "ticks": "outside",
           "title": {
            "standoff": 15
           },
           "zeroline": false,
           "zerolinecolor": "rgb(36,36,36)"
          },
          "yaxis": {
           "automargin": true,
           "gridcolor": "rgb(232,232,232)",
           "linecolor": "rgb(36,36,36)",
           "showgrid": false,
           "showline": true,
           "ticks": "outside",
           "title": {
            "standoff": 15
           },
           "zeroline": false,
           "zerolinecolor": "rgb(36,36,36)"
          }
         }
        },
        "title": {
         "text": "Calgary Flames 2014 Missed Shots"
        },
        "xaxis": {
         "anchor": "y",
         "domain": [
          0,
          1
         ],
         "range": [
          -100,
          100
         ],
         "title": {
          "text": "st_x"
         },
         "visible": false
        },
        "yaxis": {
         "anchor": "x",
         "domain": [
          0,
          1
         ],
         "range": [
          -45,
          45
         ],
         "title": {
          "text": "st_y"
         },
         "visible": false
        }
       }
      }
     },
     "metadata": {},
     "output_type": "display_data"
    }
   ],
   "source": [
    "fig = plot_heatmap(con, 2014, 20, 'Missed Shot')\n",
    "fig.show()"
   ]
  },
  {
   "cell_type": "markdown",
   "metadata": {},
   "source": [
    "Testing if it is reasonable to store the entire table for these last plots:"
   ]
  },
  {
   "cell_type": "code",
   "execution_count": 73,
   "metadata": {},
   "outputs": [],
   "source": [
    "query = \"\"\"\n",
    "SELECT\n",
    "    SUBSTR(game_id, 1, 4) AS season,\n",
    "    game_id, team_id_for, team_id_against,\n",
    "    event, secondaryType,\n",
    "    st_x, st_y\n",
    "FROM\n",
    "    game_plays\n",
    "WHERE\n",
    "    event IN ('Goal', 'Shot', 'Missed Shot')\n",
    "    AND\n",
    "        (x <> 'NA' AND y <> 'NA');\n",
    "\"\"\"\n",
    "\n",
    "shots_df = pd.read_sql(query, con)\n",
    "\n",
    "shots_df[[\"st_x\", \"st_y\"]] = shots_df[[\"st_x\", \"st_y\"]].apply(pd.to_numeric)"
   ]
  },
  {
   "cell_type": "code",
   "execution_count": 74,
   "metadata": {},
   "outputs": [
    {
     "data": {
      "text/html": [
       "<div>\n",
       "<style scoped>\n",
       "    .dataframe tbody tr th:only-of-type {\n",
       "        vertical-align: middle;\n",
       "    }\n",
       "\n",
       "    .dataframe tbody tr th {\n",
       "        vertical-align: top;\n",
       "    }\n",
       "\n",
       "    .dataframe thead th {\n",
       "        text-align: right;\n",
       "    }\n",
       "</style>\n",
       "<table border=\"1\" class=\"dataframe\">\n",
       "  <thead>\n",
       "    <tr style=\"text-align: right;\">\n",
       "      <th></th>\n",
       "      <th>season</th>\n",
       "      <th>game_id</th>\n",
       "      <th>team_id_for</th>\n",
       "      <th>team_id_against</th>\n",
       "      <th>event</th>\n",
       "      <th>secondaryType</th>\n",
       "      <th>st_x</th>\n",
       "      <th>st_y</th>\n",
       "    </tr>\n",
       "  </thead>\n",
       "  <tbody>\n",
       "    <tr>\n",
       "      <th>0</th>\n",
       "      <td>2016</td>\n",
       "      <td>2016020045</td>\n",
       "      <td>16</td>\n",
       "      <td>4</td>\n",
       "      <td>Shot</td>\n",
       "      <td>Wrist Shot</td>\n",
       "      <td>71</td>\n",
       "      <td>-9</td>\n",
       "    </tr>\n",
       "    <tr>\n",
       "      <th>1</th>\n",
       "      <td>2016</td>\n",
       "      <td>2016020045</td>\n",
       "      <td>16</td>\n",
       "      <td>4</td>\n",
       "      <td>Goal</td>\n",
       "      <td>Wrap-around</td>\n",
       "      <td>88</td>\n",
       "      <td>-5</td>\n",
       "    </tr>\n",
       "    <tr>\n",
       "      <th>2</th>\n",
       "      <td>2016</td>\n",
       "      <td>2016020045</td>\n",
       "      <td>4</td>\n",
       "      <td>16</td>\n",
       "      <td>Shot</td>\n",
       "      <td>Wrist Shot</td>\n",
       "      <td>56</td>\n",
       "      <td>-7</td>\n",
       "    </tr>\n",
       "    <tr>\n",
       "      <th>3</th>\n",
       "      <td>2016</td>\n",
       "      <td>2016020045</td>\n",
       "      <td>16</td>\n",
       "      <td>4</td>\n",
       "      <td>Shot</td>\n",
       "      <td>Slap Shot</td>\n",
       "      <td>37</td>\n",
       "      <td>24</td>\n",
       "    </tr>\n",
       "    <tr>\n",
       "      <th>4</th>\n",
       "      <td>2016</td>\n",
       "      <td>2016020045</td>\n",
       "      <td>4</td>\n",
       "      <td>16</td>\n",
       "      <td>Shot</td>\n",
       "      <td>Wrist Shot</td>\n",
       "      <td>57</td>\n",
       "      <td>-20</td>\n",
       "    </tr>\n",
       "  </tbody>\n",
       "</table>\n",
       "</div>"
      ],
      "text/plain": [
       "  season     game_id team_id_for team_id_against event secondaryType  st_x  \\\n",
       "0   2016  2016020045          16               4  Shot    Wrist Shot    71   \n",
       "1   2016  2016020045          16               4  Goal   Wrap-around    88   \n",
       "2   2016  2016020045           4              16  Shot    Wrist Shot    56   \n",
       "3   2016  2016020045          16               4  Shot     Slap Shot    37   \n",
       "4   2016  2016020045           4              16  Shot    Wrist Shot    57   \n",
       "\n",
       "   st_y  \n",
       "0    -9  \n",
       "1    -5  \n",
       "2    -7  \n",
       "3    24  \n",
       "4   -20  "
      ]
     },
     "execution_count": 74,
     "metadata": {},
     "output_type": "execute_result"
    }
   ],
   "source": [
    "shots_df.head()"
   ]
  },
  {
   "cell_type": "code",
   "execution_count": 26,
   "metadata": {},
   "outputs": [
    {
     "name": "stdout",
     "output_type": "stream",
     "text": [
      "<class 'pandas.core.frame.DataFrame'>\n",
      "RangeIndex: 1062526 entries, 0 to 1062525\n",
      "Data columns (total 7 columns):\n",
      " #   Column         Non-Null Count    Dtype \n",
      "---  ------         --------------    ----- \n",
      " 0   season         1062526 non-null  object\n",
      " 1   game_id        1062526 non-null  int64 \n",
      " 2   team_id_for    1062526 non-null  object\n",
      " 3   event          1062526 non-null  object\n",
      " 4   secondaryType  1062526 non-null  object\n",
      " 5   st_x           1062526 non-null  int64 \n",
      " 6   st_y           1062526 non-null  int64 \n",
      "dtypes: int64(3), object(4)\n",
      "memory usage: 56.7+ MB\n"
     ]
    }
   ],
   "source": [
    "shots_df.info()"
   ]
  },
  {
   "cell_type": "code",
   "execution_count": 75,
   "metadata": {},
   "outputs": [
    {
     "data": {
      "text/html": [
       "<div>\n",
       "<style scoped>\n",
       "    .dataframe tbody tr th:only-of-type {\n",
       "        vertical-align: middle;\n",
       "    }\n",
       "\n",
       "    .dataframe tbody tr th {\n",
       "        vertical-align: top;\n",
       "    }\n",
       "\n",
       "    .dataframe thead th {\n",
       "        text-align: right;\n",
       "    }\n",
       "</style>\n",
       "<table border=\"1\" class=\"dataframe\">\n",
       "  <thead>\n",
       "    <tr style=\"text-align: right;\">\n",
       "      <th></th>\n",
       "      <th>game_id</th>\n",
       "      <th>st_x</th>\n",
       "      <th>st_y</th>\n",
       "    </tr>\n",
       "  </thead>\n",
       "  <tbody>\n",
       "    <tr>\n",
       "      <th>count</th>\n",
       "      <td>1.062526e+06</td>\n",
       "      <td>1.062526e+06</td>\n",
       "      <td>1.062526e+06</td>\n",
       "    </tr>\n",
       "    <tr>\n",
       "      <th>mean</th>\n",
       "      <td>2.014657e+09</td>\n",
       "      <td>5.888580e+01</td>\n",
       "      <td>-1.743393e-01</td>\n",
       "    </tr>\n",
       "    <tr>\n",
       "      <th>std</th>\n",
       "      <td>2.880373e+06</td>\n",
       "      <td>2.192569e+01</td>\n",
       "      <td>1.902316e+01</td>\n",
       "    </tr>\n",
       "    <tr>\n",
       "      <th>min</th>\n",
       "      <td>2.010020e+09</td>\n",
       "      <td>-9.900000e+01</td>\n",
       "      <td>-4.200000e+01</td>\n",
       "    </tr>\n",
       "    <tr>\n",
       "      <th>25%</th>\n",
       "      <td>2.012021e+09</td>\n",
       "      <td>4.500000e+01</td>\n",
       "      <td>-1.400000e+01</td>\n",
       "    </tr>\n",
       "    <tr>\n",
       "      <th>50%</th>\n",
       "      <td>2.015020e+09</td>\n",
       "      <td>6.200000e+01</td>\n",
       "      <td>0.000000e+00</td>\n",
       "    </tr>\n",
       "    <tr>\n",
       "      <th>75%</th>\n",
       "      <td>2.017021e+09</td>\n",
       "      <td>7.600000e+01</td>\n",
       "      <td>1.400000e+01</td>\n",
       "    </tr>\n",
       "    <tr>\n",
       "      <th>max</th>\n",
       "      <td>2.019041e+09</td>\n",
       "      <td>9.900000e+01</td>\n",
       "      <td>4.200000e+01</td>\n",
       "    </tr>\n",
       "  </tbody>\n",
       "</table>\n",
       "</div>"
      ],
      "text/plain": [
       "            game_id          st_x          st_y\n",
       "count  1.062526e+06  1.062526e+06  1.062526e+06\n",
       "mean   2.014657e+09  5.888580e+01 -1.743393e-01\n",
       "std    2.880373e+06  2.192569e+01  1.902316e+01\n",
       "min    2.010020e+09 -9.900000e+01 -4.200000e+01\n",
       "25%    2.012021e+09  4.500000e+01 -1.400000e+01\n",
       "50%    2.015020e+09  6.200000e+01  0.000000e+00\n",
       "75%    2.017021e+09  7.600000e+01  1.400000e+01\n",
       "max    2.019041e+09  9.900000e+01  4.200000e+01"
      ]
     },
     "execution_count": 75,
     "metadata": {},
     "output_type": "execute_result"
    }
   ],
   "source": [
    "shots_df.describe()"
   ]
  },
  {
   "cell_type": "code",
   "execution_count": 76,
   "metadata": {},
   "outputs": [],
   "source": [
    "shots_df.to_pickle(\"nhl-dash/assets/shots_df.data\")"
   ]
  },
  {
   "cell_type": "markdown",
   "metadata": {},
   "source": [
    "Now, let's rewrite the heatmap function using this new df:"
   ]
  },
  {
   "cell_type": "code",
   "execution_count": 29,
   "metadata": {},
   "outputs": [],
   "source": [
    "def plot_heatmap_from_df(season, team_id, event, df = shots_df):\n",
    "    \n",
    "    df = df.query(f\"season == '{season}' and team_id_for == '{team_id}'\")\n",
    "\n",
    "    fig = px.density_heatmap(df.query(f\"event == '{event}'\"),\n",
    "                             x=\"st_x\",\n",
    "                             y=\"st_y\",\n",
    "                             nbinsx=50,\n",
    "                             nbinsy=50,\n",
    "                             range_x=[-100, 100],\n",
    "                             range_y=[-45, 45],\n",
    "                             color_continuous_scale=\"Reds\",\n",
    "                             title=team_dict[team_id]+' '+str(season)+' '+event+'s'\n",
    "                             )\n",
    "\n",
    "    fig.update_traces(opacity=0.6)\n",
    "\n",
    "    fig.add_layout_image(dict(source='data:image/jpg;base64,{}'.format(image1.decode()),\n",
    "                              xref=\"x\",\n",
    "                              yref=\"y\",\n",
    "                              x=-100, y=42.5,\n",
    "                              sizex=200,\n",
    "                              sizey=85, \n",
    "                              sizing=\"stretch\",\n",
    "                              opacity=1,\n",
    "                              layer=\"below\"))\n",
    "\n",
    "    fig.update_layout(template=\"simple_white\")\n",
    "    \n",
    "    #legend\n",
    "    fig.update_layout(showlegend=False)\n",
    "\n",
    "    #x axis\n",
    "    fig.update_xaxes(visible=False)\n",
    "\n",
    "    #y axis    \n",
    "    fig.update_yaxes(visible=False)\n",
    "    \n",
    "    return fig"
   ]
  },
  {
   "cell_type": "code",
   "execution_count": 30,
   "metadata": {},
   "outputs": [
    {
     "data": {
      "application/vnd.plotly.v1+json": {
       "config": {
        "plotlyServerURL": "https://plot.ly"
       },
       "data": [
        {
         "coloraxis": "coloraxis",
         "hovertemplate": "st_x=%{x}<br>st_y=%{y}<br>count=%{z}<extra></extra>",
         "name": "",
         "nbinsx": 50,
         "nbinsy": 50,
         "opacity": 0.6,
         "type": "histogram2d",
         "x": [
          72,
          67,
          38,
          80,
          62,
          82,
          60,
          56,
          78,
          60,
          44,
          55,
          82,
          66,
          55,
          67,
          40,
          82,
          81,
          65,
          60,
          75,
          40,
          71,
          79,
          79,
          67,
          66,
          72,
          71,
          81,
          82,
          71,
          61,
          64,
          86,
          82,
          60,
          73,
          76,
          54,
          77,
          81,
          81,
          74,
          -79,
          79,
          65,
          80,
          59,
          82,
          58,
          85,
          64,
          67,
          85,
          76,
          79,
          81,
          80,
          77,
          78,
          81,
          67,
          81,
          39,
          67,
          60,
          75,
          82,
          82,
          79,
          66,
          81,
          62,
          80,
          76,
          63,
          50,
          82,
          82,
          38,
          33,
          83,
          64,
          80,
          77,
          82,
          84,
          81,
          81,
          50,
          84,
          87,
          83,
          74,
          68,
          48,
          81,
          70,
          72,
          75,
          63,
          75,
          85,
          75,
          65,
          78,
          67,
          37,
          81,
          26,
          83,
          83,
          84,
          85,
          83,
          83,
          57,
          47,
          57,
          82,
          73,
          36,
          79,
          61,
          81,
          86,
          67,
          77,
          80,
          49,
          72,
          59,
          67,
          88,
          79,
          79,
          74,
          73,
          72,
          73,
          82,
          63,
          67,
          74,
          80,
          71,
          65,
          74,
          62,
          75,
          72,
          64,
          68,
          66,
          76,
          88,
          76,
          63,
          42,
          34,
          80,
          81,
          64,
          93,
          71,
          81,
          51,
          51,
          44,
          58,
          76,
          56,
          14,
          72,
          73,
          78,
          64,
          72,
          69,
          73,
          70,
          78,
          60,
          64,
          39,
          85,
          60,
          79,
          81,
          67,
          40,
          80,
          71,
          63,
          56,
          82,
          79,
          53,
          84,
          59,
          64,
          57,
          83,
          62,
          -9,
          33,
          52,
          67,
          67,
          82,
          85,
          83,
          39,
          79,
          58,
          54,
          71,
          78,
          70,
          68,
          49,
          14,
          65,
          73,
          32,
          69,
          82,
          73,
          79,
          39,
          82,
          83,
          2,
          81,
          82,
          66,
          87,
          61,
          34,
          31,
          68,
          37,
          86,
          71,
          78,
          49,
          76,
          60,
          73,
          80,
          74,
          86,
          72,
          69,
          75,
          75,
          64,
          85,
          75,
          43,
          84,
          58,
          60,
          63
         ],
         "xaxis": "x",
         "xbingroup": "x",
         "y": [
          0,
          2,
          10,
          2,
          -1,
          6,
          -19,
          -14,
          1,
          -13,
          -14,
          3,
          4,
          10,
          -27,
          3,
          -2,
          -2,
          0,
          1,
          4,
          8,
          -14,
          -11,
          -3,
          -6,
          3,
          -23,
          6,
          -3,
          -3,
          5,
          4,
          -4,
          -1,
          -5,
          -4,
          -5,
          -4,
          -2,
          0,
          -2,
          9,
          7,
          3,
          -1,
          1,
          5,
          6,
          9,
          22,
          -2,
          -5,
          -15,
          -3,
          -3,
          2,
          -14,
          7,
          -1,
          5,
          -1,
          -10,
          0,
          4,
          -1,
          2,
          -15,
          -1,
          -6,
          8,
          -15,
          8,
          1,
          -11,
          3,
          1,
          26,
          -26,
          8,
          -4,
          -3,
          22,
          -9,
          1,
          -2,
          -2,
          -6,
          9,
          6,
          12,
          -1,
          1,
          -10,
          4,
          -4,
          -2,
          14,
          0,
          -13,
          -17,
          -3,
          -4,
          -1,
          -4,
          12,
          32,
          4,
          9,
          13,
          3,
          -33,
          4,
          -8,
          -3,
          -30,
          6,
          -4,
          -1,
          -22,
          -19,
          0,
          -3,
          15,
          2,
          1,
          1,
          5,
          -1,
          23,
          10,
          16,
          -14,
          24,
          7,
          -7,
          -5,
          0,
          5,
          2,
          1,
          -9,
          -4,
          -2,
          -17,
          14,
          -11,
          -1,
          -1,
          5,
          10,
          5,
          0,
          18,
          -27,
          1,
          -1,
          -8,
          -2,
          -8,
          -19,
          -27,
          3,
          -1,
          -16,
          -17,
          -17,
          1,
          14,
          -3,
          -35,
          -18,
          0,
          -6,
          -17,
          7,
          2,
          8,
          -3,
          -3,
          -1,
          1,
          -1,
          1,
          9,
          12,
          16,
          -3,
          -4,
          -3,
          -4,
          -3,
          -23,
          -6,
          -1,
          5,
          -8,
          -3,
          -18,
          23,
          -35,
          -11,
          -2,
          -3,
          -1,
          2,
          7,
          -33,
          7,
          7,
          9,
          0,
          -14,
          -23,
          7,
          6,
          -9,
          -13,
          2,
          4,
          1,
          1,
          3,
          34,
          3,
          3,
          21,
          -5,
          -5,
          2,
          0,
          -22,
          1,
          15,
          31,
          -10,
          -22,
          4,
          6,
          -1,
          14,
          -21,
          -7,
          -18,
          1,
          1,
          -16,
          24,
          -19,
          -15,
          7,
          -5,
          0,
          -2,
          6,
          -5,
          21,
          3,
          -1,
          5,
          -28,
          -8,
          5,
          25,
          16,
          -2
         ],
         "yaxis": "y",
         "ybingroup": "y"
        }
       ],
       "layout": {
        "coloraxis": {
         "colorbar": {
          "title": {
           "text": "count"
          }
         },
         "colorscale": [
          [
           0,
           "rgb(255,245,240)"
          ],
          [
           0.125,
           "rgb(254,224,210)"
          ],
          [
           0.25,
           "rgb(252,187,161)"
          ],
          [
           0.375,
           "rgb(252,146,114)"
          ],
          [
           0.5,
           "rgb(251,106,74)"
          ],
          [
           0.625,
           "rgb(239,59,44)"
          ],
          [
           0.75,
           "rgb(203,24,29)"
          ],
          [
           0.875,
           "rgb(165,15,21)"
          ],
          [
           1,
           "rgb(103,0,13)"
          ]
         ]
        },
        "images": [
         {
          "layer": "below",
          "opacity": 1,
          "sizex": 200,
          "sizey": 85,
          "sizing": "stretch",
          "source": "data:image/jpg;base64,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",
          "x": -100,
          "xref": "x",
          "y": 42.5,
          "yref": "y"
         }
        ],
        "legend": {
         "tracegroupgap": 0
        },
        "showlegend": false,
        "template": {
         "data": {
          "bar": [
           {
            "error_x": {
             "color": "rgb(36,36,36)"
            },
            "error_y": {
             "color": "rgb(36,36,36)"
            },
            "marker": {
             "line": {
              "color": "white",
              "width": 0.5
             },
             "pattern": {
              "fillmode": "overlay",
              "size": 10,
              "solidity": 0.2
             }
            },
            "type": "bar"
           }
          ],
          "barpolar": [
           {
            "marker": {
             "line": {
              "color": "white",
              "width": 0.5
             },
             "pattern": {
              "fillmode": "overlay",
              "size": 10,
              "solidity": 0.2
             }
            },
            "type": "barpolar"
           }
          ],
          "carpet": [
           {
            "aaxis": {
             "endlinecolor": "rgb(36,36,36)",
             "gridcolor": "white",
             "linecolor": "white",
             "minorgridcolor": "white",
             "startlinecolor": "rgb(36,36,36)"
            },
            "baxis": {
             "endlinecolor": "rgb(36,36,36)",
             "gridcolor": "white",
             "linecolor": "white",
             "minorgridcolor": "white",
             "startlinecolor": "rgb(36,36,36)"
            },
            "type": "carpet"
           }
          ],
          "choropleth": [
           {
            "colorbar": {
             "outlinewidth": 1,
             "tickcolor": "rgb(36,36,36)",
             "ticks": "outside"
            },
            "type": "choropleth"
           }
          ],
          "contour": [
           {
            "colorbar": {
             "outlinewidth": 1,
             "tickcolor": "rgb(36,36,36)",
             "ticks": "outside"
            },
            "colorscale": [
             [
              0,
              "#440154"
             ],
             [
              0.1111111111111111,
              "#482878"
             ],
             [
              0.2222222222222222,
              "#3e4989"
             ],
             [
              0.3333333333333333,
              "#31688e"
             ],
             [
              0.4444444444444444,
              "#26828e"
             ],
             [
              0.5555555555555556,
              "#1f9e89"
             ],
             [
              0.6666666666666666,
              "#35b779"
             ],
             [
              0.7777777777777778,
              "#6ece58"
             ],
             [
              0.8888888888888888,
              "#b5de2b"
             ],
             [
              1,
              "#fde725"
             ]
            ],
            "type": "contour"
           }
          ],
          "contourcarpet": [
           {
            "colorbar": {
             "outlinewidth": 1,
             "tickcolor": "rgb(36,36,36)",
             "ticks": "outside"
            },
            "type": "contourcarpet"
           }
          ],
          "heatmap": [
           {
            "colorbar": {
             "outlinewidth": 1,
             "tickcolor": "rgb(36,36,36)",
             "ticks": "outside"
            },
            "colorscale": [
             [
              0,
              "#440154"
             ],
             [
              0.1111111111111111,
              "#482878"
             ],
             [
              0.2222222222222222,
              "#3e4989"
             ],
             [
              0.3333333333333333,
              "#31688e"
             ],
             [
              0.4444444444444444,
              "#26828e"
             ],
             [
              0.5555555555555556,
              "#1f9e89"
             ],
             [
              0.6666666666666666,
              "#35b779"
             ],
             [
              0.7777777777777778,
              "#6ece58"
             ],
             [
              0.8888888888888888,
              "#b5de2b"
             ],
             [
              1,
              "#fde725"
             ]
            ],
            "type": "heatmap"
           }
          ],
          "heatmapgl": [
           {
            "colorbar": {
             "outlinewidth": 1,
             "tickcolor": "rgb(36,36,36)",
             "ticks": "outside"
            },
            "colorscale": [
             [
              0,
              "#440154"
             ],
             [
              0.1111111111111111,
              "#482878"
             ],
             [
              0.2222222222222222,
              "#3e4989"
             ],
             [
              0.3333333333333333,
              "#31688e"
             ],
             [
              0.4444444444444444,
              "#26828e"
             ],
             [
              0.5555555555555556,
              "#1f9e89"
             ],
             [
              0.6666666666666666,
              "#35b779"
             ],
             [
              0.7777777777777778,
              "#6ece58"
             ],
             [
              0.8888888888888888,
              "#b5de2b"
             ],
             [
              1,
              "#fde725"
             ]
            ],
            "type": "heatmapgl"
           }
          ],
          "histogram": [
           {
            "marker": {
             "line": {
              "color": "white",
              "width": 0.6
             }
            },
            "type": "histogram"
           }
          ],
          "histogram2d": [
           {
            "colorbar": {
             "outlinewidth": 1,
             "tickcolor": "rgb(36,36,36)",
             "ticks": "outside"
            },
            "colorscale": [
             [
              0,
              "#440154"
             ],
             [
              0.1111111111111111,
              "#482878"
             ],
             [
              0.2222222222222222,
              "#3e4989"
             ],
             [
              0.3333333333333333,
              "#31688e"
             ],
             [
              0.4444444444444444,
              "#26828e"
             ],
             [
              0.5555555555555556,
              "#1f9e89"
             ],
             [
              0.6666666666666666,
              "#35b779"
             ],
             [
              0.7777777777777778,
              "#6ece58"
             ],
             [
              0.8888888888888888,
              "#b5de2b"
             ],
             [
              1,
              "#fde725"
             ]
            ],
            "type": "histogram2d"
           }
          ],
          "histogram2dcontour": [
           {
            "colorbar": {
             "outlinewidth": 1,
             "tickcolor": "rgb(36,36,36)",
             "ticks": "outside"
            },
            "colorscale": [
             [
              0,
              "#440154"
             ],
             [
              0.1111111111111111,
              "#482878"
             ],
             [
              0.2222222222222222,
              "#3e4989"
             ],
             [
              0.3333333333333333,
              "#31688e"
             ],
             [
              0.4444444444444444,
              "#26828e"
             ],
             [
              0.5555555555555556,
              "#1f9e89"
             ],
             [
              0.6666666666666666,
              "#35b779"
             ],
             [
              0.7777777777777778,
              "#6ece58"
             ],
             [
              0.8888888888888888,
              "#b5de2b"
             ],
             [
              1,
              "#fde725"
             ]
            ],
            "type": "histogram2dcontour"
           }
          ],
          "mesh3d": [
           {
            "colorbar": {
             "outlinewidth": 1,
             "tickcolor": "rgb(36,36,36)",
             "ticks": "outside"
            },
            "type": "mesh3d"
           }
          ],
          "parcoords": [
           {
            "line": {
             "colorbar": {
              "outlinewidth": 1,
              "tickcolor": "rgb(36,36,36)",
              "ticks": "outside"
             }
            },
            "type": "parcoords"
           }
          ],
          "pie": [
           {
            "automargin": true,
            "type": "pie"
           }
          ],
          "scatter": [
           {
            "fillpattern": {
             "fillmode": "overlay",
             "size": 10,
             "solidity": 0.2
            },
            "type": "scatter"
           }
          ],
          "scatter3d": [
           {
            "line": {
             "colorbar": {
              "outlinewidth": 1,
              "tickcolor": "rgb(36,36,36)",
              "ticks": "outside"
             }
            },
            "marker": {
             "colorbar": {
              "outlinewidth": 1,
              "tickcolor": "rgb(36,36,36)",
              "ticks": "outside"
             }
            },
            "type": "scatter3d"
           }
          ],
          "scattercarpet": [
           {
            "marker": {
             "colorbar": {
              "outlinewidth": 1,
              "tickcolor": "rgb(36,36,36)",
              "ticks": "outside"
             }
            },
            "type": "scattercarpet"
           }
          ],
          "scattergeo": [
           {
            "marker": {
             "colorbar": {
              "outlinewidth": 1,
              "tickcolor": "rgb(36,36,36)",
              "ticks": "outside"
             }
            },
            "type": "scattergeo"
           }
          ],
          "scattergl": [
           {
            "marker": {
             "colorbar": {
              "outlinewidth": 1,
              "tickcolor": "rgb(36,36,36)",
              "ticks": "outside"
             }
            },
            "type": "scattergl"
           }
          ],
          "scattermapbox": [
           {
            "marker": {
             "colorbar": {
              "outlinewidth": 1,
              "tickcolor": "rgb(36,36,36)",
              "ticks": "outside"
             }
            },
            "type": "scattermapbox"
           }
          ],
          "scatterpolar": [
           {
            "marker": {
             "colorbar": {
              "outlinewidth": 1,
              "tickcolor": "rgb(36,36,36)",
              "ticks": "outside"
             }
            },
            "type": "scatterpolar"
           }
          ],
          "scatterpolargl": [
           {
            "marker": {
             "colorbar": {
              "outlinewidth": 1,
              "tickcolor": "rgb(36,36,36)",
              "ticks": "outside"
             }
            },
            "type": "scatterpolargl"
           }
          ],
          "scatterternary": [
           {
            "marker": {
             "colorbar": {
              "outlinewidth": 1,
              "tickcolor": "rgb(36,36,36)",
              "ticks": "outside"
             }
            },
            "type": "scatterternary"
           }
          ],
          "surface": [
           {
            "colorbar": {
             "outlinewidth": 1,
             "tickcolor": "rgb(36,36,36)",
             "ticks": "outside"
            },
            "colorscale": [
             [
              0,
              "#440154"
             ],
             [
              0.1111111111111111,
              "#482878"
             ],
             [
              0.2222222222222222,
              "#3e4989"
             ],
             [
              0.3333333333333333,
              "#31688e"
             ],
             [
              0.4444444444444444,
              "#26828e"
             ],
             [
              0.5555555555555556,
              "#1f9e89"
             ],
             [
              0.6666666666666666,
              "#35b779"
             ],
             [
              0.7777777777777778,
              "#6ece58"
             ],
             [
              0.8888888888888888,
              "#b5de2b"
             ],
             [
              1,
              "#fde725"
             ]
            ],
            "type": "surface"
           }
          ],
          "table": [
           {
            "cells": {
             "fill": {
              "color": "rgb(237,237,237)"
             },
             "line": {
              "color": "white"
             }
            },
            "header": {
             "fill": {
              "color": "rgb(217,217,217)"
             },
             "line": {
              "color": "white"
             }
            },
            "type": "table"
           }
          ]
         },
         "layout": {
          "annotationdefaults": {
           "arrowhead": 0,
           "arrowwidth": 1
          },
          "autotypenumbers": "strict",
          "coloraxis": {
           "colorbar": {
            "outlinewidth": 1,
            "tickcolor": "rgb(36,36,36)",
            "ticks": "outside"
           }
          },
          "colorscale": {
           "diverging": [
            [
             0,
             "rgb(103,0,31)"
            ],
            [
             0.1,
             "rgb(178,24,43)"
            ],
            [
             0.2,
             "rgb(214,96,77)"
            ],
            [
             0.3,
             "rgb(244,165,130)"
            ],
            [
             0.4,
             "rgb(253,219,199)"
            ],
            [
             0.5,
             "rgb(247,247,247)"
            ],
            [
             0.6,
             "rgb(209,229,240)"
            ],
            [
             0.7,
             "rgb(146,197,222)"
            ],
            [
             0.8,
             "rgb(67,147,195)"
            ],
            [
             0.9,
             "rgb(33,102,172)"
            ],
            [
             1,
             "rgb(5,48,97)"
            ]
           ],
           "sequential": [
            [
             0,
             "#440154"
            ],
            [
             0.1111111111111111,
             "#482878"
            ],
            [
             0.2222222222222222,
             "#3e4989"
            ],
            [
             0.3333333333333333,
             "#31688e"
            ],
            [
             0.4444444444444444,
             "#26828e"
            ],
            [
             0.5555555555555556,
             "#1f9e89"
            ],
            [
             0.6666666666666666,
             "#35b779"
            ],
            [
             0.7777777777777778,
             "#6ece58"
            ],
            [
             0.8888888888888888,
             "#b5de2b"
            ],
            [
             1,
             "#fde725"
            ]
           ],
           "sequentialminus": [
            [
             0,
             "#440154"
            ],
            [
             0.1111111111111111,
             "#482878"
            ],
            [
             0.2222222222222222,
             "#3e4989"
            ],
            [
             0.3333333333333333,
             "#31688e"
            ],
            [
             0.4444444444444444,
             "#26828e"
            ],
            [
             0.5555555555555556,
             "#1f9e89"
            ],
            [
             0.6666666666666666,
             "#35b779"
            ],
            [
             0.7777777777777778,
             "#6ece58"
            ],
            [
             0.8888888888888888,
             "#b5de2b"
            ],
            [
             1,
             "#fde725"
            ]
           ]
          },
          "colorway": [
           "#1F77B4",
           "#FF7F0E",
           "#2CA02C",
           "#D62728",
           "#9467BD",
           "#8C564B",
           "#E377C2",
           "#7F7F7F",
           "#BCBD22",
           "#17BECF"
          ],
          "font": {
           "color": "rgb(36,36,36)"
          },
          "geo": {
           "bgcolor": "white",
           "lakecolor": "white",
           "landcolor": "white",
           "showlakes": true,
           "showland": true,
           "subunitcolor": "white"
          },
          "hoverlabel": {
           "align": "left"
          },
          "hovermode": "closest",
          "mapbox": {
           "style": "light"
          },
          "paper_bgcolor": "white",
          "plot_bgcolor": "white",
          "polar": {
           "angularaxis": {
            "gridcolor": "rgb(232,232,232)",
            "linecolor": "rgb(36,36,36)",
            "showgrid": false,
            "showline": true,
            "ticks": "outside"
           },
           "bgcolor": "white",
           "radialaxis": {
            "gridcolor": "rgb(232,232,232)",
            "linecolor": "rgb(36,36,36)",
            "showgrid": false,
            "showline": true,
            "ticks": "outside"
           }
          },
          "scene": {
           "xaxis": {
            "backgroundcolor": "white",
            "gridcolor": "rgb(232,232,232)",
            "gridwidth": 2,
            "linecolor": "rgb(36,36,36)",
            "showbackground": true,
            "showgrid": false,
            "showline": true,
            "ticks": "outside",
            "zeroline": false,
            "zerolinecolor": "rgb(36,36,36)"
           },
           "yaxis": {
            "backgroundcolor": "white",
            "gridcolor": "rgb(232,232,232)",
            "gridwidth": 2,
            "linecolor": "rgb(36,36,36)",
            "showbackground": true,
            "showgrid": false,
            "showline": true,
            "ticks": "outside",
            "zeroline": false,
            "zerolinecolor": "rgb(36,36,36)"
           },
           "zaxis": {
            "backgroundcolor": "white",
            "gridcolor": "rgb(232,232,232)",
            "gridwidth": 2,
            "linecolor": "rgb(36,36,36)",
            "showbackground": true,
            "showgrid": false,
            "showline": true,
            "ticks": "outside",
            "zeroline": false,
            "zerolinecolor": "rgb(36,36,36)"
           }
          },
          "shapedefaults": {
           "fillcolor": "black",
           "line": {
            "width": 0
           },
           "opacity": 0.3
          },
          "ternary": {
           "aaxis": {
            "gridcolor": "rgb(232,232,232)",
            "linecolor": "rgb(36,36,36)",
            "showgrid": false,
            "showline": true,
            "ticks": "outside"
           },
           "baxis": {
            "gridcolor": "rgb(232,232,232)",
            "linecolor": "rgb(36,36,36)",
            "showgrid": false,
            "showline": true,
            "ticks": "outside"
           },
           "bgcolor": "white",
           "caxis": {
            "gridcolor": "rgb(232,232,232)",
            "linecolor": "rgb(36,36,36)",
            "showgrid": false,
            "showline": true,
            "ticks": "outside"
           }
          },
          "title": {
           "x": 0.05
          },
          "xaxis": {
           "automargin": true,
           "gridcolor": "rgb(232,232,232)",
           "linecolor": "rgb(36,36,36)",
           "showgrid": false,
           "showline": true,
           "ticks": "outside",
           "title": {
            "standoff": 15
           },
           "zeroline": false,
           "zerolinecolor": "rgb(36,36,36)"
          },
          "yaxis": {
           "automargin": true,
           "gridcolor": "rgb(232,232,232)",
           "linecolor": "rgb(36,36,36)",
           "showgrid": false,
           "showline": true,
           "ticks": "outside",
           "title": {
            "standoff": 15
           },
           "zeroline": false,
           "zerolinecolor": "rgb(36,36,36)"
          }
         }
        },
        "title": {
         "text": "Calgary Flames 2014 Goals"
        },
        "xaxis": {
         "anchor": "y",
         "domain": [
          0,
          1
         ],
         "range": [
          -100,
          100
         ],
         "title": {
          "text": "st_x"
         },
         "visible": false
        },
        "yaxis": {
         "anchor": "x",
         "domain": [
          0,
          1
         ],
         "range": [
          -45,
          45
         ],
         "title": {
          "text": "st_y"
         },
         "visible": false
        }
       }
      }
     },
     "metadata": {},
     "output_type": "display_data"
    }
   ],
   "source": [
    "fig = plot_heatmap_from_df(2014, 20, 'Goal')\n",
    "fig.show()"
   ]
  },
  {
   "cell_type": "markdown",
   "metadata": {},
   "source": [
    "## Shot data with position"
   ]
  },
  {
   "cell_type": "code",
   "execution_count": 31,
   "metadata": {},
   "outputs": [],
   "source": [
    "def plot_shot_type(season, team_id, shot_type, game_id = None, df = shots_df):\n",
    "    \"\"\"\n",
    "    Plots shot position with background rink (NHL official size).\n",
    "    Arguments:\n",
    "    - con: conncetion to nhl database (given in project folder or converted from kaggle dataset)\n",
    "    - season: integer value of start year of season (currently available: 2000 to 2019)\n",
    "    - team_id: ID of team as given by the table team_info\n",
    "    - shot_type: secondary event type of shot events. \n",
    "        * Available: 'Wrist Shot', 'Slap Shot', 'Snap Shot', 'Backhand', 'Tip-In', 'Deflected', 'Wrap-around'.\n",
    "    - game_id (optional): if None is given, plots the entire season. Otherwise, plots only shots for specific game_id.\n",
    "    \"\"\"\n",
    "\n",
    "    df = df.query(f\"season == '{season}' and team_id_for == '{team_id}'\")\n",
    "    \n",
    "    if game_id:\n",
    "        df = df.query(f\"secondaryType == '{shot_type}' and game_id == {game_id}\")\n",
    "        title = team_dict[team_id] + ' ' + str(season) + ' Game ID: '+ str(game_id) + ' ' + shot_type +\\\n",
    "                f's <br><sup>{len(df)} shots</sup>'\n",
    "    \n",
    "    else:\n",
    "        df = df.query(f\"secondaryType == '{shot_type}'\")\n",
    "        title = team_dict[team_id] + ' ' + str(season) + ' ' + shot_type +\\\n",
    "                f's <br><sup>{len(df)} shots</sup>'\n",
    "\n",
    "    number_of_shots = len(df)\n",
    "\n",
    "    marker_size = 12\n",
    "    marker_width = 1\n",
    "\n",
    "    fig = px.scatter(\n",
    "        df,\n",
    "        x='st_x',\n",
    "        y='st_y',\n",
    "        color='event',\n",
    "        symbol='event',\n",
    "        range_x=[-100, 100],\n",
    "        range_y=[-45, 45],\n",
    "        title=title,\n",
    "        color_discrete_map={  # replaces default color mapping by value\n",
    "            \"Goal\": \"DarkRed\",\n",
    "            \"Shot\": \"LawnGreen\"\n",
    "        },\n",
    "        symbol_map={  # replaces default symbol mapping by value\n",
    "            \"Shot\": \"x\",\n",
    "            \"Goal\": \"circle\"\n",
    "        })\n",
    "\n",
    "    fig.update_traces(marker=dict(size=marker_size,\n",
    "                                  line=dict(width=marker_width,\n",
    "                                            color='DarkSlateGrey')),\n",
    "                      selector=dict(mode='markers'),\n",
    "                      opacity=0.6)\n",
    "\n",
    "    fig.add_layout_image(\n",
    "        dict(source='data:image/jpg;base64,{}'.format(image1.decode()),\n",
    "             xref=\"x\",\n",
    "             yref=\"y\",\n",
    "             x=-100,\n",
    "             y=42.5,\n",
    "             sizex=200,\n",
    "             sizey=85,\n",
    "             sizing=\"stretch\",\n",
    "             opacity=0.6,\n",
    "             layer=\"below\"))\n",
    "\n",
    "    #x axis\n",
    "    fig.update_xaxes(visible=False)\n",
    "\n",
    "    #y axis\n",
    "    fig.update_yaxes(visible=False)\n",
    "\n",
    "    # Set templates\n",
    "    fig.update_layout(template=\"plotly_white\")\n",
    "\n",
    "    return fig"
   ]
  },
  {
   "cell_type": "code",
   "execution_count": 32,
   "metadata": {},
   "outputs": [
    {
     "data": {
      "application/vnd.plotly.v1+json": {
       "config": {
        "plotlyServerURL": "https://plot.ly"
       },
       "data": [
        {
         "hovertemplate": "event=Shot<br>st_x=%{x}<br>st_y=%{y}<extra></extra>",
         "legendgroup": "Shot",
         "marker": {
          "color": "LawnGreen",
          "line": {
           "color": "DarkSlateGrey",
           "width": 1
          },
          "size": 12,
          "symbol": "x"
         },
         "mode": "markers",
         "name": "Shot",
         "opacity": 0.6,
         "orientation": "v",
         "showlegend": true,
         "type": "scatter",
         "x": [
          83,
          53,
          59,
          33,
          61,
          -52,
          57,
          50,
          56,
          36,
          45,
          59,
          31,
          31,
          47,
          55,
          34,
          70,
          43,
          51,
          52,
          37,
          33,
          46,
          46,
          50,
          11,
          28,
          45,
          63,
          53,
          37,
          36,
          49,
          38,
          36,
          39,
          39,
          38,
          35,
          33,
          46,
          63,
          45,
          61,
          51,
          40,
          39,
          42,
          50,
          49,
          39,
          34,
          45,
          46,
          61,
          62,
          60,
          59,
          38,
          68,
          54,
          35,
          53,
          57,
          41,
          34,
          38,
          46,
          55,
          34,
          34,
          59,
          73,
          38,
          69,
          73,
          52,
          41,
          57,
          39,
          59,
          49,
          36,
          35,
          48,
          42,
          43,
          43,
          43,
          37,
          18,
          55,
          64,
          62,
          35,
          42,
          52,
          60,
          50,
          32,
          40,
          45,
          54,
          76,
          38,
          32,
          34,
          -5,
          63,
          52,
          48,
          57,
          35,
          39,
          75,
          48,
          37,
          53,
          13,
          49,
          38,
          56,
          37,
          10,
          70,
          72,
          64,
          44,
          56,
          50,
          42,
          30,
          53,
          31,
          33,
          37,
          32,
          40,
          52,
          61,
          37,
          30,
          49,
          52,
          47,
          45,
          51,
          48,
          47,
          31,
          61,
          62,
          38,
          56,
          49,
          49,
          49,
          45,
          44,
          39,
          58,
          48,
          41,
          80,
          42,
          36,
          33,
          43,
          42,
          51,
          73,
          48,
          52,
          54,
          47,
          46,
          48,
          54,
          52,
          46,
          35,
          35,
          44,
          11,
          41,
          49,
          44,
          35,
          43,
          37,
          55,
          39,
          49,
          44,
          88,
          35,
          4,
          42,
          37,
          32,
          50,
          54,
          38,
          47,
          57,
          41,
          64,
          42,
          86,
          65,
          60,
          60,
          45,
          48,
          39,
          56,
          67,
          44,
          52,
          43,
          45,
          58,
          33,
          41,
          33,
          32,
          57,
          67,
          41,
          36,
          43,
          38,
          34,
          61,
          33,
          31,
          75,
          43,
          44,
          57,
          37,
          69,
          41,
          47,
          32,
          29,
          54,
          34,
          39,
          64,
          39,
          65,
          48,
          51,
          48,
          51,
          36,
          46,
          30,
          63,
          39,
          5,
          42,
          67,
          45,
          69,
          60,
          59,
          50,
          63,
          36,
          38,
          48,
          51,
          37,
          49,
          38,
          51,
          36,
          54,
          43,
          42,
          46,
          38,
          40,
          49,
          49,
          52,
          41,
          53,
          31,
          83,
          49,
          39,
          45,
          69,
          34,
          32,
          32,
          79,
          35,
          40,
          37,
          46,
          38,
          42,
          68,
          36,
          24,
          55,
          37,
          70,
          60,
          3,
          41,
          33,
          54,
          31,
          56,
          -24,
          36,
          40,
          43,
          55,
          4,
          44,
          42,
          23,
          57,
          42,
          62,
          52,
          38,
          77,
          6,
          39,
          46,
          39,
          49,
          34,
          32,
          33,
          49,
          68,
          64,
          42,
          40,
          46,
          53,
          35,
          39,
          34,
          33,
          46,
          42,
          40,
          35,
          32,
          42,
          52,
          42,
          35,
          62,
          37,
          31,
          63,
          39,
          37,
          29,
          67,
          60,
          32,
          37,
          35,
          60,
          44,
          44,
          55,
          68,
          30,
          47,
          35,
          -18,
          33,
          48,
          54,
          48,
          52,
          60,
          60,
          36,
          59,
          47,
          34,
          34,
          40,
          38,
          4,
          44,
          46,
          45,
          49,
          46,
          55,
          48,
          48
         ],
         "xaxis": "x",
         "y": [
          -3,
          13,
          -26,
          -16,
          -8,
          7,
          15,
          -30,
          -27,
          -18,
          -12,
          16,
          -33,
          -20,
          21,
          16,
          8,
          3,
          -1,
          -29,
          -21,
          27,
          18,
          -14,
          -23,
          -1,
          33,
          29,
          20,
          -15,
          -15,
          4,
          20,
          14,
          -27,
          2,
          24,
          -11,
          -13,
          -15,
          21,
          12,
          -28,
          13,
          23,
          -25,
          23,
          26,
          28,
          3,
          -10,
          22,
          2,
          26,
          -30,
          34,
          25,
          -21,
          -1,
          27,
          -23,
          -32,
          20,
          -31,
          10,
          5,
          8,
          16,
          29,
          21,
          24,
          -27,
          -15,
          38,
          -2,
          36,
          7,
          35,
          16,
          9,
          -29,
          -27,
          26,
          -33,
          12,
          -7,
          0,
          20,
          -21,
          -20,
          23,
          28,
          -33,
          13,
          28,
          2,
          23,
          -19,
          4,
          28,
          -4,
          18,
          21,
          23,
          1,
          -17,
          -23,
          14,
          -14,
          2,
          -20,
          -27,
          -38,
          31,
          -23,
          -25,
          -18,
          26,
          25,
          -27,
          -33,
          -8,
          23,
          -30,
          -19,
          24,
          23,
          -10,
          3,
          26,
          -36,
          -38,
          -17,
          20,
          -20,
          -29,
          8,
          -25,
          -29,
          8,
          -10,
          -34,
          3,
          25,
          10,
          18,
          24,
          9,
          27,
          -12,
          28,
          6,
          9,
          -27,
          -29,
          18,
          20,
          27,
          3,
          -12,
          -3,
          11,
          -5,
          -2,
          -24,
          -14,
          9,
          -33,
          3,
          15,
          7,
          -7,
          22,
          15,
          21,
          -1,
          11,
          12,
          2,
          17,
          11,
          -25,
          9,
          -9,
          2,
          7,
          17,
          -19,
          -20,
          27,
          21,
          26,
          -3,
          35,
          -23,
          17,
          -13,
          -36,
          -18,
          12,
          -11,
          20,
          -27,
          -19,
          19,
          4,
          10,
          -32,
          24,
          -20,
          -24,
          -21,
          20,
          30,
          23,
          15,
          14,
          32,
          23,
          21,
          -17,
          17,
          13,
          -27,
          -33,
          5,
          -30,
          28,
          -25,
          -22,
          -20,
          8,
          -19,
          6,
          11,
          14,
          31,
          15,
          25,
          31,
          17,
          14,
          14,
          7,
          16,
          35,
          -3,
          -33,
          -9,
          -12,
          18,
          -29,
          -3,
          -27,
          25,
          -8,
          -28,
          31,
          3,
          -7,
          -28,
          -18,
          -33,
          27,
          -31,
          -25,
          -8,
          -5,
          -15,
          11,
          27,
          -22,
          -15,
          28,
          -20,
          1,
          -3,
          19,
          -28,
          -28,
          -25,
          19,
          -25,
          -25,
          0,
          16,
          -22,
          14,
          34,
          34,
          22,
          -31,
          -6,
          -11,
          20,
          -23,
          -15,
          27,
          -1,
          -26,
          32,
          -26,
          -21,
          -20,
          7,
          -25,
          24,
          19,
          -35,
          -31,
          27,
          -17,
          32,
          24,
          38,
          10,
          3,
          -27,
          23,
          -36,
          -4,
          33,
          -33,
          -5,
          38,
          -21,
          -18,
          29,
          -28,
          12,
          -6,
          12,
          3,
          27,
          -8,
          36,
          26,
          27,
          11,
          35,
          -29,
          31,
          24,
          27,
          -31,
          -8,
          27,
          3,
          3,
          -4,
          23,
          18,
          -12,
          -33,
          -22,
          19,
          3,
          7,
          -33,
          28,
          31,
          10,
          -35,
          -32,
          -29,
          -15,
          -35,
          -26,
          -2,
          22,
          25,
          12,
          33,
          24,
          8,
          26,
          -19,
          -18,
          18,
          -14,
          4,
          -37,
          -28,
          7,
          -16,
          -26,
          -18,
          0,
          16,
          -7,
          20,
          -26,
          28,
          21,
          -12,
          -32,
          -28,
          23,
          -5,
          26,
          1,
          -27,
          -8,
          25,
          25,
          -29,
          32
         ],
         "yaxis": "y"
        },
        {
         "hovertemplate": "event=Goal<br>st_x=%{x}<br>st_y=%{y}<extra></extra>",
         "legendgroup": "Goal",
         "marker": {
          "color": "DarkRed",
          "line": {
           "color": "DarkSlateGrey",
           "width": 1
          },
          "size": 12,
          "symbol": "circle"
         },
         "mode": "markers",
         "name": "Goal",
         "opacity": 0.6,
         "orientation": "v",
         "showlegend": true,
         "type": "scatter",
         "x": [
          60,
          55,
          66,
          40,
          40,
          65,
          79,
          39,
          60,
          38,
          33,
          48,
          70,
          37,
          47,
          36,
          49,
          74,
          51,
          51,
          44,
          39,
          67,
          33,
          39,
          54,
          49,
          34,
          31,
          37,
          49,
          75,
          58,
          60
         ],
         "xaxis": "x",
         "y": [
          -19,
          3,
          10,
          -2,
          -14,
          5,
          -14,
          -1,
          -15,
          -3,
          22,
          14,
          -13,
          13,
          -22,
          15,
          16,
          5,
          14,
          -3,
          -35,
          16,
          -3,
          -33,
          7,
          -13,
          3,
          14,
          -21,
          -18,
          24,
          3,
          25,
          16
         ],
         "yaxis": "y"
        }
       ],
       "layout": {
        "images": [
         {
          "layer": "below",
          "opacity": 0.6,
          "sizex": 200,
          "sizey": 85,
          "sizing": "stretch",
          "source": "data:image/jpg;base64,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",
          "x": -100,
          "xref": "x",
          "y": 42.5,
          "yref": "y"
         }
        ],
        "legend": {
         "title": {
          "text": "event"
         },
         "tracegroupgap": 0
        },
        "template": {
         "data": {
          "bar": [
           {
            "error_x": {
             "color": "#2a3f5f"
            },
            "error_y": {
             "color": "#2a3f5f"
            },
            "marker": {
             "line": {
              "color": "white",
              "width": 0.5
             },
             "pattern": {
              "fillmode": "overlay",
              "size": 10,
              "solidity": 0.2
             }
            },
            "type": "bar"
           }
          ],
          "barpolar": [
           {
            "marker": {
             "line": {
              "color": "white",
              "width": 0.5
             },
             "pattern": {
              "fillmode": "overlay",
              "size": 10,
              "solidity": 0.2
             }
            },
            "type": "barpolar"
           }
          ],
          "carpet": [
           {
            "aaxis": {
             "endlinecolor": "#2a3f5f",
             "gridcolor": "#C8D4E3",
             "linecolor": "#C8D4E3",
             "minorgridcolor": "#C8D4E3",
             "startlinecolor": "#2a3f5f"
            },
            "baxis": {
             "endlinecolor": "#2a3f5f",
             "gridcolor": "#C8D4E3",
             "linecolor": "#C8D4E3",
             "minorgridcolor": "#C8D4E3",
             "startlinecolor": "#2a3f5f"
            },
            "type": "carpet"
           }
          ],
          "choropleth": [
           {
            "colorbar": {
             "outlinewidth": 0,
             "ticks": ""
            },
            "type": "choropleth"
           }
          ],
          "contour": [
           {
            "colorbar": {
             "outlinewidth": 0,
             "ticks": ""
            },
            "colorscale": [
             [
              0,
              "#0d0887"
             ],
             [
              0.1111111111111111,
              "#46039f"
             ],
             [
              0.2222222222222222,
              "#7201a8"
             ],
             [
              0.3333333333333333,
              "#9c179e"
             ],
             [
              0.4444444444444444,
              "#bd3786"
             ],
             [
              0.5555555555555556,
              "#d8576b"
             ],
             [
              0.6666666666666666,
              "#ed7953"
             ],
             [
              0.7777777777777778,
              "#fb9f3a"
             ],
             [
              0.8888888888888888,
              "#fdca26"
             ],
             [
              1,
              "#f0f921"
             ]
            ],
            "type": "contour"
           }
          ],
          "contourcarpet": [
           {
            "colorbar": {
             "outlinewidth": 0,
             "ticks": ""
            },
            "type": "contourcarpet"
           }
          ],
          "heatmap": [
           {
            "colorbar": {
             "outlinewidth": 0,
             "ticks": ""
            },
            "colorscale": [
             [
              0,
              "#0d0887"
             ],
             [
              0.1111111111111111,
              "#46039f"
             ],
             [
              0.2222222222222222,
              "#7201a8"
             ],
             [
              0.3333333333333333,
              "#9c179e"
             ],
             [
              0.4444444444444444,
              "#bd3786"
             ],
             [
              0.5555555555555556,
              "#d8576b"
             ],
             [
              0.6666666666666666,
              "#ed7953"
             ],
             [
              0.7777777777777778,
              "#fb9f3a"
             ],
             [
              0.8888888888888888,
              "#fdca26"
             ],
             [
              1,
              "#f0f921"
             ]
            ],
            "type": "heatmap"
           }
          ],
          "heatmapgl": [
           {
            "colorbar": {
             "outlinewidth": 0,
             "ticks": ""
            },
            "colorscale": [
             [
              0,
              "#0d0887"
             ],
             [
              0.1111111111111111,
              "#46039f"
             ],
             [
              0.2222222222222222,
              "#7201a8"
             ],
             [
              0.3333333333333333,
              "#9c179e"
             ],
             [
              0.4444444444444444,
              "#bd3786"
             ],
             [
              0.5555555555555556,
              "#d8576b"
             ],
             [
              0.6666666666666666,
              "#ed7953"
             ],
             [
              0.7777777777777778,
              "#fb9f3a"
             ],
             [
              0.8888888888888888,
              "#fdca26"
             ],
             [
              1,
              "#f0f921"
             ]
            ],
            "type": "heatmapgl"
           }
          ],
          "histogram": [
           {
            "marker": {
             "pattern": {
              "fillmode": "overlay",
              "size": 10,
              "solidity": 0.2
             }
            },
            "type": "histogram"
           }
          ],
          "histogram2d": [
           {
            "colorbar": {
             "outlinewidth": 0,
             "ticks": ""
            },
            "colorscale": [
             [
              0,
              "#0d0887"
             ],
             [
              0.1111111111111111,
              "#46039f"
             ],
             [
              0.2222222222222222,
              "#7201a8"
             ],
             [
              0.3333333333333333,
              "#9c179e"
             ],
             [
              0.4444444444444444,
              "#bd3786"
             ],
             [
              0.5555555555555556,
              "#d8576b"
             ],
             [
              0.6666666666666666,
              "#ed7953"
             ],
             [
              0.7777777777777778,
              "#fb9f3a"
             ],
             [
              0.8888888888888888,
              "#fdca26"
             ],
             [
              1,
              "#f0f921"
             ]
            ],
            "type": "histogram2d"
           }
          ],
          "histogram2dcontour": [
           {
            "colorbar": {
             "outlinewidth": 0,
             "ticks": ""
            },
            "colorscale": [
             [
              0,
              "#0d0887"
             ],
             [
              0.1111111111111111,
              "#46039f"
             ],
             [
              0.2222222222222222,
              "#7201a8"
             ],
             [
              0.3333333333333333,
              "#9c179e"
             ],
             [
              0.4444444444444444,
              "#bd3786"
             ],
             [
              0.5555555555555556,
              "#d8576b"
             ],
             [
              0.6666666666666666,
              "#ed7953"
             ],
             [
              0.7777777777777778,
              "#fb9f3a"
             ],
             [
              0.8888888888888888,
              "#fdca26"
             ],
             [
              1,
              "#f0f921"
             ]
            ],
            "type": "histogram2dcontour"
           }
          ],
          "mesh3d": [
           {
            "colorbar": {
             "outlinewidth": 0,
             "ticks": ""
            },
            "type": "mesh3d"
           }
          ],
          "parcoords": [
           {
            "line": {
             "colorbar": {
              "outlinewidth": 0,
              "ticks": ""
             }
            },
            "type": "parcoords"
           }
          ],
          "pie": [
           {
            "automargin": true,
            "type": "pie"
           }
          ],
          "scatter": [
           {
            "fillpattern": {
             "fillmode": "overlay",
             "size": 10,
             "solidity": 0.2
            },
            "type": "scatter"
           }
          ],
          "scatter3d": [
           {
            "line": {
             "colorbar": {
              "outlinewidth": 0,
              "ticks": ""
             }
            },
            "marker": {
             "colorbar": {
              "outlinewidth": 0,
              "ticks": ""
             }
            },
            "type": "scatter3d"
           }
          ],
          "scattercarpet": [
           {
            "marker": {
             "colorbar": {
              "outlinewidth": 0,
              "ticks": ""
             }
            },
            "type": "scattercarpet"
           }
          ],
          "scattergeo": [
           {
            "marker": {
             "colorbar": {
              "outlinewidth": 0,
              "ticks": ""
             }
            },
            "type": "scattergeo"
           }
          ],
          "scattergl": [
           {
            "marker": {
             "colorbar": {
              "outlinewidth": 0,
              "ticks": ""
             }
            },
            "type": "scattergl"
           }
          ],
          "scattermapbox": [
           {
            "marker": {
             "colorbar": {
              "outlinewidth": 0,
              "ticks": ""
             }
            },
            "type": "scattermapbox"
           }
          ],
          "scatterpolar": [
           {
            "marker": {
             "colorbar": {
              "outlinewidth": 0,
              "ticks": ""
             }
            },
            "type": "scatterpolar"
           }
          ],
          "scatterpolargl": [
           {
            "marker": {
             "colorbar": {
              "outlinewidth": 0,
              "ticks": ""
             }
            },
            "type": "scatterpolargl"
           }
          ],
          "scatterternary": [
           {
            "marker": {
             "colorbar": {
              "outlinewidth": 0,
              "ticks": ""
             }
            },
            "type": "scatterternary"
           }
          ],
          "surface": [
           {
            "colorbar": {
             "outlinewidth": 0,
             "ticks": ""
            },
            "colorscale": [
             [
              0,
              "#0d0887"
             ],
             [
              0.1111111111111111,
              "#46039f"
             ],
             [
              0.2222222222222222,
              "#7201a8"
             ],
             [
              0.3333333333333333,
              "#9c179e"
             ],
             [
              0.4444444444444444,
              "#bd3786"
             ],
             [
              0.5555555555555556,
              "#d8576b"
             ],
             [
              0.6666666666666666,
              "#ed7953"
             ],
             [
              0.7777777777777778,
              "#fb9f3a"
             ],
             [
              0.8888888888888888,
              "#fdca26"
             ],
             [
              1,
              "#f0f921"
             ]
            ],
            "type": "surface"
           }
          ],
          "table": [
           {
            "cells": {
             "fill": {
              "color": "#EBF0F8"
             },
             "line": {
              "color": "white"
             }
            },
            "header": {
             "fill": {
              "color": "#C8D4E3"
             },
             "line": {
              "color": "white"
             }
            },
            "type": "table"
           }
          ]
         },
         "layout": {
          "annotationdefaults": {
           "arrowcolor": "#2a3f5f",
           "arrowhead": 0,
           "arrowwidth": 1
          },
          "autotypenumbers": "strict",
          "coloraxis": {
           "colorbar": {
            "outlinewidth": 0,
            "ticks": ""
           }
          },
          "colorscale": {
           "diverging": [
            [
             0,
             "#8e0152"
            ],
            [
             0.1,
             "#c51b7d"
            ],
            [
             0.2,
             "#de77ae"
            ],
            [
             0.3,
             "#f1b6da"
            ],
            [
             0.4,
             "#fde0ef"
            ],
            [
             0.5,
             "#f7f7f7"
            ],
            [
             0.6,
             "#e6f5d0"
            ],
            [
             0.7,
             "#b8e186"
            ],
            [
             0.8,
             "#7fbc41"
            ],
            [
             0.9,
             "#4d9221"
            ],
            [
             1,
             "#276419"
            ]
           ],
           "sequential": [
            [
             0,
             "#0d0887"
            ],
            [
             0.1111111111111111,
             "#46039f"
            ],
            [
             0.2222222222222222,
             "#7201a8"
            ],
            [
             0.3333333333333333,
             "#9c179e"
            ],
            [
             0.4444444444444444,
             "#bd3786"
            ],
            [
             0.5555555555555556,
             "#d8576b"
            ],
            [
             0.6666666666666666,
             "#ed7953"
            ],
            [
             0.7777777777777778,
             "#fb9f3a"
            ],
            [
             0.8888888888888888,
             "#fdca26"
            ],
            [
             1,
             "#f0f921"
            ]
           ],
           "sequentialminus": [
            [
             0,
             "#0d0887"
            ],
            [
             0.1111111111111111,
             "#46039f"
            ],
            [
             0.2222222222222222,
             "#7201a8"
            ],
            [
             0.3333333333333333,
             "#9c179e"
            ],
            [
             0.4444444444444444,
             "#bd3786"
            ],
            [
             0.5555555555555556,
             "#d8576b"
            ],
            [
             0.6666666666666666,
             "#ed7953"
            ],
            [
             0.7777777777777778,
             "#fb9f3a"
            ],
            [
             0.8888888888888888,
             "#fdca26"
            ],
            [
             1,
             "#f0f921"
            ]
           ]
          },
          "colorway": [
           "#636efa",
           "#EF553B",
           "#00cc96",
           "#ab63fa",
           "#FFA15A",
           "#19d3f3",
           "#FF6692",
           "#B6E880",
           "#FF97FF",
           "#FECB52"
          ],
          "font": {
           "color": "#2a3f5f"
          },
          "geo": {
           "bgcolor": "white",
           "lakecolor": "white",
           "landcolor": "white",
           "showlakes": true,
           "showland": true,
           "subunitcolor": "#C8D4E3"
          },
          "hoverlabel": {
           "align": "left"
          },
          "hovermode": "closest",
          "mapbox": {
           "style": "light"
          },
          "paper_bgcolor": "white",
          "plot_bgcolor": "white",
          "polar": {
           "angularaxis": {
            "gridcolor": "#EBF0F8",
            "linecolor": "#EBF0F8",
            "ticks": ""
           },
           "bgcolor": "white",
           "radialaxis": {
            "gridcolor": "#EBF0F8",
            "linecolor": "#EBF0F8",
            "ticks": ""
           }
          },
          "scene": {
           "xaxis": {
            "backgroundcolor": "white",
            "gridcolor": "#DFE8F3",
            "gridwidth": 2,
            "linecolor": "#EBF0F8",
            "showbackground": true,
            "ticks": "",
            "zerolinecolor": "#EBF0F8"
           },
           "yaxis": {
            "backgroundcolor": "white",
            "gridcolor": "#DFE8F3",
            "gridwidth": 2,
            "linecolor": "#EBF0F8",
            "showbackground": true,
            "ticks": "",
            "zerolinecolor": "#EBF0F8"
           },
           "zaxis": {
            "backgroundcolor": "white",
            "gridcolor": "#DFE8F3",
            "gridwidth": 2,
            "linecolor": "#EBF0F8",
            "showbackground": true,
            "ticks": "",
            "zerolinecolor": "#EBF0F8"
           }
          },
          "shapedefaults": {
           "line": {
            "color": "#2a3f5f"
           }
          },
          "ternary": {
           "aaxis": {
            "gridcolor": "#DFE8F3",
            "linecolor": "#A2B1C6",
            "ticks": ""
           },
           "baxis": {
            "gridcolor": "#DFE8F3",
            "linecolor": "#A2B1C6",
            "ticks": ""
           },
           "bgcolor": "white",
           "caxis": {
            "gridcolor": "#DFE8F3",
            "linecolor": "#A2B1C6",
            "ticks": ""
           }
          },
          "title": {
           "x": 0.05
          },
          "xaxis": {
           "automargin": true,
           "gridcolor": "#EBF0F8",
           "linecolor": "#EBF0F8",
           "ticks": "",
           "title": {
            "standoff": 15
           },
           "zerolinecolor": "#EBF0F8",
           "zerolinewidth": 2
          },
          "yaxis": {
           "automargin": true,
           "gridcolor": "#EBF0F8",
           "linecolor": "#EBF0F8",
           "ticks": "",
           "title": {
            "standoff": 15
           },
           "zerolinecolor": "#EBF0F8",
           "zerolinewidth": 2
          }
         }
        },
        "title": {
         "text": "Calgary Flames 2014 Slap Shots <br><sup>441 shots</sup>"
        },
        "xaxis": {
         "anchor": "y",
         "domain": [
          0,
          1
         ],
         "range": [
          -100,
          100
         ],
         "title": {
          "text": "st_x"
         },
         "visible": false
        },
        "yaxis": {
         "anchor": "x",
         "domain": [
          0,
          1
         ],
         "range": [
          -45,
          45
         ],
         "title": {
          "text": "st_y"
         },
         "visible": false
        }
       }
      }
     },
     "metadata": {},
     "output_type": "display_data"
    }
   ],
   "source": [
    "fig = plot_shot_type(2014, 20, 'Slap Shot')\n",
    "fig.show()"
   ]
  },
  {
   "cell_type": "code",
   "execution_count": 33,
   "metadata": {},
   "outputs": [
    {
     "data": {
      "application/vnd.plotly.v1+json": {
       "config": {
        "plotlyServerURL": "https://plot.ly"
       },
       "data": [
        {
         "hovertemplate": "event=Shot<br>st_x=%{x}<br>st_y=%{y}<extra></extra>",
         "legendgroup": "Shot",
         "marker": {
          "color": "LawnGreen",
          "line": {
           "color": "DarkSlateGrey",
           "width": 1
          },
          "size": 12,
          "symbol": "x"
         },
         "mode": "markers",
         "name": "Shot",
         "opacity": 0.6,
         "orientation": "v",
         "showlegend": true,
         "type": "scatter",
         "x": [
          54,
          37,
          43,
          43,
          87,
          46,
          36,
          81,
          64
         ],
         "xaxis": "x",
         "y": [
          -38,
          12,
          -13,
          14,
          18,
          25,
          15,
          -14,
          34
         ],
         "yaxis": "y"
        },
        {
         "hovertemplate": "event=Goal<br>st_x=%{x}<br>st_y=%{y}<extra></extra>",
         "legendgroup": "Goal",
         "marker": {
          "color": "DarkRed",
          "line": {
           "color": "DarkSlateGrey",
           "width": 1
          },
          "size": 12,
          "symbol": "circle"
         },
         "mode": "markers",
         "name": "Goal",
         "opacity": 0.6,
         "orientation": "v",
         "showlegend": true,
         "type": "scatter",
         "x": [
          59
         ],
         "xaxis": "x",
         "y": [
          -11
         ],
         "yaxis": "y"
        }
       ],
       "layout": {
        "images": [
         {
          "layer": "below",
          "opacity": 0.6,
          "sizex": 200,
          "sizey": 85,
          "sizing": "stretch",
          "source": "data:image/jpg;base64,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",
          "x": -100,
          "xref": "x",
          "y": 42.5,
          "yref": "y"
         }
        ],
        "legend": {
         "title": {
          "text": "event"
         },
         "tracegroupgap": 0
        },
        "template": {
         "data": {
          "bar": [
           {
            "error_x": {
             "color": "#2a3f5f"
            },
            "error_y": {
             "color": "#2a3f5f"
            },
            "marker": {
             "line": {
              "color": "white",
              "width": 0.5
             },
             "pattern": {
              "fillmode": "overlay",
              "size": 10,
              "solidity": 0.2
             }
            },
            "type": "bar"
           }
          ],
          "barpolar": [
           {
            "marker": {
             "line": {
              "color": "white",
              "width": 0.5
             },
             "pattern": {
              "fillmode": "overlay",
              "size": 10,
              "solidity": 0.2
             }
            },
            "type": "barpolar"
           }
          ],
          "carpet": [
           {
            "aaxis": {
             "endlinecolor": "#2a3f5f",
             "gridcolor": "#C8D4E3",
             "linecolor": "#C8D4E3",
             "minorgridcolor": "#C8D4E3",
             "startlinecolor": "#2a3f5f"
            },
            "baxis": {
             "endlinecolor": "#2a3f5f",
             "gridcolor": "#C8D4E3",
             "linecolor": "#C8D4E3",
             "minorgridcolor": "#C8D4E3",
             "startlinecolor": "#2a3f5f"
            },
            "type": "carpet"
           }
          ],
          "choropleth": [
           {
            "colorbar": {
             "outlinewidth": 0,
             "ticks": ""
            },
            "type": "choropleth"
           }
          ],
          "contour": [
           {
            "colorbar": {
             "outlinewidth": 0,
             "ticks": ""
            },
            "colorscale": [
             [
              0,
              "#0d0887"
             ],
             [
              0.1111111111111111,
              "#46039f"
             ],
             [
              0.2222222222222222,
              "#7201a8"
             ],
             [
              0.3333333333333333,
              "#9c179e"
             ],
             [
              0.4444444444444444,
              "#bd3786"
             ],
             [
              0.5555555555555556,
              "#d8576b"
             ],
             [
              0.6666666666666666,
              "#ed7953"
             ],
             [
              0.7777777777777778,
              "#fb9f3a"
             ],
             [
              0.8888888888888888,
              "#fdca26"
             ],
             [
              1,
              "#f0f921"
             ]
            ],
            "type": "contour"
           }
          ],
          "contourcarpet": [
           {
            "colorbar": {
             "outlinewidth": 0,
             "ticks": ""
            },
            "type": "contourcarpet"
           }
          ],
          "heatmap": [
           {
            "colorbar": {
             "outlinewidth": 0,
             "ticks": ""
            },
            "colorscale": [
             [
              0,
              "#0d0887"
             ],
             [
              0.1111111111111111,
              "#46039f"
             ],
             [
              0.2222222222222222,
              "#7201a8"
             ],
             [
              0.3333333333333333,
              "#9c179e"
             ],
             [
              0.4444444444444444,
              "#bd3786"
             ],
             [
              0.5555555555555556,
              "#d8576b"
             ],
             [
              0.6666666666666666,
              "#ed7953"
             ],
             [
              0.7777777777777778,
              "#fb9f3a"
             ],
             [
              0.8888888888888888,
              "#fdca26"
             ],
             [
              1,
              "#f0f921"
             ]
            ],
            "type": "heatmap"
           }
          ],
          "heatmapgl": [
           {
            "colorbar": {
             "outlinewidth": 0,
             "ticks": ""
            },
            "colorscale": [
             [
              0,
              "#0d0887"
             ],
             [
              0.1111111111111111,
              "#46039f"
             ],
             [
              0.2222222222222222,
              "#7201a8"
             ],
             [
              0.3333333333333333,
              "#9c179e"
             ],
             [
              0.4444444444444444,
              "#bd3786"
             ],
             [
              0.5555555555555556,
              "#d8576b"
             ],
             [
              0.6666666666666666,
              "#ed7953"
             ],
             [
              0.7777777777777778,
              "#fb9f3a"
             ],
             [
              0.8888888888888888,
              "#fdca26"
             ],
             [
              1,
              "#f0f921"
             ]
            ],
            "type": "heatmapgl"
           }
          ],
          "histogram": [
           {
            "marker": {
             "pattern": {
              "fillmode": "overlay",
              "size": 10,
              "solidity": 0.2
             }
            },
            "type": "histogram"
           }
          ],
          "histogram2d": [
           {
            "colorbar": {
             "outlinewidth": 0,
             "ticks": ""
            },
            "colorscale": [
             [
              0,
              "#0d0887"
             ],
             [
              0.1111111111111111,
              "#46039f"
             ],
             [
              0.2222222222222222,
              "#7201a8"
             ],
             [
              0.3333333333333333,
              "#9c179e"
             ],
             [
              0.4444444444444444,
              "#bd3786"
             ],
             [
              0.5555555555555556,
              "#d8576b"
             ],
             [
              0.6666666666666666,
              "#ed7953"
             ],
             [
              0.7777777777777778,
              "#fb9f3a"
             ],
             [
              0.8888888888888888,
              "#fdca26"
             ],
             [
              1,
              "#f0f921"
             ]
            ],
            "type": "histogram2d"
           }
          ],
          "histogram2dcontour": [
           {
            "colorbar": {
             "outlinewidth": 0,
             "ticks": ""
            },
            "colorscale": [
             [
              0,
              "#0d0887"
             ],
             [
              0.1111111111111111,
              "#46039f"
             ],
             [
              0.2222222222222222,
              "#7201a8"
             ],
             [
              0.3333333333333333,
              "#9c179e"
             ],
             [
              0.4444444444444444,
              "#bd3786"
             ],
             [
              0.5555555555555556,
              "#d8576b"
             ],
             [
              0.6666666666666666,
              "#ed7953"
             ],
             [
              0.7777777777777778,
              "#fb9f3a"
             ],
             [
              0.8888888888888888,
              "#fdca26"
             ],
             [
              1,
              "#f0f921"
             ]
            ],
            "type": "histogram2dcontour"
           }
          ],
          "mesh3d": [
           {
            "colorbar": {
             "outlinewidth": 0,
             "ticks": ""
            },
            "type": "mesh3d"
           }
          ],
          "parcoords": [
           {
            "line": {
             "colorbar": {
              "outlinewidth": 0,
              "ticks": ""
             }
            },
            "type": "parcoords"
           }
          ],
          "pie": [
           {
            "automargin": true,
            "type": "pie"
           }
          ],
          "scatter": [
           {
            "fillpattern": {
             "fillmode": "overlay",
             "size": 10,
             "solidity": 0.2
            },
            "type": "scatter"
           }
          ],
          "scatter3d": [
           {
            "line": {
             "colorbar": {
              "outlinewidth": 0,
              "ticks": ""
             }
            },
            "marker": {
             "colorbar": {
              "outlinewidth": 0,
              "ticks": ""
             }
            },
            "type": "scatter3d"
           }
          ],
          "scattercarpet": [
           {
            "marker": {
             "colorbar": {
              "outlinewidth": 0,
              "ticks": ""
             }
            },
            "type": "scattercarpet"
           }
          ],
          "scattergeo": [
           {
            "marker": {
             "colorbar": {
              "outlinewidth": 0,
              "ticks": ""
             }
            },
            "type": "scattergeo"
           }
          ],
          "scattergl": [
           {
            "marker": {
             "colorbar": {
              "outlinewidth": 0,
              "ticks": ""
             }
            },
            "type": "scattergl"
           }
          ],
          "scattermapbox": [
           {
            "marker": {
             "colorbar": {
              "outlinewidth": 0,
              "ticks": ""
             }
            },
            "type": "scattermapbox"
           }
          ],
          "scatterpolar": [
           {
            "marker": {
             "colorbar": {
              "outlinewidth": 0,
              "ticks": ""
             }
            },
            "type": "scatterpolar"
           }
          ],
          "scatterpolargl": [
           {
            "marker": {
             "colorbar": {
              "outlinewidth": 0,
              "ticks": ""
             }
            },
            "type": "scatterpolargl"
           }
          ],
          "scatterternary": [
           {
            "marker": {
             "colorbar": {
              "outlinewidth": 0,
              "ticks": ""
             }
            },
            "type": "scatterternary"
           }
          ],
          "surface": [
           {
            "colorbar": {
             "outlinewidth": 0,
             "ticks": ""
            },
            "colorscale": [
             [
              0,
              "#0d0887"
             ],
             [
              0.1111111111111111,
              "#46039f"
             ],
             [
              0.2222222222222222,
              "#7201a8"
             ],
             [
              0.3333333333333333,
              "#9c179e"
             ],
             [
              0.4444444444444444,
              "#bd3786"
             ],
             [
              0.5555555555555556,
              "#d8576b"
             ],
             [
              0.6666666666666666,
              "#ed7953"
             ],
             [
              0.7777777777777778,
              "#fb9f3a"
             ],
             [
              0.8888888888888888,
              "#fdca26"
             ],
             [
              1,
              "#f0f921"
             ]
            ],
            "type": "surface"
           }
          ],
          "table": [
           {
            "cells": {
             "fill": {
              "color": "#EBF0F8"
             },
             "line": {
              "color": "white"
             }
            },
            "header": {
             "fill": {
              "color": "#C8D4E3"
             },
             "line": {
              "color": "white"
             }
            },
            "type": "table"
           }
          ]
         },
         "layout": {
          "annotationdefaults": {
           "arrowcolor": "#2a3f5f",
           "arrowhead": 0,
           "arrowwidth": 1
          },
          "autotypenumbers": "strict",
          "coloraxis": {
           "colorbar": {
            "outlinewidth": 0,
            "ticks": ""
           }
          },
          "colorscale": {
           "diverging": [
            [
             0,
             "#8e0152"
            ],
            [
             0.1,
             "#c51b7d"
            ],
            [
             0.2,
             "#de77ae"
            ],
            [
             0.3,
             "#f1b6da"
            ],
            [
             0.4,
             "#fde0ef"
            ],
            [
             0.5,
             "#f7f7f7"
            ],
            [
             0.6,
             "#e6f5d0"
            ],
            [
             0.7,
             "#b8e186"
            ],
            [
             0.8,
             "#7fbc41"
            ],
            [
             0.9,
             "#4d9221"
            ],
            [
             1,
             "#276419"
            ]
           ],
           "sequential": [
            [
             0,
             "#0d0887"
            ],
            [
             0.1111111111111111,
             "#46039f"
            ],
            [
             0.2222222222222222,
             "#7201a8"
            ],
            [
             0.3333333333333333,
             "#9c179e"
            ],
            [
             0.4444444444444444,
             "#bd3786"
            ],
            [
             0.5555555555555556,
             "#d8576b"
            ],
            [
             0.6666666666666666,
             "#ed7953"
            ],
            [
             0.7777777777777778,
             "#fb9f3a"
            ],
            [
             0.8888888888888888,
             "#fdca26"
            ],
            [
             1,
             "#f0f921"
            ]
           ],
           "sequentialminus": [
            [
             0,
             "#0d0887"
            ],
            [
             0.1111111111111111,
             "#46039f"
            ],
            [
             0.2222222222222222,
             "#7201a8"
            ],
            [
             0.3333333333333333,
             "#9c179e"
            ],
            [
             0.4444444444444444,
             "#bd3786"
            ],
            [
             0.5555555555555556,
             "#d8576b"
            ],
            [
             0.6666666666666666,
             "#ed7953"
            ],
            [
             0.7777777777777778,
             "#fb9f3a"
            ],
            [
             0.8888888888888888,
             "#fdca26"
            ],
            [
             1,
             "#f0f921"
            ]
           ]
          },
          "colorway": [
           "#636efa",
           "#EF553B",
           "#00cc96",
           "#ab63fa",
           "#FFA15A",
           "#19d3f3",
           "#FF6692",
           "#B6E880",
           "#FF97FF",
           "#FECB52"
          ],
          "font": {
           "color": "#2a3f5f"
          },
          "geo": {
           "bgcolor": "white",
           "lakecolor": "white",
           "landcolor": "white",
           "showlakes": true,
           "showland": true,
           "subunitcolor": "#C8D4E3"
          },
          "hoverlabel": {
           "align": "left"
          },
          "hovermode": "closest",
          "mapbox": {
           "style": "light"
          },
          "paper_bgcolor": "white",
          "plot_bgcolor": "white",
          "polar": {
           "angularaxis": {
            "gridcolor": "#EBF0F8",
            "linecolor": "#EBF0F8",
            "ticks": ""
           },
           "bgcolor": "white",
           "radialaxis": {
            "gridcolor": "#EBF0F8",
            "linecolor": "#EBF0F8",
            "ticks": ""
           }
          },
          "scene": {
           "xaxis": {
            "backgroundcolor": "white",
            "gridcolor": "#DFE8F3",
            "gridwidth": 2,
            "linecolor": "#EBF0F8",
            "showbackground": true,
            "ticks": "",
            "zerolinecolor": "#EBF0F8"
           },
           "yaxis": {
            "backgroundcolor": "white",
            "gridcolor": "#DFE8F3",
            "gridwidth": 2,
            "linecolor": "#EBF0F8",
            "showbackground": true,
            "ticks": "",
            "zerolinecolor": "#EBF0F8"
           },
           "zaxis": {
            "backgroundcolor": "white",
            "gridcolor": "#DFE8F3",
            "gridwidth": 2,
            "linecolor": "#EBF0F8",
            "showbackground": true,
            "ticks": "",
            "zerolinecolor": "#EBF0F8"
           }
          },
          "shapedefaults": {
           "line": {
            "color": "#2a3f5f"
           }
          },
          "ternary": {
           "aaxis": {
            "gridcolor": "#DFE8F3",
            "linecolor": "#A2B1C6",
            "ticks": ""
           },
           "baxis": {
            "gridcolor": "#DFE8F3",
            "linecolor": "#A2B1C6",
            "ticks": ""
           },
           "bgcolor": "white",
           "caxis": {
            "gridcolor": "#DFE8F3",
            "linecolor": "#A2B1C6",
            "ticks": ""
           }
          },
          "title": {
           "x": 0.05
          },
          "xaxis": {
           "automargin": true,
           "gridcolor": "#EBF0F8",
           "linecolor": "#EBF0F8",
           "ticks": "",
           "title": {
            "standoff": 15
           },
           "zerolinecolor": "#EBF0F8",
           "zerolinewidth": 2
          },
          "yaxis": {
           "automargin": true,
           "gridcolor": "#EBF0F8",
           "linecolor": "#EBF0F8",
           "ticks": "",
           "title": {
            "standoff": 15
           },
           "zerolinecolor": "#EBF0F8",
           "zerolinewidth": 2
          }
         }
        },
        "title": {
         "text": "Calgary Flames 2014 Game ID: 2014020003 Wrist Shots <br><sup>10 shots</sup>"
        },
        "xaxis": {
         "anchor": "y",
         "domain": [
          0,
          1
         ],
         "range": [
          -100,
          100
         ],
         "title": {
          "text": "st_x"
         },
         "visible": false
        },
        "yaxis": {
         "anchor": "x",
         "domain": [
          0,
          1
         ],
         "range": [
          -45,
          45
         ],
         "title": {
          "text": "st_y"
         },
         "visible": false
        }
       }
      }
     },
     "metadata": {},
     "output_type": "display_data"
    }
   ],
   "source": [
    "# Individual game\n",
    "fig = plot_shot_type(season=2014, team_id=20, shot_type='Wrist Shot', game_id=2014020003)\n",
    "fig.show()"
   ]
  },
  {
   "cell_type": "code",
   "execution_count": 34,
   "metadata": {},
   "outputs": [],
   "source": [
    "# df_games.head()"
   ]
  },
  {
   "cell_type": "code",
   "execution_count": 35,
   "metadata": {},
   "outputs": [],
   "source": [
    "# df_games.info()"
   ]
  },
  {
   "cell_type": "markdown",
   "metadata": {},
   "source": [
    "# Dashboard structure\n",
    "\n",
    "* User can pick a team to visualize:\n",
    "    - Team goals using the `team_goals()` function. This needs the dataframes `df_teams_season`, and `df_teams_conceded`.\n",
    "\n",
    "* User can pick a team, a season and an event to plot the corresponding heatmap on top of the rink figure using the `plot_heatmap_from_df()` function. This needs the dataframe `shots_df`. (**THE FIGURE NEEDS TO BE AJUSTED TO THE PLOT**).\n",
    "\n",
    "* User can pick a team, a season and a shot type to use the `plot_shot_type()` and see:\n",
    "    - Distribution of shots colored by shots or goals over the entire season;\n",
    "    - Or, if given a game id (we can let user choose from date and location), distribution of shots colored by shots and goals of that single game.\n",
    "    - These need the dataframe `shots_df`."
   ]
  },
  {
   "cell_type": "code",
   "execution_count": 37,
   "metadata": {},
   "outputs": [
    {
     "name": "stdout",
     "output_type": "stream",
     "text": [
      "1 New Jersey Devils\n",
      "2 NY Islanders Islanders\n",
      "3 NY Rangers Rangers\n",
      "4 Philadelphia Flyers\n",
      "5 Pittsburgh Penguins\n",
      "6 Boston Bruins\n",
      "7 Buffalo Sabres\n",
      "8 Montreal Canadiens\n",
      "9 Ottawa Senators\n",
      "10 Toronto Maple Leafs\n",
      "11 Atlanta Thrashers\n",
      "12 Carolina Hurricanes\n",
      "13 Florida Panthers\n",
      "14 Tampa Bay Lightning\n",
      "15 Washington Capitals\n",
      "16 Chicago Blackhawks\n",
      "17 Detroit Red Wings\n",
      "18 Nashville Predators\n",
      "19 St Louis Blues\n",
      "20 Calgary Flames\n",
      "21 Colorado Avalanche\n",
      "22 Edmonton Oilers\n",
      "23 Vancouver Canucks\n",
      "24 Anaheim Ducks\n",
      "25 Dallas Stars\n",
      "26 Los Angeles Kings\n",
      "27 Phoenix Coyotes\n",
      "28 San Jose Sharks\n",
      "29 Columbus Blue Jackets\n",
      "30 Minnesota Wild\n",
      "52 Winnipeg Jets\n",
      "53 Arizona Coyotes\n",
      "54 Vegas Golden Knights\n"
     ]
    }
   ],
   "source": [
    "for team_id, team_name in team_dict.items():\n",
    "    print(team_id, team_name)"
   ]
  },
  {
   "cell_type": "code",
   "execution_count": null,
   "metadata": {},
   "outputs": [],
   "source": []
  }
 ],
 "metadata": {
  "interpreter": {
   "hash": "b74b583d9b3c3cb39ae35475c0b742508ece6bea07c63a12129878249043c817"
  },
  "kernelspec": {
   "display_name": "Python 3.7.7 ('nhl-env': venv)",
   "language": "python",
   "name": "python3"
  },
  "language_info": {
   "codemirror_mode": {
    "name": "ipython",
    "version": 3
   },
   "file_extension": ".py",
   "mimetype": "text/x-python",
   "name": "python",
   "nbconvert_exporter": "python",
   "pygments_lexer": "ipython3",
   "version": "3.7.7"
  },
  "orig_nbformat": 4
 },
 "nbformat": 4,
 "nbformat_minor": 2
}
