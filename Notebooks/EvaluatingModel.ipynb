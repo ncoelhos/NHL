{
 "cells": [
  {
   "cell_type": "code",
   "execution_count": 1,
   "id": "531582ed",
   "metadata": {},
   "outputs": [],
   "source": [
    "import pandas as pd\n",
    "import numpy as np\n",
    "import joblib"
   ]
  },
  {
   "cell_type": "markdown",
   "id": "4870dcdb",
   "metadata": {},
   "source": [
    "# Reading the data"
   ]
  },
  {
   "cell_type": "code",
   "execution_count": 2,
   "id": "9b93ce06",
   "metadata": {},
   "outputs": [],
   "source": [
    "model_df = pd.read_pickle(\"../SavedData/model_df.pkl\")"
   ]
  },
  {
   "cell_type": "code",
   "execution_count": 3,
   "id": "89809599",
   "metadata": {},
   "outputs": [
    {
     "data": {
      "text/html": [
       "<div>\n",
       "<style scoped>\n",
       "    .dataframe tbody tr th:only-of-type {\n",
       "        vertical-align: middle;\n",
       "    }\n",
       "\n",
       "    .dataframe tbody tr th {\n",
       "        vertical-align: top;\n",
       "    }\n",
       "\n",
       "    .dataframe thead th {\n",
       "        text-align: right;\n",
       "    }\n",
       "</style>\n",
       "<table border=\"1\" class=\"dataframe\">\n",
       "  <thead>\n",
       "    <tr style=\"text-align: right;\">\n",
       "      <th></th>\n",
       "      <th>season</th>\n",
       "      <th>team_id_for</th>\n",
       "      <th>team_id_against</th>\n",
       "      <th>event</th>\n",
       "      <th>period</th>\n",
       "      <th>periodTime</th>\n",
       "      <th>st_x</th>\n",
       "      <th>st_y</th>\n",
       "    </tr>\n",
       "  </thead>\n",
       "  <tbody>\n",
       "    <tr>\n",
       "      <th>0</th>\n",
       "      <td>2010</td>\n",
       "      <td>8</td>\n",
       "      <td>10</td>\n",
       "      <td>Shot</td>\n",
       "      <td>1</td>\n",
       "      <td>86</td>\n",
       "      <td>81</td>\n",
       "      <td>-7</td>\n",
       "    </tr>\n",
       "    <tr>\n",
       "      <th>1</th>\n",
       "      <td>2010</td>\n",
       "      <td>8</td>\n",
       "      <td>10</td>\n",
       "      <td>Shot</td>\n",
       "      <td>1</td>\n",
       "      <td>1092</td>\n",
       "      <td>45</td>\n",
       "      <td>-23</td>\n",
       "    </tr>\n",
       "    <tr>\n",
       "      <th>2</th>\n",
       "      <td>2010</td>\n",
       "      <td>10</td>\n",
       "      <td>8</td>\n",
       "      <td>Missed Shot</td>\n",
       "      <td>1</td>\n",
       "      <td>1120</td>\n",
       "      <td>37</td>\n",
       "      <td>-21</td>\n",
       "    </tr>\n",
       "    <tr>\n",
       "      <th>3</th>\n",
       "      <td>2010</td>\n",
       "      <td>10</td>\n",
       "      <td>8</td>\n",
       "      <td>Shot</td>\n",
       "      <td>1</td>\n",
       "      <td>1151</td>\n",
       "      <td>48</td>\n",
       "      <td>-30</td>\n",
       "    </tr>\n",
       "    <tr>\n",
       "      <th>4</th>\n",
       "      <td>2010</td>\n",
       "      <td>10</td>\n",
       "      <td>8</td>\n",
       "      <td>Missed Shot</td>\n",
       "      <td>1</td>\n",
       "      <td>1186</td>\n",
       "      <td>1</td>\n",
       "      <td>1</td>\n",
       "    </tr>\n",
       "  </tbody>\n",
       "</table>\n",
       "</div>"
      ],
      "text/plain": [
       "   season  team_id_for  team_id_against        event  period  periodTime  \\\n",
       "0    2010            8               10         Shot       1          86   \n",
       "1    2010            8               10         Shot       1        1092   \n",
       "2    2010           10                8  Missed Shot       1        1120   \n",
       "3    2010           10                8         Shot       1        1151   \n",
       "4    2010           10                8  Missed Shot       1        1186   \n",
       "\n",
       "   st_x  st_y  \n",
       "0    81    -7  \n",
       "1    45   -23  \n",
       "2    37   -21  \n",
       "3    48   -30  \n",
       "4     1     1  "
      ]
     },
     "execution_count": 3,
     "metadata": {},
     "output_type": "execute_result"
    }
   ],
   "source": [
    "model_df.head()"
   ]
  },
  {
   "cell_type": "code",
   "execution_count": 4,
   "id": "8aca8631",
   "metadata": {},
   "outputs": [
    {
     "name": "stdout",
     "output_type": "stream",
     "text": [
      "<class 'pandas.core.frame.DataFrame'>\n",
      "RangeIndex: 1062526 entries, 0 to 1062525\n",
      "Data columns (total 8 columns):\n",
      " #   Column           Non-Null Count    Dtype \n",
      "---  ------           --------------    ----- \n",
      " 0   season           1062526 non-null  int64 \n",
      " 1   team_id_for      1062526 non-null  int64 \n",
      " 2   team_id_against  1062526 non-null  int64 \n",
      " 3   event            1062526 non-null  object\n",
      " 4   period           1062526 non-null  int64 \n",
      " 5   periodTime       1062526 non-null  int64 \n",
      " 6   st_x             1062526 non-null  int64 \n",
      " 7   st_y             1062526 non-null  int64 \n",
      "dtypes: int64(7), object(1)\n",
      "memory usage: 64.9+ MB\n"
     ]
    }
   ],
   "source": [
    "model_df.info()"
   ]
  },
  {
   "cell_type": "code",
   "execution_count": 5,
   "id": "4292968e",
   "metadata": {},
   "outputs": [],
   "source": [
    "# Get features and target\n",
    "X = model_df.drop(\"event\", axis=1)\n",
    "y = model_df[\"event\"]"
   ]
  },
  {
   "cell_type": "markdown",
   "id": "03b4db77",
   "metadata": {},
   "source": [
    "# Reading GridSearch results"
   ]
  },
  {
   "cell_type": "code",
   "execution_count": 7,
   "id": "034a5645",
   "metadata": {},
   "outputs": [],
   "source": [
    "df_grid = pd.read_pickle('../SavedModels/grid_results.pkl')"
   ]
  },
  {
   "cell_type": "code",
   "execution_count": 8,
   "id": "d352401e",
   "metadata": {},
   "outputs": [],
   "source": [
    "pd.set_option('display.max_colwidth', None)"
   ]
  },
  {
   "cell_type": "code",
   "execution_count": 9,
   "id": "aa0f425b",
   "metadata": {},
   "outputs": [
    {
     "data": {
      "text/html": [
       "<div>\n",
       "<style scoped>\n",
       "    .dataframe tbody tr th:only-of-type {\n",
       "        vertical-align: middle;\n",
       "    }\n",
       "\n",
       "    .dataframe tbody tr th {\n",
       "        vertical-align: top;\n",
       "    }\n",
       "\n",
       "    .dataframe thead th {\n",
       "        text-align: right;\n",
       "    }\n",
       "</style>\n",
       "<table border=\"1\" class=\"dataframe\">\n",
       "  <thead>\n",
       "    <tr style=\"text-align: right;\">\n",
       "      <th></th>\n",
       "      <th>params</th>\n",
       "      <th>mean_test_score</th>\n",
       "      <th>rank_test_score</th>\n",
       "    </tr>\n",
       "  </thead>\n",
       "  <tbody>\n",
       "    <tr>\n",
       "      <th>0</th>\n",
       "      <td>{'clf__max_depth': 10, 'clf__min_samples_leaf': 1, 'clf__n_estimators': 15}</td>\n",
       "      <td>0.353125</td>\n",
       "      <td>61</td>\n",
       "    </tr>\n",
       "    <tr>\n",
       "      <th>1</th>\n",
       "      <td>{'clf__max_depth': 10, 'clf__min_samples_leaf': 1, 'clf__n_estimators': 20}</td>\n",
       "      <td>0.351628</td>\n",
       "      <td>75</td>\n",
       "    </tr>\n",
       "    <tr>\n",
       "      <th>2</th>\n",
       "      <td>{'clf__max_depth': 10, 'clf__min_samples_leaf': 1, 'clf__n_estimators': 25}</td>\n",
       "      <td>0.350959</td>\n",
       "      <td>77</td>\n",
       "    </tr>\n",
       "    <tr>\n",
       "      <th>3</th>\n",
       "      <td>{'clf__max_depth': 10, 'clf__min_samples_leaf': 1, 'clf__n_estimators': 30}</td>\n",
       "      <td>0.352224</td>\n",
       "      <td>67</td>\n",
       "    </tr>\n",
       "    <tr>\n",
       "      <th>4</th>\n",
       "      <td>{'clf__max_depth': 10, 'clf__min_samples_leaf': 1, 'clf__n_estimators': 35}</td>\n",
       "      <td>0.352188</td>\n",
       "      <td>68</td>\n",
       "    </tr>\n",
       "    <tr>\n",
       "      <th>...</th>\n",
       "      <td>...</td>\n",
       "      <td>...</td>\n",
       "      <td>...</td>\n",
       "    </tr>\n",
       "    <tr>\n",
       "      <th>75</th>\n",
       "      <td>{'clf__max_depth': 25, 'clf__min_samples_leaf': 4, 'clf__n_estimators': 15}</td>\n",
       "      <td>0.516880</td>\n",
       "      <td>20</td>\n",
       "    </tr>\n",
       "    <tr>\n",
       "      <th>76</th>\n",
       "      <td>{'clf__max_depth': 25, 'clf__min_samples_leaf': 4, 'clf__n_estimators': 20}</td>\n",
       "      <td>0.521694</td>\n",
       "      <td>19</td>\n",
       "    </tr>\n",
       "    <tr>\n",
       "      <th>77</th>\n",
       "      <td>{'clf__max_depth': 25, 'clf__min_samples_leaf': 4, 'clf__n_estimators': 25}</td>\n",
       "      <td>0.526034</td>\n",
       "      <td>18</td>\n",
       "    </tr>\n",
       "    <tr>\n",
       "      <th>78</th>\n",
       "      <td>{'clf__max_depth': 25, 'clf__min_samples_leaf': 4, 'clf__n_estimators': 30}</td>\n",
       "      <td>0.529156</td>\n",
       "      <td>17</td>\n",
       "    </tr>\n",
       "    <tr>\n",
       "      <th>79</th>\n",
       "      <td>{'clf__max_depth': 25, 'clf__min_samples_leaf': 4, 'clf__n_estimators': 35}</td>\n",
       "      <td>0.532379</td>\n",
       "      <td>15</td>\n",
       "    </tr>\n",
       "  </tbody>\n",
       "</table>\n",
       "<p>80 rows × 3 columns</p>\n",
       "</div>"
      ],
      "text/plain": [
       "                                                                         params  \\\n",
       "0   {'clf__max_depth': 10, 'clf__min_samples_leaf': 1, 'clf__n_estimators': 15}   \n",
       "1   {'clf__max_depth': 10, 'clf__min_samples_leaf': 1, 'clf__n_estimators': 20}   \n",
       "2   {'clf__max_depth': 10, 'clf__min_samples_leaf': 1, 'clf__n_estimators': 25}   \n",
       "3   {'clf__max_depth': 10, 'clf__min_samples_leaf': 1, 'clf__n_estimators': 30}   \n",
       "4   {'clf__max_depth': 10, 'clf__min_samples_leaf': 1, 'clf__n_estimators': 35}   \n",
       "..                                                                          ...   \n",
       "75  {'clf__max_depth': 25, 'clf__min_samples_leaf': 4, 'clf__n_estimators': 15}   \n",
       "76  {'clf__max_depth': 25, 'clf__min_samples_leaf': 4, 'clf__n_estimators': 20}   \n",
       "77  {'clf__max_depth': 25, 'clf__min_samples_leaf': 4, 'clf__n_estimators': 25}   \n",
       "78  {'clf__max_depth': 25, 'clf__min_samples_leaf': 4, 'clf__n_estimators': 30}   \n",
       "79  {'clf__max_depth': 25, 'clf__min_samples_leaf': 4, 'clf__n_estimators': 35}   \n",
       "\n",
       "    mean_test_score  rank_test_score  \n",
       "0          0.353125               61  \n",
       "1          0.351628               75  \n",
       "2          0.350959               77  \n",
       "3          0.352224               67  \n",
       "4          0.352188               68  \n",
       "..              ...              ...  \n",
       "75         0.516880               20  \n",
       "76         0.521694               19  \n",
       "77         0.526034               18  \n",
       "78         0.529156               17  \n",
       "79         0.532379               15  \n",
       "\n",
       "[80 rows x 3 columns]"
      ]
     },
     "execution_count": 9,
     "metadata": {},
     "output_type": "execute_result"
    }
   ],
   "source": [
    "df_grid"
   ]
  },
  {
   "cell_type": "code",
   "execution_count": 10,
   "id": "c571cea4",
   "metadata": {},
   "outputs": [
    {
     "data": {
      "text/html": [
       "<div>\n",
       "<style scoped>\n",
       "    .dataframe tbody tr th:only-of-type {\n",
       "        vertical-align: middle;\n",
       "    }\n",
       "\n",
       "    .dataframe tbody tr th {\n",
       "        vertical-align: top;\n",
       "    }\n",
       "\n",
       "    .dataframe thead th {\n",
       "        text-align: right;\n",
       "    }\n",
       "</style>\n",
       "<table border=\"1\" class=\"dataframe\">\n",
       "  <thead>\n",
       "    <tr style=\"text-align: right;\">\n",
       "      <th></th>\n",
       "      <th>params</th>\n",
       "      <th>mean_test_score</th>\n",
       "      <th>rank_test_score</th>\n",
       "    </tr>\n",
       "  </thead>\n",
       "  <tbody>\n",
       "    <tr>\n",
       "      <th>64</th>\n",
       "      <td>{'clf__max_depth': 25, 'clf__min_samples_leaf': 1, 'clf__n_estimators': 35}</td>\n",
       "      <td>0.585611</td>\n",
       "      <td>1</td>\n",
       "    </tr>\n",
       "    <tr>\n",
       "      <th>63</th>\n",
       "      <td>{'clf__max_depth': 25, 'clf__min_samples_leaf': 1, 'clf__n_estimators': 30}</td>\n",
       "      <td>0.582798</td>\n",
       "      <td>2</td>\n",
       "    </tr>\n",
       "    <tr>\n",
       "      <th>62</th>\n",
       "      <td>{'clf__max_depth': 25, 'clf__min_samples_leaf': 1, 'clf__n_estimators': 25}</td>\n",
       "      <td>0.579789</td>\n",
       "      <td>3</td>\n",
       "    </tr>\n",
       "    <tr>\n",
       "      <th>61</th>\n",
       "      <td>{'clf__max_depth': 25, 'clf__min_samples_leaf': 1, 'clf__n_estimators': 20}</td>\n",
       "      <td>0.574728</td>\n",
       "      <td>4</td>\n",
       "    </tr>\n",
       "    <tr>\n",
       "      <th>60</th>\n",
       "      <td>{'clf__max_depth': 25, 'clf__min_samples_leaf': 1, 'clf__n_estimators': 15}</td>\n",
       "      <td>0.568535</td>\n",
       "      <td>5</td>\n",
       "    </tr>\n",
       "    <tr>\n",
       "      <th>...</th>\n",
       "      <td>...</td>\n",
       "      <td>...</td>\n",
       "      <td>...</td>\n",
       "    </tr>\n",
       "    <tr>\n",
       "      <th>15</th>\n",
       "      <td>{'clf__max_depth': 10, 'clf__min_samples_leaf': 4, 'clf__n_estimators': 15}</td>\n",
       "      <td>0.351382</td>\n",
       "      <td>76</td>\n",
       "    </tr>\n",
       "    <tr>\n",
       "      <th>2</th>\n",
       "      <td>{'clf__max_depth': 10, 'clf__min_samples_leaf': 1, 'clf__n_estimators': 25}</td>\n",
       "      <td>0.350959</td>\n",
       "      <td>77</td>\n",
       "    </tr>\n",
       "    <tr>\n",
       "      <th>6</th>\n",
       "      <td>{'clf__max_depth': 10, 'clf__min_samples_leaf': 2, 'clf__n_estimators': 20}</td>\n",
       "      <td>0.350384</td>\n",
       "      <td>78</td>\n",
       "    </tr>\n",
       "    <tr>\n",
       "      <th>10</th>\n",
       "      <td>{'clf__max_depth': 10, 'clf__min_samples_leaf': 3, 'clf__n_estimators': 15}</td>\n",
       "      <td>0.349608</td>\n",
       "      <td>79</td>\n",
       "    </tr>\n",
       "    <tr>\n",
       "      <th>11</th>\n",
       "      <td>{'clf__max_depth': 10, 'clf__min_samples_leaf': 3, 'clf__n_estimators': 20}</td>\n",
       "      <td>0.348952</td>\n",
       "      <td>80</td>\n",
       "    </tr>\n",
       "  </tbody>\n",
       "</table>\n",
       "<p>80 rows × 3 columns</p>\n",
       "</div>"
      ],
      "text/plain": [
       "                                                                         params  \\\n",
       "64  {'clf__max_depth': 25, 'clf__min_samples_leaf': 1, 'clf__n_estimators': 35}   \n",
       "63  {'clf__max_depth': 25, 'clf__min_samples_leaf': 1, 'clf__n_estimators': 30}   \n",
       "62  {'clf__max_depth': 25, 'clf__min_samples_leaf': 1, 'clf__n_estimators': 25}   \n",
       "61  {'clf__max_depth': 25, 'clf__min_samples_leaf': 1, 'clf__n_estimators': 20}   \n",
       "60  {'clf__max_depth': 25, 'clf__min_samples_leaf': 1, 'clf__n_estimators': 15}   \n",
       "..                                                                          ...   \n",
       "15  {'clf__max_depth': 10, 'clf__min_samples_leaf': 4, 'clf__n_estimators': 15}   \n",
       "2   {'clf__max_depth': 10, 'clf__min_samples_leaf': 1, 'clf__n_estimators': 25}   \n",
       "6   {'clf__max_depth': 10, 'clf__min_samples_leaf': 2, 'clf__n_estimators': 20}   \n",
       "10  {'clf__max_depth': 10, 'clf__min_samples_leaf': 3, 'clf__n_estimators': 15}   \n",
       "11  {'clf__max_depth': 10, 'clf__min_samples_leaf': 3, 'clf__n_estimators': 20}   \n",
       "\n",
       "    mean_test_score  rank_test_score  \n",
       "64         0.585611                1  \n",
       "63         0.582798                2  \n",
       "62         0.579789                3  \n",
       "61         0.574728                4  \n",
       "60         0.568535                5  \n",
       "..              ...              ...  \n",
       "15         0.351382               76  \n",
       "2          0.350959               77  \n",
       "6          0.350384               78  \n",
       "10         0.349608               79  \n",
       "11         0.348952               80  \n",
       "\n",
       "[80 rows x 3 columns]"
      ]
     },
     "execution_count": 10,
     "metadata": {},
     "output_type": "execute_result"
    }
   ],
   "source": [
    "df_grid.sort_values(\"rank_test_score\", ascending=True)"
   ]
  },
  {
   "cell_type": "markdown",
   "id": "b1af5e7b",
   "metadata": {},
   "source": [
    "# Evaluating our best model\n",
    "\n",
    "Let's set aside some data for validation (test set). We'll do our cross validation using only the training data and use the test data for reporting."
   ]
  },
  {
   "cell_type": "code",
   "execution_count": 11,
   "id": "1dbc708e",
   "metadata": {},
   "outputs": [],
   "source": [
    "from sklearn.model_selection import train_test_split"
   ]
  },
  {
   "cell_type": "code",
   "execution_count": 12,
   "id": "f800f65d",
   "metadata": {},
   "outputs": [],
   "source": [
    "X_train, X_test, y_train, y_test = train_test_split(\n",
    "    X, y, test_size=0.2, stratify=y, random_state=42\n",
    ")"
   ]
  },
  {
   "cell_type": "code",
   "execution_count": 13,
   "id": "55cb7d27",
   "metadata": {},
   "outputs": [],
   "source": [
    "# Preprocessing\n",
    "from sklearn.compose import make_column_selector\n",
    "from sklearn.pipeline import make_pipeline, Pipeline\n",
    "from sklearn.preprocessing import StandardScaler, OneHotEncoder\n",
    "from sklearn.compose import ColumnTransformer\n",
    "\n",
    "# Model\n",
    "from sklearn.ensemble import RandomForestClassifier\n",
    "\n",
    "# set up preprocessing for numeric columns\n",
    "scaler = StandardScaler()\n",
    "\n",
    "# set up preprocessing for categorical columns\n",
    "ohe = OneHotEncoder()\n",
    "\n",
    "# select columns by data type\n",
    "num_cols = make_column_selector(dtype_include=\"number\")\n",
    "cat_cols = make_column_selector(dtype_exclude=\"number\")\n",
    "\n",
    "# Build categorical preprocessor\n",
    "categorical_pipe = make_pipeline(ohe)\n",
    "\n",
    "# Build numeric processor\n",
    "numeric_pipe = make_pipeline(scaler)\n",
    "\n",
    "# Full processor\n",
    "full = ColumnTransformer(\n",
    "    transformers=[\n",
    "        (\"categorical\", categorical_pipe, cat_cols),\n",
    "        (\"numeric\", numeric_pipe, num_cols),\n",
    "    ]\n",
    ")\n",
    "\n",
    "# Tuned model\n",
    "model = RandomForestClassifier(\n",
    "    n_estimators=35, min_samples_leaf=1, max_depth=25, class_weight=\"balanced\"\n",
    ")\n",
    "\n",
    "# Final pipeline combined with model\n",
    "pipeline = Pipeline(\n",
    "    steps=[\n",
    "        (\"preprocess\", full),\n",
    "        (\"clf\", model),\n",
    "    ]\n",
    ")"
   ]
  },
  {
   "cell_type": "code",
   "execution_count": 14,
   "id": "5a47bd83-41e1-45b5-ada5-a65795f15a48",
   "metadata": {},
   "outputs": [],
   "source": [
    "from sklearn.model_selection import cross_val_score\n",
    "from sklearn.metrics import make_scorer, f1_score\n",
    "from sklearn.model_selection import RepeatedStratifiedKFold"
   ]
  },
  {
   "cell_type": "markdown",
   "id": "cf06794b-d94f-4928-b5d2-fb6d13a73aec",
   "metadata": {},
   "source": [
    "## F1 metric"
   ]
  },
  {
   "cell_type": "code",
   "execution_count": 15,
   "id": "144b698d-f0e4-4029-bf0e-99d0d89d3f45",
   "metadata": {},
   "outputs": [],
   "source": [
    "f1 = make_scorer(f1_score, average=\"weighted\")\n",
    "\n",
    "cv = RepeatedStratifiedKFold(n_splits=5, n_repeats=3, random_state=42)\n",
    "\n",
    "scores = cross_val_score(pipeline, X_train, y_train, scoring=(f1), cv=cv)"
   ]
  },
  {
   "cell_type": "code",
   "execution_count": 16,
   "id": "a48f38c3-4229-4c04-bf52-14efcfded5c5",
   "metadata": {},
   "outputs": [
    {
     "data": {
      "text/plain": [
       "array([0.55146425, 0.55220989, 0.5509473 , 0.54945221, 0.5520434 ,\n",
       "       0.55265993, 0.55079002, 0.55114421, 0.55034635, 0.55214663,\n",
       "       0.5520726 , 0.55174809, 0.55058145, 0.55214759, 0.54998288])"
      ]
     },
     "execution_count": 16,
     "metadata": {},
     "output_type": "execute_result"
    }
   ],
   "source": [
    "scores"
   ]
  },
  {
   "cell_type": "code",
   "execution_count": 17,
   "id": "0f4c66eb-0dc3-43b4-8af7-c36b6b83eec2",
   "metadata": {},
   "outputs": [
    {
     "data": {
      "text/plain": [
       "0.5513157871625068"
      ]
     },
     "execution_count": 17,
     "metadata": {},
     "output_type": "execute_result"
    }
   ],
   "source": [
    "scores.mean()"
   ]
  },
  {
   "cell_type": "markdown",
   "id": "ae4ba2e6-dcf0-418d-943f-38a1d5549c16",
   "metadata": {},
   "source": [
    "## Fitting the model to train data"
   ]
  },
  {
   "cell_type": "code",
   "execution_count": 18,
   "id": "7b3723b2",
   "metadata": {},
   "outputs": [
    {
     "data": {
      "text/plain": [
       "Pipeline(steps=[('preprocess',\n",
       "                 ColumnTransformer(transformers=[('categorical',\n",
       "                                                  Pipeline(steps=[('onehotencoder',\n",
       "                                                                   OneHotEncoder())]),\n",
       "                                                  <sklearn.compose._column_transformer.make_column_selector object at 0x7fde88cf60d0>),\n",
       "                                                 ('numeric',\n",
       "                                                  Pipeline(steps=[('standardscaler',\n",
       "                                                                   StandardScaler())]),\n",
       "                                                  <sklearn.compose._column_transformer.make_column_selector object at 0x7fde85a4e810>)])),\n",
       "                ('clf',\n",
       "                 RandomForestClassifier(class_weight='balanced', max_depth=25,\n",
       "                                        n_estimators=35))])"
      ]
     },
     "execution_count": 18,
     "metadata": {},
     "output_type": "execute_result"
    }
   ],
   "source": [
    "pipeline.fit(X_train, y_train)"
   ]
  },
  {
   "cell_type": "markdown",
   "id": "cbeccef4-db3d-49aa-a0b1-ca9d3b7d6c6d",
   "metadata": {},
   "source": [
    "## Classification report"
   ]
  },
  {
   "cell_type": "code",
   "execution_count": 19,
   "id": "4f359cdb-61b3-4530-8f93-eab8336d4a18",
   "metadata": {},
   "outputs": [],
   "source": [
    "from sklearn.metrics import classification_report"
   ]
  },
  {
   "cell_type": "code",
   "execution_count": 20,
   "id": "47364426-0323-483a-91dd-eccb9970341f",
   "metadata": {},
   "outputs": [
    {
     "name": "stdout",
     "output_type": "stream",
     "text": [
      "              precision    recall  f1-score   support\n",
      "\n",
      "        Goal       0.62      0.99      0.76     57286\n",
      " Missed Shot       0.97      0.95      0.96    236366\n",
      "        Shot       0.99      0.94      0.96    556368\n",
      "\n",
      "    accuracy                           0.95    850020\n",
      "   macro avg       0.86      0.96      0.90    850020\n",
      "weighted avg       0.96      0.95      0.95    850020\n",
      "\n"
     ]
    }
   ],
   "source": [
    "# Classification reports - train\n",
    "train_preds = pipeline.predict(X_train)\n",
    "print(classification_report(y_train, train_preds))"
   ]
  },
  {
   "cell_type": "code",
   "execution_count": 21,
   "id": "9714c147-c8c6-47f5-baf4-67143213924c",
   "metadata": {},
   "outputs": [
    {
     "name": "stdout",
     "output_type": "stream",
     "text": [
      "              precision    recall  f1-score   support\n",
      "\n",
      "        Goal       0.17      0.20      0.18     14322\n",
      " Missed Shot       0.33      0.16      0.21     59092\n",
      "        Shot       0.67      0.80      0.73    139092\n",
      "\n",
      "    accuracy                           0.58    212506\n",
      "   macro avg       0.39      0.39      0.38    212506\n",
      "weighted avg       0.54      0.58      0.55    212506\n",
      "\n"
     ]
    }
   ],
   "source": [
    "# Classification reports - test\n",
    "test_preds = pipeline.predict(X_test)\n",
    "print(classification_report(y_test, test_preds))"
   ]
  },
  {
   "cell_type": "code",
   "execution_count": 22,
   "id": "8855dab4",
   "metadata": {},
   "outputs": [],
   "source": [
    "# Evaluating base model\n",
    "import matplotlib.pyplot as plt\n",
    "from sklearn.metrics import ConfusionMatrixDisplay, confusion_matrix\n",
    "\n",
    "\n",
    "def confusion_plot(model, X, y):\n",
    "    \"\"\" \"\"\"\n",
    "    y_pred = model.predict(X)\n",
    "\n",
    "    # Plot the confusion matrix\n",
    "    fig, ax = plt.subplots(figsize=(12, 8))\n",
    "    # Create the matrix\n",
    "    cm = confusion_matrix(y, y_pred)\n",
    "    cmp = ConfusionMatrixDisplay(cm, display_labels=model.classes_)\n",
    "    cmp.plot(ax=ax)\n",
    "    plt.xticks(rotation=70)\n",
    "\n",
    "    ax.grid(False)\n",
    "    plt.show();"
   ]
  },
  {
   "cell_type": "code",
   "execution_count": 23,
   "id": "02168582-3db0-4dbc-9044-ed8a598c0018",
   "metadata": {},
   "outputs": [
    {
     "data": {
      "image/png": "[encoded data removed]",
      "text/plain": [
       "<Figure size 864x576 with 2 Axes>"
      ]
     },
     "metadata": {
      "needs_background": "light"
     },
     "output_type": "display_data"
    }
   ],
   "source": [
    "confusion_plot(pipeline, X_train, y_train)"
   ]
  },
  {
   "cell_type": "code",
   "execution_count": 24,
   "id": "1a87efee",
   "metadata": {},
   "outputs": [
    {
     "data": {
      "image/png": "[encoded data removed]",
      "text/plain": [
       "<Figure size 864x576 with 2 Axes>"
      ]
     },
     "metadata": {
      "needs_background": "light"
     },
     "output_type": "display_data"
    }
   ],
   "source": [
    "confusion_plot(pipeline, X_test, y_test)"
   ]
  },
  {
   "cell_type": "markdown",
   "id": "f7b2f413",
   "metadata": {},
   "source": [
    "We can make this confusion matrix a bit more informative:\n",
    "* In the call to the `confusion_matrix()` method, we add the argument `normalize='true'` to get the values normalized over the true values.\n",
    "* In the call to the `ConfusionMatrixDisplay()` method we multiply our `cm` by 100 to get the annotations as percentage."
   ]
  },
  {
   "cell_type": "code",
   "execution_count": 25,
   "id": "dda26a51",
   "metadata": {},
   "outputs": [],
   "source": [
    "def confusion_plot(model, X, y):\n",
    "    \"\"\"\n",
    "    \"\"\"\n",
    "    y_pred = model.predict(X)\n",
    "\n",
    "    # Plot the confusion matrix\n",
    "    fig, ax = plt.subplots(figsize=(12, 8))\n",
    "    # Create the matrix\n",
    "    cm = confusion_matrix(y, y_pred, normalize='true')\n",
    "    cmp = ConfusionMatrixDisplay(cm*100, display_labels=model.classes_)\n",
    "    cmp.plot(ax=ax)\n",
    "    plt.xticks(rotation=70)\n",
    "\n",
    "    ax.grid(False)\n",
    "    plt.show();"
   ]
  },
  {
   "cell_type": "code",
   "execution_count": 26,
   "id": "3ff7a913-cba9-402a-a26f-c5fa9046a263",
   "metadata": {},
   "outputs": [
    {
     "data": {
      "image/png": "[encoded data removed]",
      "text/plain": [
       "<Figure size 864x576 with 2 Axes>"
      ]
     },
     "metadata": {
      "needs_background": "light"
     },
     "output_type": "display_data"
    }
   ],
   "source": [
    "confusion_plot(pipeline, X_train, y_train)"
   ]
  },
  {
   "cell_type": "code",
   "execution_count": 27,
   "id": "fbe5e145",
   "metadata": {},
   "outputs": [
    {
     "data": {
      "image/png": "[encoded data removed]",
      "text/plain": [
       "<Figure size 864x576 with 2 Axes>"
      ]
     },
     "metadata": {
      "needs_background": "light"
     },
     "output_type": "display_data"
    }
   ],
   "source": [
    "confusion_plot(pipeline, X_test, y_test)"
   ]
  },
  {
   "cell_type": "markdown",
   "id": "9e6fba56",
   "metadata": {},
   "source": [
    "Wow, that's a hard task!"
   ]
  }
 ],
 "metadata": {
  "kernelspec": {
   "display_name": "Python 3 (ipykernel)",
   "language": "python",
   "name": "python3"
  },
  "language_info": {
   "codemirror_mode": {
    "name": "ipython",
    "version": 3
   },
   "file_extension": ".py",
   "mimetype": "text/x-python",
   "name": "python",
   "nbconvert_exporter": "python",
   "pygments_lexer": "ipython3",
   "version": "3.7.7"
  }
 },
 "nbformat": 4,
 "nbformat_minor": 5
}
